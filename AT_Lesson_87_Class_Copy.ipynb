{
  "nbformat": 4,
  "nbformat_minor": 0,
  "metadata": {
    "kernelspec": {
      "display_name": "Python 3",
      "language": "python",
      "name": "python3"
    },
    "language_info": {
      "codemirror_mode": {
        "name": "ipython",
        "version": 3
      },
      "file_extension": ".py",
      "mimetype": "text/x-python",
      "name": "python",
      "nbconvert_exporter": "python",
      "pygments_lexer": "ipython3",
      "version": "3.7.4"
    },
    "colab": {
      "provenance": [],
      "include_colab_link": true
    }
  },
  "cells": [
    {
      "cell_type": "markdown",
      "metadata": {
        "id": "view-in-github",
        "colab_type": "text"
      },
      "source": [
        "<a href=\"https://colab.research.google.com/github/nalinis07/APT_Class_Copy_Links/blob/MASTER/AT_Lesson_87_Class_Copy.ipynb\" target=\"_parent\"><img src=\"https://colab.research.google.com/assets/colab-badge.svg\" alt=\"Open In Colab\"/></a>"
      ]
    },
    {
      "cell_type": "markdown",
      "metadata": {
        "id": "AoAxuAHs5L0H"
      },
      "source": [
        "# Lesson 87: Support Vector Machines - MNIST Digits Classification II"
      ]
    },
    {
      "cell_type": "markdown",
      "metadata": {
        "id": "fjXPI6VcNHS7"
      },
      "source": [
        "### Teacher-Student Activities\n",
        "\n",
        "In the previous classes, you learn to visualise a grayscale image using its pixel values. In this class, you will learn the following:\n",
        "\n",
        "1. Normalise the pixel value of an image.\n",
        "2. Build an SVM model using the linear kernel to classify images.\n",
        "\n",
        "Let's quickly go through the activities covered in the previous class and begin this class from **Activity 1: Feature Scaling or Normalisation** section.\n",
        "\n",
        "**Data Description**\n",
        "\n",
        "For this problem, we will use the MNIST data which is a huge dataset containing handwritten digits. We don't have actual images rather we have its pixels.\n",
        "\n",
        "Since each image has $28 \\times 28$ pixels and each pixel form a feature. There are 784 features. These features are recorded in CSV files. One for the training a model and another for testing the model. The **pixel values** of each digit (image) comprise the features, and the actual number between 0 and 9 is the label.\n",
        "\n",
        "Here are the examples of the images of the handwritten used in the dataset.\n",
        "\n",
        "<center><img src = \"https://s3-whjr-v2-prod-bucket.whjr.online/359b49aa-47db-46f6-b4e7-7b3d8dc99f46.png\" width = 700></center>\n",
        "\n"
      ]
    },
    {
      "cell_type": "markdown",
      "metadata": {
        "id": "pZz1p9pU8cW0"
      },
      "source": [
        "---"
      ]
    },
    {
      "cell_type": "markdown",
      "metadata": {
        "id": "MVOpqsCpASgy"
      },
      "source": [
        "#### Loading Data\n",
        "\n",
        "Let's load both the training and the test datasets. Here are the links to the required two CSV files.\n",
        "\n",
        "1. **Train set:** https://s3-student-datasets-bucket.whjr.online/whitehat-ds-datasets/mnist-digits-recognition/train.csv\n",
        "\n",
        "2. **Test set:** https://s3-student-datasets-bucket.whjr.online/whitehat-ds-datasets/mnist-digits-recognition/test.csv\n",
        "\n",
        "**Dataset credits:** http://yann.lecun.com/exdb/mnist/"
      ]
    },
    {
      "cell_type": "code",
      "metadata": {
        "id": "XxTOqeUTNHS8"
      },
      "source": [
        "# Import the libraries and load the CSV files.\n",
        "import numpy as np\n",
        "import pandas as pd\n",
        "import matplotlib.pyplot as plt\n",
        "import seaborn as sns\n",
        "\n",
        "train_csv_path = \"https://s3-student-datasets-bucket.whjr.online/whitehat-ds-datasets/mnist-digits-recognition/train.csv\"\n",
        "test_csv_path = \"https://s3-student-datasets-bucket.whjr.online/whitehat-ds-datasets/mnist-digits-recognition/test.csv\"\n",
        "train_df = pd.read_csv(train_csv_path) #reading the csv files using pandas\n",
        "test_df = pd.read_csv(test_csv_path)"
      ],
      "execution_count": null,
      "outputs": []
    },
    {
      "cell_type": "markdown",
      "metadata": {
        "id": "kvrGc_uV-Ce3"
      },
      "source": [
        "Now, get the information on both data frames."
      ]
    },
    {
      "cell_type": "code",
      "metadata": {
        "id": "c145tM8gNHTD"
      },
      "source": [
        "# Get the information on the train dataset.\n",
        "train_df.info()"
      ],
      "execution_count": null,
      "outputs": []
    },
    {
      "cell_type": "markdown",
      "metadata": {
        "id": "CczlJz2o99q4"
      },
      "source": [
        "There are 42000 rows and 785 columns in the training dataset."
      ]
    },
    {
      "cell_type": "code",
      "metadata": {
        "id": "t7iuVqFC93zm"
      },
      "source": [
        "# Get the information on the test dataset.\n",
        "test_df.info()"
      ],
      "execution_count": null,
      "outputs": []
    },
    {
      "cell_type": "markdown",
      "metadata": {
        "id": "-4wf93Nf-Dsi"
      },
      "source": [
        "There are 28000 rows and 784 columns in the test dataset. This means we don't have the labels column for the test set."
      ]
    },
    {
      "cell_type": "code",
      "metadata": {
        "id": "rqHisQi4DHE8"
      },
      "source": [
        "# Print the first and last five columns of both the test and train datasets.\n",
        "print(f\"Test set:\\n{'-' * 100}\\nFirst five columns -> {list(test_df.columns[:5])}\\nLast five columns -> {list(test_df.columns[-5:])}\\n\")\n",
        "print(f\"Train set:\\n{'-' * 100}\\nFive five columns -> {list(train_df.columns[:5])}\\nLast five columns -> {list(train_df.columns[-5:])}\")"
      ],
      "execution_count": null,
      "outputs": []
    },
    {
      "cell_type": "markdown",
      "metadata": {
        "id": "jI6lJ4cTFkgk"
      },
      "source": [
        "As you can see, the train set has the `label` column but the test set doesn't.\n",
        "\n",
        "Now, let's print the first five rows of the data frame containing the train set."
      ]
    },
    {
      "cell_type": "code",
      "metadata": {
        "id": "F92-YVA0NHTB"
      },
      "source": [
        "# Print the first ten rows of the data frame containing the train set.\n",
        "train_df.head(10) # printing first five columns of train_data"
      ],
      "execution_count": null,
      "outputs": []
    },
    {
      "cell_type": "markdown",
      "metadata": {
        "id": "F0wNQndPNHTC"
      },
      "source": [
        "As you can see:\n",
        "\n",
        "- The first row contains the pixel values of the image of the handwritten digit $1$.\n",
        "\n",
        "- Similarly, the second row contains the pixel values of the image of the handwritten digit $0$.\n",
        "\n",
        "- Similarly, the third row contains the pixel values of the image of the handwritten digit $1$.\n",
        "\n",
        "\n",
        "$$\\vdots$$\n",
        "\n",
        "- The $10^{\\text{th}}$ row contains the pixel values of the image of the handwritten digit $3$.\n",
        "\n",
        "Let's print the image of the digit $4$.\n"
      ]
    },
    {
      "cell_type": "markdown",
      "metadata": {
        "id": "QTf4rMVMKFI4"
      },
      "source": [
        "---"
      ]
    },
    {
      "cell_type": "markdown",
      "metadata": {
        "id": "dUgUI4VnKF6J"
      },
      "source": [
        "#### The `matplotlib.pyplot.imshow()` Function\n",
        "\n",
        "To display an image from its pixel values, you can use the `imshow()` function of the `matplotlib.pyplot` module. So, to create the image of the digit 4 from its pixel values, we will follow the steps given below:\n",
        "\n",
        "1. Create a 1D array containing the pixel values from the training data frame for the image and store it in a variable.\n",
        "\n",
        "2. Then reshape the above array into a 2D array having 28 rows and 28 columns.\n",
        "\n",
        "3. Use the `imshow()` function of the `matplotlib.pyplot` module and pass the following inputs to the function:\n",
        "   - The $28 \\times 28$ array containing the pixel values of an image\n",
        "   \n",
        "   - The colour mapping value for the image. We will create a grayscale image hence, we will set the colormapping value using the parameters `cmap = 'gray', vmin = 0, vmax = 255`.\n",
        "\n",
        "   **Note:** There are other parameters that can be passed to `imshow()` function as inputs. But for now, we will pass the above parameters only.\n",
        "\n",
        "4. Provide the title to the image.\n",
        "\n"
      ]
    },
    {
      "cell_type": "code",
      "metadata": {
        "id": "Uwt_m9_VNHTG"
      },
      "source": [
        "# Display the image of the handwritten digit 4 from the train data frame.\n",
        "four_pixels = train_df.iloc[3, 1:]\n",
        "four_pixels = four_pixels.values.reshape(28, 28) # The 'values' attrtibute gets the values of the Pandas series in the form of a NumPy array.\n",
        "\n",
        "plt.figure(figsize = (5, 5), dpi = 81)\n",
        "plt.title(\"Handwritten Digit 4\", fontsize = 16)\n",
        "plt.imshow(four_pixels, cmap = 'gray', vmin = 0, vmax = 255)\n",
        "plt.show()"
      ],
      "execution_count": null,
      "outputs": []
    },
    {
      "cell_type": "markdown",
      "metadata": {
        "id": "DJS7ASwRVHAH"
      },
      "source": [
        "In the above code:\n",
        "\n",
        "- `four_pixels = train_df.iloc[3, 1:]` part gets the pixel values of the image of the digit 4 that are stored in the $4^{\\text{th}}$ row of the data frame.\n",
        "\n",
        "- `four_pixels = four_pixels.values.reshape(28, 28)` part first gets the pixel values from the Pandas series in the form of a NumPy array and then reshapes the 1D array into a 2D array having 28 rows and 28 columns.\n",
        "\n",
        "- `plt.figure(figsize = (5, 5), dpi = 81)` part sets the figure size.\n",
        "\n",
        "- `plt.title(\"Handwritten Digit 4\", fontsize = 16)` part sets the title of the plot.\n",
        "\n",
        "- `plt.imshow(four_pixels, cmap = 'gray', vmin = 0, vmax = 255)` part creates a 2D image in gray colour.\n",
        "\n",
        "If you look at the axes of the above image, you can see that nearly the first four and last three rows are blank. Similarly, the first five and last five columns are blank which is denoted by the black colour. So let's print the rows 5 to 26 and columns 5 to 25 of the `four_pixel` NumPy array to see the pixel values of the image of the handwritten digit 4."
      ]
    },
    {
      "cell_type": "code",
      "metadata": {
        "id": "-Fkm4LOr8YJ8"
      },
      "source": [
        "# Print the rows 5 to 26 and columns 5 to 25 of the 'four_pixel' NumPy array to see the pixel values of the image of the handwritten digit 4.\n",
        "print(four_pixels[4:-2, 5:-5])"
      ],
      "execution_count": null,
      "outputs": []
    },
    {
      "cell_type": "markdown",
      "metadata": {
        "id": "w3TY_397dH-E"
      },
      "source": [
        "From the above output, you can see the non-zero pixel values arranged in the pattern of digit 4.\n",
        "\n",
        "**It is to be noted that the pixel values for a grayscale image range from 0 to 255.**\n",
        "\n",
        "You can also look at the descriptive statistics for the first 10 images in the train data frame."
      ]
    },
    {
      "cell_type": "markdown",
      "metadata": {
        "id": "lH-Lm10wpYrc"
      },
      "source": [
        "---\n"
      ]
    },
    {
      "cell_type": "markdown",
      "metadata": {
        "id": "4d-EOIJFpZlI"
      },
      "source": [
        "#### The `pandas.set_index()` Function\n",
        "\n",
        "Before printing the descriptive statistics values of the first 10 images in the train data frame, let's learn the `set_index()` function of the `pandas` module. It is used to set another column or 1D array as an index of a Pandas data frame.\n",
        "\n",
        "**Syntax:** `pandas_dataframe.set_index(keys, inplace = False)`\n",
        "\n",
        "where\n",
        "\n",
        "- `keys` is an existing column in a `pandas_dataframe` or a new Pandas series having the same length as the number of rows in `pandas_dataframe`.\n",
        "- `inplace` is a parameter that defines whether the indices to be set temporarily (locally) or permanently (globally). `inplace = False` means set index temporarily (locally)"
      ]
    },
    {
      "cell_type": "code",
      "metadata": {
        "id": "4fx4w1v9pKFD"
      },
      "source": [
        "# Set the indices of the 'train_df' data frame temporarily to the values in the 'label' column.\n",
        "train_df.set_index('label', inplace = False)"
      ],
      "execution_count": null,
      "outputs": []
    },
    {
      "cell_type": "markdown",
      "metadata": {
        "id": "aD1y2c9E3kyX"
      },
      "source": [
        "As you can see, the indices of the `train_df` are the values of the `label` column. To verify whether the change is temporary, you may print the first five rows of the `train_df` data frame again.\n",
        "\n",
        "Now let's calculate the mean, std, min, quartiles and max values of the pixels of the first 10 images present in the `train_df` data frame."
      ]
    },
    {
      "cell_type": "code",
      "metadata": {
        "id": "V2LZoS7UoH-y"
      },
      "source": [
        "# Print descriptive statistics for the pixel values of first 10 images in the train data frame.\n",
        "train_df.set_index('label').head(10).T.describe() # Setting the 'label' as index column from the data frame."
      ],
      "execution_count": null,
      "outputs": []
    },
    {
      "cell_type": "markdown",
      "metadata": {
        "id": "GVorLow2npMR"
      },
      "source": [
        "As you can see, the pixel values for a grayscale image goes from 0 to 255.\n",
        "\n",
        "Now, to practice the usage of the `imshow()` function, let's create an image of another handwritten digit, say $6$ from the pixel values of its image. For this, first, you will have to get the rows that contain the pixel values of the images of $6$.\n"
      ]
    },
    {
      "cell_type": "code",
      "metadata": {
        "id": "iNDod6jTnQ-7"
      },
      "source": [
        "# Create a data frame from the training data frame that contain the pixel values of the images of the digit 6.\n",
        "six_pixels_train_df = train_df.loc[train_df['label'] == 6, :]\n",
        "six_pixels_train_df"
      ],
      "execution_count": null,
      "outputs": []
    },
    {
      "cell_type": "markdown",
      "metadata": {
        "id": "nuRkZ85_otGS"
      },
      "source": [
        "Now, from the above data frame, let's create an image of the first instance of the image of digit $6$. Its index is 21."
      ]
    },
    {
      "cell_type": "code",
      "metadata": {
        "id": "6siXaz5Po3MU"
      },
      "source": [
        "# Create an image from the pixel values of the image of the digit 6 that are stored in row 21.\n",
        "six_pixels = train_df.iloc[21, 1:]\n",
        "six_pixels = six_pixels.values.reshape(28, 28)\n",
        "\n",
        "plt.figure(figsize = (5, 5), dpi = 81)\n",
        "plt.title(\"Digit 6\", fontsize = 16)\n",
        "plt.imshow(six_pixels, cmap = \"gray\", vmin = 0, vmax = 255)\n",
        "plt.show()"
      ],
      "execution_count": null,
      "outputs": []
    },
    {
      "cell_type": "markdown",
      "metadata": {
        "id": "muTSTM1ZhtuJ"
      },
      "source": [
        "Now, let's print the part of the array containing the pixel values of the above image such that their arrangement resembles the digit 6."
      ]
    },
    {
      "cell_type": "code",
      "metadata": {
        "id": "dNUpypU-hz3U"
      },
      "source": [
        "# S3.8: Print the rows 2 to 22 and columns 5 to 21 of the 'six_pixels' array.\n",
        "print(six_pixels[2:23, 5:22])"
      ],
      "execution_count": null,
      "outputs": []
    },
    {
      "cell_type": "markdown",
      "metadata": {
        "id": "QXDFdHH4UvdO"
      },
      "source": [
        "Now, for a machine learning algorithm (in this case, SVM), to correctly identify an image for a digit, it has to figure out the arrangement of pixel values for a digit on a 2D grid (in this case, $28 \\times 28$ grid).\n",
        "\n",
        "Knowing this, we can now build a machine learning model (in this case, SVM) to classify the images of different handwritten digits.\n"
      ]
    },
    {
      "cell_type": "markdown",
      "metadata": {
        "id": "udFauOp_W1K8"
      },
      "source": [
        "---"
      ]
    },
    {
      "cell_type": "markdown",
      "metadata": {
        "id": "-gPc2jucW2H5"
      },
      "source": [
        "#### Check for Data Imbalance\n",
        "\n",
        "Before building a classification model, let's check whether the training dataset is imbalanced or not."
      ]
    },
    {
      "cell_type": "code",
      "metadata": {
        "id": "ULOdGX5ZWyY2"
      },
      "source": [
        "# Find out the counts of records for each digit in the training dataset.\n",
        "train_df['label'].value_counts(dropna = False, normalize = True) * 100"
      ],
      "execution_count": null,
      "outputs": []
    },
    {
      "cell_type": "markdown",
      "metadata": {
        "id": "RQWjNtq_XohZ"
      },
      "source": [
        "**Note:**\n",
        "\n",
        "1. The `dropna = False` parameter counts the number of `NA` or `null` values if they are present in a Pandas series.\n",
        "\n",
        "2. The `normalize = True` parameter calculates the count of a value as the fraction of the total number of records.\n",
        "\n",
        "From the count of labels, we can see that the training dataset is balanced. Hence, we can now proceed to build a classification model."
      ]
    },
    {
      "cell_type": "markdown",
      "metadata": {
        "id": "BmsLe4Kn_jYk"
      },
      "source": [
        "---"
      ]
    },
    {
      "cell_type": "markdown",
      "metadata": {
        "id": "PfXom6ybtpoP"
      },
      "source": [
        "#### Activity 1: Feature Scaling or Normalisation\n",
        "\n",
        "Now that we have ensured that there is no data imbalance, let's scale down the pixel values of each image because the support vector machines is sensitive the numeric data. Also, in the case of large values, the time taken to train an SVM model will be high.  \n",
        "\n",
        "So let's divide each pixel value for each image by 255 (the greatest pixel value for a grayscale image) to reduce the values between 0 and 1.\n",
        "\n"
      ]
    },
    {
      "cell_type": "code",
      "metadata": {
        "id": "P36ZejSR7T5T"
      },
      "source": [
        "# S1.1: Create features and target data frames and divide each pixel for each image by 255.0\n"
      ],
      "execution_count": null,
      "outputs": []
    },
    {
      "cell_type": "markdown",
      "metadata": {
        "id": "ZAnG78fcy1dz"
      },
      "source": [
        "As you can see, the maximum pixel value of all the images is 1 (or nearly 1) instead of 255 (or 254).\n",
        "\n",
        "In the code,\n",
        "\n",
        "```\n",
        "features_train.set_index(keys = target_train_actual, inplace = False).T.describe()\n",
        "```\n",
        "\n",
        "we first set the indices of the `features_train` data frame to the image labels (or digits) using the `set_index()` function, then the `T` attribute is used to take transpose (interchange of rows and columns) of the data frame and then on the transposed data frame, the `describe()` function is called to get min, max etc values for each image label pixel values."
      ]
    },
    {
      "cell_type": "markdown",
      "metadata": {
        "id": "sgiVqviTtosZ"
      },
      "source": [
        "---"
      ]
    },
    {
      "cell_type": "markdown",
      "metadata": {
        "id": "1bM6HKkESwoA"
      },
      "source": [
        "#### Activity 2: Model Building^\n",
        "\n",
        "Let's build a preliminary SVM classification model to classify the images of digits.\n",
        "\n",
        "**Note:** Since there are 42000 training samples (or image samples or rows), the SVC model will take some time (about 4 to 6 minutes) to train.\n",
        "\n"
      ]
    },
    {
      "cell_type": "code",
      "metadata": {
        "id": "7n47d4-uDULU"
      },
      "source": [
        "# S2.1: Build an SVC model with the linear kernel.\n"
      ],
      "execution_count": null,
      "outputs": []
    },
    {
      "cell_type": "markdown",
      "metadata": {
        "id": "LhkvmeRB1XI9"
      },
      "source": [
        "Now that we have built a classification model using support vector machines, let's get the predicted digts and them compare the predicted values with the actual values.\n",
        "\n",
        "**Note:** The code below may take 3 to 5 minutes to execute."
      ]
    },
    {
      "cell_type": "code",
      "metadata": {
        "id": "P_NviSbx8Oxr"
      },
      "source": [
        "# S2.2: Predict the target values for the training set.\n"
      ],
      "execution_count": null,
      "outputs": []
    },
    {
      "cell_type": "markdown",
      "metadata": {
        "id": "ob1vzneug21d"
      },
      "source": [
        "Now let's create a confusion matrix to check for misclassification."
      ]
    },
    {
      "cell_type": "code",
      "metadata": {
        "id": "Cqptww02XdkW"
      },
      "source": [
        "# S2.3: Create a confusion matrix to check for misclassification.\n"
      ],
      "execution_count": null,
      "outputs": []
    },
    {
      "cell_type": "markdown",
      "metadata": {
        "id": "4_322oSVia_a"
      },
      "source": [
        "From the above confusion matrix, you can see that the count of the correct classification of all the digits is on the scale of $10^3$. Compared to them, misclassification counts are negligible.\n",
        "\n",
        "Let's print the precision, recall and f1-score values to further evaluate the efficacy of the model."
      ]
    },
    {
      "cell_type": "code",
      "metadata": {
        "id": "gSIvj8jPi5Bk"
      },
      "source": [
        "# S2.4: Print the precision, recall and f1-score values to further evaluate the efficacy of the model.\n"
      ],
      "execution_count": null,
      "outputs": []
    },
    {
      "cell_type": "markdown",
      "metadata": {
        "id": "pTFQFMd6kaIr"
      },
      "source": [
        "The f1-scores for all the labels (or digits) are almost equal to 1. This implies that the SVC model built to classify digits is very accurate. So now let's predict the digits on the test set."
      ]
    },
    {
      "cell_type": "markdown",
      "metadata": {
        "id": "uRdACs5JiaG0"
      },
      "source": [
        "---"
      ]
    },
    {
      "cell_type": "markdown",
      "metadata": {
        "id": "r9bEVlz3kwFa"
      },
      "source": [
        "#### Activity 3: Prediction on Test Set^^\n",
        "\n",
        "We already know that the test set does not have a label column. So don't need to separate the features and target variables. But we do need to normalise the features in the test set as well with the same technique used for the train set. Hence, we will divide each pixel value in the test set by 255.\n",
        "\n"
      ]
    },
    {
      "cell_type": "code",
      "metadata": {
        "id": "ctCL0aZ4lCZR"
      },
      "source": [
        "# S3.1: Divide each pixel value in the test set by 255. Also, for each image pixels, print the minimum and maximum pixel values.\n"
      ],
      "execution_count": null,
      "outputs": []
    },
    {
      "cell_type": "markdown",
      "metadata": {
        "id": "Ujit202onW0V"
      },
      "source": [
        "Now let's predict the digits for the test set using the SVC model that we just built.\n",
        "\n",
        "**Note:** The code below may take 3 to 5 minutes to execute."
      ]
    },
    {
      "cell_type": "code",
      "metadata": {
        "id": "m3TTgZHlnf1K"
      },
      "source": [
        "# S3.2: Predict the digits for the test set using the SVC model built above.\n"
      ],
      "execution_count": null,
      "outputs": []
    },
    {
      "cell_type": "markdown",
      "metadata": {
        "id": "ezS5KovJoQTx"
      },
      "source": [
        "Now let's get the count of the predicted labels (or handwritten digits) to see their distribution."
      ]
    },
    {
      "cell_type": "code",
      "metadata": {
        "id": "XvEcewVApAEZ"
      },
      "source": [
        "# S3.3: Get the count of the predicted labels (or handwritten digits) to see their distribution.\n"
      ],
      "execution_count": null,
      "outputs": []
    },
    {
      "cell_type": "markdown",
      "metadata": {
        "id": "mi9p6AxUptne"
      },
      "source": [
        "It seems that the handwritten digits in the test set are quite uniformly distributed."
      ]
    },
    {
      "cell_type": "markdown",
      "metadata": {
        "id": "YWigVx68SgMV"
      },
      "source": [
        "---"
      ]
    },
    {
      "cell_type": "markdown",
      "metadata": {
        "id": "g7SkeGSyqWNK"
      },
      "source": [
        "#### Activity 4: Visualising Digits^^^\n",
        "\n",
        "Let's now visualise at least one-one sample from each digit. But first, let's add a new column called `label` to the `test_df` data frame so that its values are the predicted labels (or digits). Make sure that the column is added to the column index = 0 location."
      ]
    },
    {
      "cell_type": "code",
      "metadata": {
        "id": "ZQxOdCWGqsE3"
      },
      "source": [
        "# S4.1: Add 'label' at column index = 0 to the 'test_df' data frame so that its values are the predicted labels (or digits).\n"
      ],
      "execution_count": null,
      "outputs": []
    },
    {
      "cell_type": "markdown",
      "metadata": {
        "id": "LbUKz3yW5tsd"
      },
      "source": [
        "Lets's display the first 5 rows of the modified `test_df` data frame."
      ]
    },
    {
      "cell_type": "code",
      "metadata": {
        "id": "-5Xkhl1Tr5X3"
      },
      "source": [
        "# S4.2: Display the first 5 rows of the modified 'test_df' data frame.\n"
      ],
      "execution_count": null,
      "outputs": []
    },
    {
      "cell_type": "markdown",
      "metadata": {
        "id": "BjpsYRQU54Fu"
      },
      "source": [
        "Now let's group all the rows of the `test_df` data frame by the `label` column so that pixel values of images of a digit can be clubbed together and a sample of a digit can be retrieved easily later.\n",
        "\n",
        "Eg., you can easily retrieve one of the sample images of digit 0 from a data frame containing pixel values of all the image samples of the digit 0 only."
      ]
    },
    {
      "cell_type": "code",
      "metadata": {
        "id": "uU6wgHgOsX1y"
      },
      "source": [
        "# S4.3: Group all the rows of the 'test_df' data frame by the 'label' column. Also, get a data frame containing pixel values of images of digit 0.\n"
      ],
      "execution_count": null,
      "outputs": []
    },
    {
      "cell_type": "markdown",
      "metadata": {
        "id": "r7_kj-rU6tzc"
      },
      "source": [
        "Now, let's create an image from the pixel values of one of the samples of digit 0."
      ]
    },
    {
      "cell_type": "code",
      "metadata": {
        "id": "ORWNXNeisrYY"
      },
      "source": [
        "# S4.4: Create an image from the pixel values of one of the samples of digit 0.\n"
      ],
      "execution_count": null,
      "outputs": []
    },
    {
      "cell_type": "markdown",
      "metadata": {
        "id": "VfyPx4Prt3Bs"
      },
      "source": [
        "Indeed the predicted image is 0. Let's create an image of one of the sample images of digit three."
      ]
    },
    {
      "cell_type": "code",
      "metadata": {
        "id": "v322fEruuHC_"
      },
      "source": [
        "# S4.5: Get a data frame containing pixel values of all images of digit 3 from 'grouped_test_df' data frame.\n"
      ],
      "execution_count": null,
      "outputs": []
    },
    {
      "cell_type": "markdown",
      "metadata": {
        "id": "M0DTdBqe8RqR"
      },
      "source": [
        "Now, let's create an image of one of the sample images of digit 3."
      ]
    },
    {
      "cell_type": "code",
      "metadata": {
        "id": "vhwhnTmmuQVO"
      },
      "source": [
        "# S4.6: Create an image of one of the sample images of digit 3.\n"
      ],
      "execution_count": null,
      "outputs": []
    },
    {
      "cell_type": "markdown",
      "metadata": {
        "id": "gvlp7iWi8YUO"
      },
      "source": [
        "You can also create a Python function to visualise exactly one sample image of each digit that exists in the `test_df` data frame. This function takes the digit as input for which one sample image needs to be created and returns the corresponding image as an output. Let's refer to this input value by the `digit_in_grouped_df` variable.\n",
        "\n",
        "In this function:\n",
        "\n",
        "1. Get a data frame containing the pixel values of all the images for a digit (referred to as `digit_in_grouped_df`).\n",
        "\n",
        "2. For this digit (referred to as `digit_in_grouped_df`), get the row number of its first sample in the `test_df` data frame.\n",
        "\n",
        "3. Create a $28 \\times 28$ 2D NumPy array for the pixel values of this sample image for the digit.\n",
        "\n",
        "4. Use the NumPy array, to create the required image.\n",
        "\n",
        "After creating the Python function, use a for loop to generate numbers from 0 to 0 (including both) and then create one sample image that exists in the `test_df` data frame corresponding to these digits."
      ]
    },
    {
      "cell_type": "code",
      "metadata": {
        "id": "UkjAFa05vruY"
      },
      "source": [
        "# S4.7: Create a Python function to visualise exactly one sample image of a digit that exists in the 'test_df' data frame. Also, create the images.\n"
      ],
      "execution_count": null,
      "outputs": []
    },
    {
      "cell_type": "markdown",
      "metadata": {
        "id": "slGpHYkH-lLf"
      },
      "source": [
        "As you can see, we have created images for one sample corresponding to each handwritten digit that exists in the `test_df` data frame.\n",
        "\n",
        "**Note:** A couple of images may be misclassified because the prediction model that we built using the linear kernel of support vector machines is not 100% accurate. Also, we are creating the image of the first sample of a digit that exists in the `test_df` data frame. It may not be necessarily predicted correctly.\n",
        "\n",
        "In the above code:\n",
        "\n",
        "1. `digit_pixels_df = grouped_test_df.get_group(digit_in_grouped_test_df)` creates a data frame for all the pixel values of the images of only a particular digit (referred to as `digit_in_grouped_test_df`)\n",
        "\n",
        "2. `digit_pixels_row_number = digit_pixels_df.index.values[0]` gets the row number for the first occurance of the pixel values of an image of a digit that exists in the `test_df`.\n",
        "\n",
        "3. `digit_pixels_array = test_df.iloc[digit_pixels_row_number, 1:].values.reshape(28, 28)` creates a 2D NumPy array of $28 \\times 28$ shape containing the pixel values of one sample image for a digt that appears first time in the `test_df` data frame.\n",
        "\n",
        "4. ```\n",
        "  plt.figure(figsize = (6, 6), dpi = 81)\n",
        "  plt.title(f\"Handwritten Digit {digit_in_grouped_test_df}\", fontsize = 15)\n",
        "  plt.imshow(digit_pixels_array, cmap = \"gray\", vmin = 0, vmax = 255)\n",
        "  plt.show()\n",
        "  ```\n",
        "  creates image for the pixel values of one sample image for a digt that appears first time in the `test_df` data frame.\n",
        "\n",
        "So this is how you can classify images using the linear kernel of an SVC model.\n",
        "\n",
        "Let's stop here. In the next class, you will learn more about SVM."
      ]
    },
    {
      "cell_type": "markdown",
      "metadata": {
        "id": "OV0-_DzDqVnO"
      },
      "source": [
        "----"
      ]
    },
    {
      "cell_type": "markdown",
      "metadata": {
        "id": "QacBrprgYDdc"
      },
      "source": [
        "### **Project**\n",
        "You can now attempt the **Applied Tech. Project 87 - Support Vector Machines - MNIST Digits Classification II** on your own.\n",
        "\n",
        "**Applied Tech. Project 87 - Support Vector Machines - MNIST Digits Classification II**: https://colab.research.google.com/drive/1TNhwOp6IDpbbhBwd1b4GiyqNhLgbrRVq"
      ]
    },
    {
      "cell_type": "markdown",
      "metadata": {
        "id": "ZXBN_pbEYN9y"
      },
      "source": [
        "---"
      ]
    }
  ]
}