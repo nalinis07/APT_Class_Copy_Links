{
  "nbformat": 4,
  "nbformat_minor": 0,
  "metadata": {
    "kernelspec": {
      "display_name": "Python 3",
      "language": "python",
      "name": "python3"
    },
    "language_info": {
      "codemirror_mode": {
        "name": "ipython",
        "version": 3
      },
      "file_extension": ".py",
      "mimetype": "text/x-python",
      "name": "python",
      "nbconvert_exporter": "python",
      "pygments_lexer": "ipython3",
      "version": "3.7.4"
    },
    "colab": {
      "provenance": [],
      "include_colab_link": true
    }
  },
  "cells": [
    {
      "cell_type": "markdown",
      "metadata": {
        "id": "view-in-github",
        "colab_type": "text"
      },
      "source": [
        "<a href=\"https://colab.research.google.com/github/nalinis07/APT_Class_Copy_Links/blob/MASTER/Copy_of_AT_Lesson_86_Class_Copy.ipynb\" target=\"_parent\"><img src=\"https://colab.research.google.com/assets/colab-badge.svg\" alt=\"Open In Colab\"/></a>"
      ]
    },
    {
      "cell_type": "markdown",
      "metadata": {
        "id": "AoAxuAHs5L0H"
      },
      "source": [
        "# Lesson 86: Support Vector Machines - MNIST Digits Classification"
      ]
    },
    {
      "cell_type": "markdown",
      "metadata": {
        "id": "fjXPI6VcNHS7"
      },
      "source": [
        "### Teacher-Student Activities\n",
        "\n",
        "In the previous classes, you learn to build an SVM model to predict different species of Iris flower. In general, you learn to build a multiclass classification model using SVM. In this class, you will learn to classify images using SVM. In particular, you will learn to classify the images of handwritten digits using SVM.\n",
        "\n",
        "\n",
        "**Data Description**\n",
        "\n",
        "For this problem, we will use the MNIST data which is a huge dataset containing handwritten digits. We don't have actual images rather we have its pixels.\n",
        "\n",
        "Since each image has $28 \\times 28$ pixels and each pixel form a feature. There are 784 features. These features are recorded in CSV files. One for the training a model and another for testing the model. The **pixel values** of each digit (image) comprise the features, and the actual number between 0 and 9 is the label.\n",
        "\n",
        "Here are the examples of the images of the handwritten used in the dataset.\n",
        "\n",
        "<center><img src = \"https://s3-whjr-v2-prod-bucket.whjr.online/359b49aa-47db-46f6-b4e7-7b3d8dc99f46.png\" width = 700></center>\n"
      ]
    },
    {
      "cell_type": "markdown",
      "metadata": {
        "id": "pZz1p9pU8cW0"
      },
      "source": [
        "---"
      ]
    },
    {
      "cell_type": "markdown",
      "metadata": {
        "id": "MVOpqsCpASgy"
      },
      "source": [
        "#### Activity 1: Loading Data^\n",
        "\n",
        "Let's load both the training and the test datasets. Here are the links to the required two CSV files:\n",
        "\n",
        "1. **Train set:** https://s3-student-datasets-bucket.whjr.online/whitehat-ds-datasets/mnist-digits-recognition/train.csv\n",
        "\n",
        "2. **Test set:** https://s3-student-datasets-bucket.whjr.online/whitehat-ds-datasets/mnist-digits-recognition/test.csv\n",
        "\n",
        "**Dataset credits:**\n",
        "```\n",
        "LeCun, Y., Cortes, C., & Burges, C. (2010). MNIST handwritten digit database. ATT Labs [Online].\n",
        " http://yann.lecun.com/exdb/mnist/\n",
        "```"
      ]
    },
    {
      "cell_type": "code",
      "metadata": {
        "id": "XxTOqeUTNHS8"
      },
      "source": [
        "# S1.1: Import the libraries and load the CSV files.\n"
      ],
      "execution_count": null,
      "outputs": []
    },
    {
      "cell_type": "markdown",
      "metadata": {
        "id": "2gOkNtWM95so"
      },
      "source": [
        "Now, get the information on the both DataFrames."
      ]
    },
    {
      "cell_type": "code",
      "metadata": {
        "id": "c145tM8gNHTD"
      },
      "source": [
        "# S1.2: Get the information on the train dataset.\n"
      ],
      "execution_count": null,
      "outputs": []
    },
    {
      "cell_type": "markdown",
      "metadata": {
        "id": "CczlJz2o99q4"
      },
      "source": [
        "There are 42000 rows and 785 columns in the train dataset."
      ]
    },
    {
      "cell_type": "code",
      "metadata": {
        "id": "t7iuVqFC93zm"
      },
      "source": [
        "# S1.3: Get the information on the test dataset.\n"
      ],
      "execution_count": null,
      "outputs": []
    },
    {
      "cell_type": "markdown",
      "metadata": {
        "id": "-4wf93Nf-Dsi"
      },
      "source": [
        "There are 28000 rows and 784 columns in the test dataset. This means we don't have the labels column for the test set. You verify this by printing the first and last five columns of the test set."
      ]
    },
    {
      "cell_type": "code",
      "metadata": {
        "id": "rqHisQi4DHE8"
      },
      "source": [
        "# S1.4: Print the first and last five columns of both the test and train datasets.\n"
      ],
      "execution_count": null,
      "outputs": []
    },
    {
      "cell_type": "markdown",
      "metadata": {
        "id": "jI6lJ4cTFkgk"
      },
      "source": [
        "As you can see, the train set has the `label` column but the test set doesn't.\n",
        "\n",
        "Now, let's print the first ten rows of the DataFrame containing the train set."
      ]
    },
    {
      "cell_type": "code",
      "metadata": {
        "id": "F92-YVA0NHTB"
      },
      "source": [
        "# S1.5: Print the first ten rows of the DataFrame containing the train set.\n"
      ],
      "execution_count": null,
      "outputs": []
    },
    {
      "cell_type": "markdown",
      "metadata": {
        "id": "F0wNQndPNHTC"
      },
      "source": [
        "As you can see:\n",
        "\n",
        "- The first row contains the pixel values of the image of the handwritten digit $1$.\n",
        "\n",
        "- Similarly, the second row contains the pixel values of the image of the handwritten digit $0$.\n",
        "\n",
        "- Similarly, the third row contains the pixel values of the image of the handwritten digit $1$.\n",
        "\n",
        "\n",
        "$$\\vdots$$\n",
        "\n",
        "- The $10^{\\text{th}}$ row contains the pixel values of the image of the handwritten digit $3$.\n",
        "\n",
        "Let's print the image of the digit $4$.\n"
      ]
    },
    {
      "cell_type": "markdown",
      "metadata": {
        "id": "QTf4rMVMKFI4"
      },
      "source": [
        "---"
      ]
    },
    {
      "cell_type": "markdown",
      "metadata": {
        "id": "dUgUI4VnKF6J"
      },
      "source": [
        "#### Activity 2: The `matplotlib.pyplot.imshow()` Function^^\n",
        "\n",
        "To display an image from its pixel values, you can use the `imshow()` function of the `matplotlib.pyplot` module. So, to create the image of the digit 4 from its pixel values, we will follow the steps given below:\n",
        "\n",
        "1. Create a 1D array containing the pixel values from the training DataFrame for the image and store it in a variable.\n",
        "\n",
        "2. Then reshape the above array into a 2D array having 28 rows and 28 columns.\n",
        "\n",
        "3. Use the `imshow()` function of the `matplotlib.pyplot` module and pass the following inputs to the function:\n",
        "   - The $28 \\times 28$ array containing the pixel values of an image\n",
        "   \n",
        "   - The colour mapping value for the image. We will create a grayscale image hence, we will set the colormapping value using the parameters `cmap = 'gray', vmin = 0, vmax = 255`.\n",
        "\n",
        "   **Note:** There are other parameters that can be passed to `imshow()` function as inputs. But for now, we will pass the above parameters only.\n",
        "\n",
        "4. Provide the title to the image.\n",
        "\n"
      ]
    },
    {
      "cell_type": "code",
      "metadata": {
        "id": "Uwt_m9_VNHTG"
      },
      "source": [
        "# S2.1: Display the image of the handwritten digit 4 from the train DataFrame.\n"
      ],
      "execution_count": null,
      "outputs": []
    },
    {
      "cell_type": "markdown",
      "metadata": {
        "id": "DJS7ASwRVHAH"
      },
      "source": [
        "In the above code:\n",
        "\n",
        "- `four_pixels = train_df.iloc[3, 1:]` part gets the pixel values of the image of the digit 4 that are stored in the $4^{\\text{th}}$ row of the DataFrame.\n",
        "\n",
        "- `four_pixels = four_pixels.values.reshape(28, 28)` part first gets the pixel values from the Pandas series in the form of a NumPy array and then reshapes the 1D array into a 2D array having 28 rows and 28 columns.\n",
        "\n",
        "- `plt.figure(figsize = (5, 5), dpi = 81)` part sets the figure size.\n",
        "\n",
        "- `plt.title(\"Handwritten Digit 4\", fontsize = 16)` part sets the title of the plot.\n",
        "\n",
        "- `plt.imshow(four_pixels, cmap = 'gray', vmin = 0, vmax = 255)` part creates a 2D image in gray colour.\n",
        "\n",
        "If you look at the axes of the above image, you can see that nearly the first four and last three rows are blank. Similarly, the first five and last five columns are blank which is denoted by the black colour. So let's print the rows 5 to 26 and columns 5 to 25 of the `four_pixel` NumPy array to see the pixel values of the image of the handwritten digit 4."
      ]
    },
    {
      "cell_type": "code",
      "metadata": {
        "id": "-Fkm4LOr8YJ8"
      },
      "source": [
        "# S2.2: Print the rows 5 to 26 and columns 5 to 25 of the 'four_pixel' NumPy array to see the pixel values of the image of the handwritten digit 4.\n"
      ],
      "execution_count": null,
      "outputs": []
    },
    {
      "cell_type": "markdown",
      "metadata": {
        "id": "w3TY_397dH-E"
      },
      "source": [
        "From the above output, you can see the non-zero pixel values arranged in the pattern of digit 4.\n",
        "\n",
        "**It is to be noted that the pixel values for a grayscale image range from 0 to 255.**\n",
        "\n",
        "You can also look at the descriptive statistics for the first 10 images in the train DataFrame."
      ]
    },
    {
      "cell_type": "markdown",
      "metadata": {
        "id": "lH-Lm10wpYrc"
      },
      "source": [
        "---\n"
      ]
    },
    {
      "cell_type": "markdown",
      "metadata": {
        "id": "4d-EOIJFpZlI"
      },
      "source": [
        "#### Activity 3: The `pandas.set_index()` Function^^^\n",
        "\n",
        "Before printing the descriptive statistics values of the first 10 images in the train DataFrame, let's learn the `set_index()` function of the `pandas` module. It is used to set another column or 1D array as an index of a Pandas DataFrame.\n",
        "\n",
        "**Syntax:** `pandas_dataframe.set_index(keys, inplace = False)`\n",
        "\n",
        "where\n",
        "\n",
        "- `keys` is an existing column in a `pandas_dataframe` or a new Pandas series having the same length as the number of rows in `pandas_dataframe`.\n",
        "- `inplace` is a parameter that defines whether the indices to be set temporarily (locally) or permanently (globally). `inplace = False` means set index temporarily (locally)"
      ]
    },
    {
      "cell_type": "code",
      "metadata": {
        "id": "4fx4w1v9pKFD"
      },
      "source": [
        "# S3.1: Set the indices of the 'train_df' DataFrame temporarily to the values in the 'label' column.\n"
      ],
      "execution_count": null,
      "outputs": []
    },
    {
      "cell_type": "markdown",
      "metadata": {
        "id": "aD1y2c9E3kyX"
      },
      "source": [
        "As you can see, the indices of the `train_df` are the values of the `label` column. To verify whether the change is temporary, you may print the first five rows of the `train_df` DataFrame again."
      ]
    },
    {
      "cell_type": "code",
      "metadata": {
        "id": "LNtR3H_QpLes"
      },
      "source": [
        "# S3.2: Print the first-five rows of the 'train_df' DataFrame.\n"
      ],
      "execution_count": null,
      "outputs": []
    },
    {
      "cell_type": "markdown",
      "metadata": {
        "id": "qgy92abh4HcR"
      },
      "source": [
        "As you can see, the indices of the `train_df` are consecutive whole numbers.\n",
        "\n",
        "You can set any other values as indices of a Pandas DataFrame. So let's test this theory by temporarily setting `row 0, row 1, row 2 ... ` values as indices of the `train_df` DataFrame."
      ]
    },
    {
      "cell_type": "code",
      "metadata": {
        "id": "Ax_L5Hwx5N_5"
      },
      "source": [
        "# S3.3: Create a Pandas series containing the 'row 0, row 1, row 2 ...' values.\n"
      ],
      "execution_count": null,
      "outputs": []
    },
    {
      "cell_type": "markdown",
      "metadata": {
        "id": "EXt41u3xJz_I"
      },
      "source": [
        "Now replace the original indices with the values stored in the above Pandas series."
      ]
    },
    {
      "cell_type": "code",
      "metadata": {
        "id": "jr6eUDxL4obN"
      },
      "source": [
        "# S3.4: Temporarily replace the original indices with the values stored in the above Pandas series.\n"
      ],
      "execution_count": null,
      "outputs": []
    },
    {
      "cell_type": "markdown",
      "metadata": {
        "id": "hCL19SafKJ2u"
      },
      "source": [
        "Now let's calculate the mean, std, min, quartiles, and max values of the pixels of the first 10 images present in the `train_df` DataFrame:"
      ]
    },
    {
      "cell_type": "code",
      "metadata": {
        "id": "V2LZoS7UoH-y"
      },
      "source": [
        "# S3.5: Print descriptive statistics for the pixel values of first 10 images in the train DataFrame.\n"
      ],
      "execution_count": null,
      "outputs": []
    },
    {
      "cell_type": "markdown",
      "metadata": {
        "id": "GVorLow2npMR"
      },
      "source": [
        "As you can see, the pixel values for a grayscale image goes from 0 to 255.\n",
        "\n",
        "Now, to practice the usage of the `imshow()` function, let's create an image of another handwritten digit, say $6$ from the pixel values of its image. For this, first, you will have to get the rows that contain the pixel values of the images of $6$.\n"
      ]
    },
    {
      "cell_type": "code",
      "metadata": {
        "id": "iNDod6jTnQ-7"
      },
      "source": [
        "# S3.6: Create a DataFrame from the training DataFrame that contain the pixel values of the images of the digit 6.\n"
      ],
      "execution_count": null,
      "outputs": []
    },
    {
      "cell_type": "markdown",
      "metadata": {
        "id": "nuRkZ85_otGS"
      },
      "source": [
        "Now, from the above DataFrame, let's create an image of the first instance of the image of digit $6$. Its index is 21."
      ]
    },
    {
      "cell_type": "code",
      "metadata": {
        "id": "6siXaz5Po3MU"
      },
      "source": [
        "# S3.7: Create an image from the pixel values of the image of the digit 6 that are stored in row 21.\n"
      ],
      "execution_count": null,
      "outputs": []
    },
    {
      "cell_type": "markdown",
      "metadata": {
        "id": "muTSTM1ZhtuJ"
      },
      "source": [
        "Now, let's print the part of the array containing the pixel values of the above image such that their arrangement resembles the digit 6."
      ]
    },
    {
      "cell_type": "code",
      "metadata": {
        "id": "dNUpypU-hz3U"
      },
      "source": [
        "# S3.8: Print the rows 2 to 22 and columns 5 to 21 of the 'six_pixels' array.\n"
      ],
      "execution_count": null,
      "outputs": []
    },
    {
      "cell_type": "markdown",
      "metadata": {
        "id": "QXDFdHH4UvdO"
      },
      "source": [
        "Now, for a machine learning algorithm (in this case, SVM), to correctly identify an image for a digit, it has to figure out the arrangement of pixel values for a digit on a 2D grid (in this case, $28 \\times 28$ grid).\n",
        "\n",
        "Knowing this, we can now build a machine learning model (in this case, SVM) to classify the images of different handwritten digits.\n"
      ]
    },
    {
      "cell_type": "markdown",
      "metadata": {
        "id": "udFauOp_W1K8"
      },
      "source": [
        "---"
      ]
    },
    {
      "cell_type": "markdown",
      "metadata": {
        "id": "-gPc2jucW2H5"
      },
      "source": [
        "#### Activity 4: Check for Data Imbalance\n",
        "\n",
        "Before building a classification model, let's check whether the training dataset is imbalanced or not."
      ]
    },
    {
      "cell_type": "code",
      "metadata": {
        "id": "ULOdGX5ZWyY2"
      },
      "source": [
        "# S4.1: Find out the counts of records for each digit in the training dataset.\n"
      ],
      "execution_count": null,
      "outputs": []
    },
    {
      "cell_type": "markdown",
      "metadata": {
        "id": "RQWjNtq_XohZ"
      },
      "source": [
        "**Note:**\n",
        "\n",
        "1. The `dropna = False` parameter counts the number of `NA` or `null` values if they are present in a Pandas series.\n",
        "\n",
        "2. The `normalize = True` parameter calculates the count of a value as the fraction of the total number of records.\n",
        "\n",
        "From the count of labels, we can see that the training dataset is balanced. Hence, we can now proceed to build a classification model."
      ]
    },
    {
      "cell_type": "markdown",
      "metadata": {
        "id": "BmsLe4Kn_jYk"
      },
      "source": [
        "---"
      ]
    },
    {
      "cell_type": "markdown",
      "metadata": {
        "id": "SR4n1QVhXsJ9"
      },
      "source": [
        "### **Project**\n",
        "You can now attempt the **Applied Tech Project 86 - Support Vector Machines - MNIST Digits Classification** on your own.\n",
        "\n",
        "**Applied Tech Project 86 - Support Vector Machines - MNIST Digits Classification**: https://colab.research.google.com/drive/1Q_65eybSFJ6dCCmb7xkux72tkLBu2I1H"
      ]
    },
    {
      "cell_type": "markdown",
      "metadata": {
        "id": "Onf1aMESX2cl"
      },
      "source": [
        "---"
      ]
    }
  ]
}