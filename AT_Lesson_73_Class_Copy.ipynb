{
  "nbformat": 4,
  "nbformat_minor": 0,
  "metadata": {
    "colab": {
      "provenance": [],
      "include_colab_link": true
    },
    "kernelspec": {
      "name": "python3",
      "display_name": "Python 3"
    }
  },
  "cells": [
    {
      "cell_type": "markdown",
      "metadata": {
        "id": "view-in-github",
        "colab_type": "text"
      },
      "source": [
        "<a href=\"https://colab.research.google.com/github/nalinis07/APT_Class_Copy_Links/blob/MASTER/AT_Lesson_73_Class_Copy.ipynb\" target=\"_parent\"><img src=\"https://colab.research.google.com/assets/colab-badge.svg\" alt=\"Open In Colab\"/></a>"
      ]
    },
    {
      "cell_type": "markdown",
      "metadata": {
        "id": "F2cCUUgEuhKm"
      },
      "source": [
        "# Lesson 73: Logistic Regression - Univariate Classification II"
      ]
    },
    {
      "cell_type": "markdown",
      "metadata": {
        "id": "ze9uSJt-I-0E"
      },
      "source": [
        "### Teacher-Student Activities\n",
        "\n",
        "In this class, you  will learn a concept called the **sigmoid** function that is used by logistic regression to perform classification."
      ]
    },
    {
      "cell_type": "markdown",
      "metadata": {
        "id": "p8T9SB9W3kuR"
      },
      "source": [
        "----"
      ]
    },
    {
      "cell_type": "markdown",
      "metadata": {
        "id": "uE7EERr3iUsQ"
      },
      "source": [
        "### Recap"
      ]
    },
    {
      "cell_type": "code",
      "metadata": {
        "id": "x-ljB0Zr87CT"
      },
      "source": [
        "# Import the required modules and load the heart disease dataset.\n",
        "import numpy as np\n",
        "import pandas as pd\n",
        "import matplotlib.pyplot as plt\n",
        "import seaborn as sns\n",
        "\n",
        "csv_file = 'https://student-datasets-bucket.s3.ap-south-1.amazonaws.com/whitehat-ds-datasets/uci-heart-disease/heart.csv'\n",
        "df = pd.read_csv(csv_file)\n",
        "\n",
        "# Print the number of records with and without heart disease.\n",
        "print(\"Number of records in each label are\")\n",
        "print(df['target'].value_counts())\n",
        "\n",
        "# Print the percentage of each label\n",
        "print(\"\\nPercentage of records in each label are\")\n",
        "print(df['target'].value_counts() * 100 / df.shape[0], \"\\n\")\n",
        "\n",
        "# Print the first five rows of Dataframe.\n",
        "df.head()"
      ],
      "execution_count": null,
      "outputs": []
    },
    {
      "cell_type": "markdown",
      "metadata": {
        "id": "qw5HuSy1OWf1"
      },
      "source": [
        "-----"
      ]
    },
    {
      "cell_type": "markdown",
      "metadata": {
        "id": "HO30ZL7_mTXu"
      },
      "source": [
        "#### Activity 1: Sigmoid Function\n",
        "\n",
        "The sigmoid function, in maths, classifies any data point between **0** and **1**. The graph of a sigmoid function follows the shape of English letter **S**. Mathematically, the sigmoid function is given as\n",
        "\n",
        "$$y =  \\frac{1}{1 + e^{-x}}$$\n",
        "\n",
        "where,  \n",
        "\n",
        "- $y$ is the output of the sigmoid function\n",
        "\n",
        "- $x$ is an independent variable\n",
        "\n",
        "- $e$ is Euler's constant\n",
        "\n",
        "The $x$ takes all the values between $- \\infty$ to $\\infty$ i.e., $x \\in (-\\infty, \\infty)$ and the $y$ ranges between $0$ to $1$ i.e., $y \\in (0, 1)$.\n",
        "\n",
        "**Q: What is so great about sigmoid function in machine learning?**\n",
        "\n",
        "The sigmoid function in the context of machine learning returns the probability of occurrence of an event. As you know, the probability of an event ranges between 0 and 1. So does the output of the sigmoid function. Hence, usage of sigmoid function to calculate probabilities to classify outcomes (say 0 and 1) seems like a natural fit.\n",
        "\n",
        "Before we go deep into the sigmoid function, let's create a function in Python and name it `sigmoid()` that takes a series/array as an input and returns a numeric output.\n"
      ]
    },
    {
      "cell_type": "code",
      "metadata": {
        "id": "Lp0hj9SZiIAa"
      },
      "source": [
        "# S1.1: Create a sigmoid function using the above formula.\n"
      ],
      "execution_count": null,
      "outputs": []
    },
    {
      "cell_type": "markdown",
      "metadata": {
        "id": "Q_B6tCWkOZ6P"
      },
      "source": [
        "Now that you have the sigmoid function, you can calculate the probabilities of a few random integers between -10 and 10 and plot the output on a scatter plot with the corresponding input to see the shape of the curve."
      ]
    },
    {
      "cell_type": "code",
      "metadata": {
        "id": "G5GSRu-pjZwg"
      },
      "source": [
        "# S1.2: Create a numpy array having 100 random integers between -10 and 10. Pass the array as an input to the 'sigmoid()' function.\n"
      ],
      "execution_count": null,
      "outputs": []
    },
    {
      "cell_type": "markdown",
      "metadata": {
        "id": "lKA7I_ltj2nr"
      },
      "source": [
        "As you can see, the sigmoid function output is in the range of 0 to 1.\n",
        "\n",
        "Let's create a scatter plot between the random integers and their corresponding sigmoid function output to check the shape of the curve."
      ]
    },
    {
      "cell_type": "code",
      "metadata": {
        "id": "8CkVXsLGkBUc"
      },
      "source": [
        "# S1.3: Create a scatter plot for output array for the sigmoid function\n"
      ],
      "execution_count": null,
      "outputs": []
    },
    {
      "cell_type": "markdown",
      "metadata": {
        "id": "v60RyyD8lN_A"
      },
      "source": [
        "As you can see, the arrangement of the points appears to form a shape of the English letter 'S'.\n",
        "\n",
        "**Important Observations**\n",
        "\n",
        "- *Observation 1:* If $x = 0$, then the output of the sigmoid function is $y = 0.5$ because\n",
        "\n",
        "  $$y = \\frac{1}{1 + e^{0}} = \\frac{1}{1 + 1} = \\frac{1}{2} = 0.5$$\n",
        "\n",
        "  Similarly, if $x = -1$, then the output of the sigmoid function is $y < 0.5$ because\n",
        "\n",
        "  $$y = \\frac{1}{1 + e^{1}} = \\frac{1}{1 + 2.71} = \\frac{1}{3.71} < 0.5$$\n",
        "\n",
        "  And, if $x = 1$, then the output of the sigmoid function is $y > 0.5$ because\n",
        "\n",
        "  $$y = \\frac{1}{1 + e^{-1}} = \\frac{e}{e + 1} = \\frac{2.71}{3.71} = 0.73 > 0.5$$\n",
        "\n",
        "- *Observation 2:* From the curve, you can also see that as the values on the $x$-axis increase, the values on the $y$-axis also increase. So you can say that **the sigmoid curve is continuously increasing**.\n",
        "\n",
        "Based on the above two observations, you can say that the input values to the sigmoid function should be both negative and positive. Hence, before building a univariate logistic regression model, first inspect the polarity (i.e. sign) of values of the independent variable. If all the values are non-negative, then use the standard scaler method to normalise values so that you get a few negative values as well in the independent variable."
      ]
    },
    {
      "cell_type": "markdown",
      "metadata": {
        "id": "TetpyTkL8te7"
      },
      "source": [
        "---"
      ]
    },
    {
      "cell_type": "markdown",
      "metadata": {
        "id": "iOy3ckaFKgZd"
      },
      "source": [
        "#### Activity 2: Classification Criteria in Logistic Regression\n",
        "\n",
        "To classify an outcome as either **yes** or **no** (1 or 0), you need to randomly assign a probability value as the **threshold value**. Let's say the threshold probability value is $0.5$. If for any input value, the corresponding sigmoid function output is\n",
        "- less than 0.5, then you can label that outcome as 0 or **no**\n",
        "- else, you can label that outcome as 1 or **yes**.\n",
        "\n",
        "Let's create a function called `predict()` in Python that takes the output of the `sigmoid()` function and returns a Pandas series containing 0s and 1s as the output."
      ]
    },
    {
      "cell_type": "code",
      "metadata": {
        "id": "8jP5VnNCqv0y"
      },
      "source": [
        "# S2.1: Create the 'predict()' function as described above.\n"
      ],
      "execution_count": null,
      "outputs": []
    },
    {
      "cell_type": "markdown",
      "metadata": {
        "id": "kRccBz4WyVyC"
      },
      "source": [
        "In the above code,\n",
        "\n",
        "- we iterate through each item of the `sigmoid_output` series,\n",
        "\n",
        "- compare each item with the threshold value,\n",
        "\n",
        "- if the item is is greater than or equals to 0.5, we add `1` to a Python list, else add `0` to it,\n",
        "\n",
        "- convert the Python list to a Pandas series using the `pd.Series()` function,\n",
        "\n",
        "- return the Pandas series created\n",
        "\n",
        "Now let's use the `predict()` function to classify the `sigmoid()` function outputs as 0 and 1."
      ]
    },
    {
      "cell_type": "code",
      "metadata": {
        "id": "UnPmYQaFEk4v"
      },
      "source": [
        "# S2.2: Use the 'predict()' function to classify the 'sigmoid()' function outputs as 0 and 1.\n"
      ],
      "execution_count": null,
      "outputs": []
    },
    {
      "cell_type": "markdown",
      "metadata": {
        "id": "zR7SVwUZFFnv"
      },
      "source": [
        "Let's create a scatter plot between the random integers and their corresponding binary labels (i.e. 0 and 1)."
      ]
    },
    {
      "cell_type": "code",
      "metadata": {
        "id": "2gB-u_kHFELR"
      },
      "source": [
        "# S2.3: Create a scatter plot between the random integers and their corresponding binary labels (i.e. 0 and 1).\n"
      ],
      "execution_count": null,
      "outputs": []
    },
    {
      "cell_type": "markdown",
      "metadata": {
        "id": "1gaKaIwJTsc0"
      },
      "source": [
        "With different threshold values, you will get different classifications but the most optimal threshold value is that value which classifies most sigmoid function outputs correctly as 0 and 1.\n",
        "\n",
        "Let's consider five different threshold probability values and classify the sigmoid function outputs as 0 and 1 based on them. Let's also create their scatter plots."
      ]
    },
    {
      "cell_type": "code",
      "metadata": {
        "id": "Z6EB9UBamLXr"
      },
      "source": [
        "# S2.4: Consider 5 different threshold probability values and classify the sigmoid function outputs as 0 and 1 based on them.\n",
        "# Also create their scatter plots.\n"
      ],
      "execution_count": null,
      "outputs": []
    },
    {
      "cell_type": "markdown",
      "metadata": {
        "id": "_UUe1ZOjGelk"
      },
      "source": [
        "Now let's apply the same logic to classify the heart disease patients as 0 and 1 based on their cholesterol levels. But before that let's check the range of values in the `chol` column."
      ]
    },
    {
      "cell_type": "code",
      "metadata": {
        "id": "1pmRMY-f_vVc"
      },
      "source": [
        "# S2.5: Get the descriptive statistics for the 'chol' column.\n"
      ],
      "execution_count": null,
      "outputs": []
    },
    {
      "cell_type": "markdown",
      "metadata": {
        "id": "AJcKkR0lAhNK"
      },
      "source": [
        "As you can see, all the values in the cholesterol column are non-negative. Let's first normalise them by calculating their $Z$-scores (or standard scaler)."
      ]
    },
    {
      "cell_type": "code",
      "metadata": {
        "id": "evSbSoiEAzRm"
      },
      "source": [
        "# S2.6: Normalise the 'chol' column values using the standard scaler method.\n"
      ],
      "execution_count": null,
      "outputs": []
    },
    {
      "cell_type": "code",
      "metadata": {
        "id": "A1nKD8jq1qBj"
      },
      "source": [
        "# S2.7: Calculate the sigmoid output for both the scaled (or normalised) and non-scaled cholesterol values.\n"
      ],
      "execution_count": null,
      "outputs": []
    },
    {
      "cell_type": "markdown",
      "metadata": {
        "id": "iNhYkQIUEUgD"
      },
      "source": [
        "As you can see, all the probabilities (sigmoid outputs) for the non-scaled cholesterol values are 1 whereas they range between 0 and 1 for the scaled `chol` values.\n",
        "\n",
        "Now for different thresholds between 0 and 1, let's classify whether a patient has heart disease or not based on the scaled cholesterol values.\n",
        "\n"
      ]
    },
    {
      "cell_type": "code",
      "metadata": {
        "id": "t5G8OGnnE6f5"
      },
      "source": [
        "# S2.8: Consider 5 different threshold probability values and classify the sigmoid function outputs as 0 and 1 based on them.\n",
        "# Also create their scatter plots.\n"
      ],
      "execution_count": null,
      "outputs": []
    },
    {
      "cell_type": "markdown",
      "metadata": {
        "id": "Pvx4eJmLu-ta"
      },
      "source": [
        "Now let's find out the number of 1s and 0s classified by the `predict()` function w.r.t. the threshold of 0.5."
      ]
    },
    {
      "cell_type": "code",
      "metadata": {
        "id": "k3e85L9ISNRL"
      },
      "source": [
        "# S2.9: Find out the number of 1s and 0s classified by the 'predict()' function for a threshold of 0.5.\n"
      ],
      "execution_count": null,
      "outputs": []
    },
    {
      "cell_type": "markdown",
      "metadata": {
        "id": "YU-_F-1Ovbxv"
      },
      "source": [
        "As you can see the number of values classified as 0 and 1 is almost opposite to the number of actual 0s and 1s in the dataset.\n",
        "\n",
        "However, are the predicted 0s  correctly classified as 0s and the predicted 1s  correctly classified as 1s?\n",
        "\n",
        "Let's find out by creating a confusion matrix."
      ]
    },
    {
      "cell_type": "code",
      "metadata": {
        "id": "qC1UHVtCsFLQ"
      },
      "source": [
        "# S2.10: Create a confusion matrix for the predicted values.\n"
      ],
      "execution_count": null,
      "outputs": []
    },
    {
      "cell_type": "markdown",
      "metadata": {
        "id": "pI5_jyvGwkdu"
      },
      "source": [
        "There are a lot of false positives and false negatives in the predicted values. Let's print the f1-scores."
      ]
    },
    {
      "cell_type": "code",
      "metadata": {
        "id": "gf9wAus0wer8"
      },
      "source": [
        "# S2.11: Print the f1-scores for the predicted values.\n"
      ],
      "execution_count": null,
      "outputs": []
    },
    {
      "cell_type": "markdown",
      "metadata": {
        "id": "c8gCtw1tzR1z"
      },
      "source": [
        "The f1-scores are also lower. Hence, clearly, the cholesterol values alone cannot  accurately predict whether a person has heart disease or not. You need to consider more features to build a logistic regression model for this purpose.\n",
        "\n",
        "Let's stop here. In the next class, we will create a linear function using with one of the features in the dataset and pass it as an input to the sigmoid function."
      ]
    },
    {
      "cell_type": "markdown",
      "metadata": {
        "id": "xU23oaNKzqRK"
      },
      "source": [
        "---"
      ]
    },
    {
      "cell_type": "markdown",
      "metadata": {
        "id": "GpJDgaMwieGS"
      },
      "source": [
        "### **Project**\n",
        "\n",
        "You can now attempt the **Applied Tech. Project 73 - Logistic Regression I - Univariate Classification II** on your own.\n",
        "\n",
        "\n",
        "**Applied Tech. Project 73 - Logistic Regression I - Univariate Classification II**: https://colab.research.google.com/drive/15pzkxDsmwy4Nu5LoRygl8r5ZA7pAT8NH"
      ]
    },
    {
      "cell_type": "markdown",
      "metadata": {
        "id": "Vwoc1PELidXP"
      },
      "source": [
        "---"
      ]
    }
  ]
}