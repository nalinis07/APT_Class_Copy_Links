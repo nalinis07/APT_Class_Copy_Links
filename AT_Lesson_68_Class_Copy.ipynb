{
  "nbformat": 4,
  "nbformat_minor": 0,
  "metadata": {
    "colab": {
      "provenance": [],
      "include_colab_link": true
    },
    "kernelspec": {
      "name": "python3",
      "display_name": "Python 3"
    }
  },
  "cells": [
    {
      "cell_type": "markdown",
      "metadata": {
        "id": "view-in-github",
        "colab_type": "text"
      },
      "source": [
        "<a href=\"https://colab.research.google.com/github/nalinis07/APT_Class_Copy_Links/blob/MASTER/AT_Lesson_68_Class_Copy.ipynb\" target=\"_parent\"><img src=\"https://colab.research.google.com/assets/colab-badge.svg\" alt=\"Open In Colab\"/></a>"
      ]
    },
    {
      "cell_type": "markdown",
      "metadata": {
        "id": "cN_oEsXfM_LV"
      },
      "source": [
        "# Lesson 68: Car Price Prediction - Feature Encoding"
      ]
    },
    {
      "cell_type": "markdown",
      "metadata": {
        "id": "gFjOAv8nAhzQ"
      },
      "source": [
        "### Teacher-Student Activities\n",
        "\n",
        "In this class, you will learn to extract numeric values form non-numeric categorical columns using the one-hot encoding and dummy coding processes. You will also learn to calculate the adjusted R-squared value to evaluate a linear regression model.\n",
        "\n",
        "Let's quickly run the codes covered in the previous classes and begin this session from **Activity 1: Feature Encoding** section."
      ]
    },
    {
      "cell_type": "markdown",
      "metadata": {
        "id": "7rqO31eQB5O-"
      },
      "source": [
        "---"
      ]
    },
    {
      "cell_type": "markdown",
      "metadata": {
        "id": "f-uhY3ryaj4N"
      },
      "source": [
        "### Problem Statement\n",
        "\n",
        "Build a linear regression model to predict prices of cars based on its technical specifications such as car manufacturer, its engine capacity, fuel efficiency, body-type etc.\n",
        "\n",
        "**Dataset Description:**\n",
        "\n",
        "The dataset contains 205 rows and 26 columns. Each column represents an attribute of a car as described in the table below.\n",
        "\n",
        "|Sr No.|Attribute|Attribute Information|\n",
        "|-|-|-|\n",
        "|1|Car_ID|Unique id of each car (Interger)|\n",
        "|2|Symboling|Assigned insurance risk rating; a value of +3 indicates that the car is risky; -3 suggests that it is probably a safe car (Categorical)|\n",
        "|3|carCompany|Name of car company (Categorical)|\n",
        "|4|fueltype| fuel-type i.e. petrol or diesel (Categorical)|\n",
        "|5|aspiration|Aspiration used in a car (Categorical)|\n",
        "|6|doornumber|Number of doors in a car (Categorical)|\n",
        "|7|carbody|Body-type of a car (Categorical)|\n",
        "|8|drivewheel|Type of drive wheel (Categorical)|\n",
        "|9|enginelocation|Location of car engine (Categorical)|\n",
        "|10|wheelbase|Weelbase of car (Numeric)|\n",
        "|11|carlength|Length of car (Numeric)|\n",
        "|12|carwidth|Width of car (Numeric)|\n",
        "|13|carheight|Height of car (Numeric)|\n",
        "|14|curbweight|The weight of a car without occupants or baggage (Numeric)|\n",
        "|15|enginetype|Type of engine (Categorical)|\n",
        "|16|cylindernumber|Number of cylinders placed in the car engine (Categorical)||17|enginesize|Capacity of an engine (Numeric)|\n",
        "|18|fuelsystem|Fuel system of a car (Categorical)|\n",
        "|19|boreratio|Bore ratio of car (Numeric)|\n",
        "|20|stroke|Stroke or volume inside the engine (Numeric)|\n",
        "|21|compressionratio|Compression ratio of an engine (Numeric)|\n",
        "|22|horsepower|Power output of an engine (Numeric)|\n",
        "|23|peakrpm|Peak revolutions per minute (Numeric)|\n",
        "|24|citympg|Mileage in city (Numeric)|\n",
        "|25|highwaympg|Mileage on highway (Numeric)|\n",
        "|26|price(Dependent variable)|Price of a car (Numeric)|\n",
        "\n",
        "This data set consists of three types of entities:\n",
        "\n",
        "- the specification of an auto in terms of various characteristics,\n",
        "\n",
        "- its assigned insurance risk rating,\n",
        "\n",
        "- its normalised losses in use as compared to other cars.\n",
        "\n",
        "The second rating corresponds to the degree to which the auto is more risky than its price indicates. Cars are initially assigned a risk factor symbol associated with its price. Then, if it is more risky (or less), this symbol is adjusted by moving it up (or down) the scale. Actuarians call this process **symboling**. A value of $+3$ indicates that the auto is risky, $-3$ that it is probably pretty safe.\n",
        "\n",
        "The third factor is the relative average loss payment per insured vehicle year. This value is normalized for all autos within a particular size classification (two-door small, station wagons, sports/speciality etc.), and represents the average loss per car per year.\n",
        "\n",
        "**Note:** Several of the attributes in the database could be used as a \"class\" attribute.\n",
        "\n",
        "**Dataset source:** https://archive.ics.uci.edu/ml/datasets/Automobile\n",
        "\n",
        "\n",
        "The above dataset consists of data taken from 1985 Ward's Automotive Yearbook. Here's the list of original sources of the data:\n",
        "\n",
        "1. 1985 Model Import Car and Truck Specifications, 1985 Ward's Automotive Yearbook.\n",
        "\n",
        "2. Personal Auto Manuals, Insurance Services Office, 160 Water Street, New York, NY 10038\n",
        "\n",
        "3. Insurance Collision Report, Insurance Institute for Highway Safety, Watergate 600, Washington, DC 20037\n",
        "\n",
        "\n",
        "\n",
        "\n"
      ]
    },
    {
      "cell_type": "markdown",
      "metadata": {
        "id": "SZEA9P6hDG28"
      },
      "source": [
        "---"
      ]
    },
    {
      "cell_type": "markdown",
      "metadata": {
        "id": "keVeYBHNDHh8"
      },
      "source": [
        "#### Importing Modules & Reading Data\n",
        "\n",
        "https://student-datasets-bucket.s3.ap-south-1.amazonaws.com/whitehat-ds-datasets/car-prices.csv"
      ]
    },
    {
      "cell_type": "code",
      "metadata": {
        "id": "5f2emlnJM56A"
      },
      "source": [
        "# Import the modules, read the dataset and create a Pandas DataFrame.\n",
        "import numpy as np\n",
        "import pandas as pd\n",
        "import matplotlib.pyplot as plt\n",
        "import seaborn as sns\n",
        "\n",
        "# Read the dataset\n",
        "cars_df = pd.read_csv(\"https://s3-student-datasets-bucket.whjr.online/whitehat-ds-datasets/car-prices.csv\")\n",
        "cars_df.head()"
      ],
      "execution_count": null,
      "outputs": []
    },
    {
      "cell_type": "code",
      "metadata": {
        "id": "7SebX417NgFv"
      },
      "source": [
        "# Get the information on the dataset.\n",
        "cars_df.info()"
      ],
      "execution_count": null,
      "outputs": []
    },
    {
      "cell_type": "markdown",
      "metadata": {
        "id": "tVyfHrZaS0Zw"
      },
      "source": [
        "There are 0 missing or null values in the dataset. Also, a lot of features have non-numeric values."
      ]
    },
    {
      "cell_type": "markdown",
      "metadata": {
        "id": "fZGfnN-mV6_a"
      },
      "source": [
        "---"
      ]
    },
    {
      "cell_type": "markdown",
      "metadata": {
        "id": "Hy853LbgOVhi"
      },
      "source": [
        "#### Data Cleaning\n",
        "\n",
        "Extract the name of the manufacturer from the column `CarName`."
      ]
    },
    {
      "cell_type": "code",
      "metadata": {
        "id": "L0DQGjY_Objl"
      },
      "source": [
        "# Display the first 25 rows of the 'CarName' column.\n",
        "cars_df['CarName'].head(25)"
      ],
      "execution_count": null,
      "outputs": []
    },
    {
      "cell_type": "markdown",
      "metadata": {
        "id": "iVKoLpUCOdya"
      },
      "source": [
        "The name of a car follows the name of its manufacturer as illustrated below:\n",
        "\n",
        "- `alfa-romero` is the manufacturer of `giulia, stelvio` etc cars,\n",
        "\n",
        "- `audi` is the manufacturer of `100 ls, fox` etc cars,\n",
        "\n",
        "- `bmw` is the manufacturer of `x1, x3` etc cars\n",
        "\n",
        "and so on."
      ]
    },
    {
      "cell_type": "code",
      "metadata": {
        "id": "92qIjB90Yk7S"
      },
      "source": [
        "# Extract the name of the manufactures from the car names and display the first 25 cars to verify whether names are extracted successfully.\n",
        "car_companies = pd.Series([car.split(\" \")[0] for car in cars_df['CarName']], index = cars_df.index)\n",
        "car_companies.head(25)"
      ],
      "execution_count": null,
      "outputs": []
    },
    {
      "cell_type": "markdown",
      "metadata": {
        "id": "Wb8NNJ_-Ohq7"
      },
      "source": [
        "Add a new column to the `cars_df` DataFrame that stores the company names."
      ]
    },
    {
      "cell_type": "code",
      "metadata": {
        "id": "UDnJ-hXmOmwk"
      },
      "source": [
        "# Create a new column named 'car_company'. It should store the company names of a the cars.\n",
        "cars_df['car_company'] = car_companies\n",
        "cars_df.head()"
      ],
      "execution_count": null,
      "outputs": []
    },
    {
      "cell_type": "code",
      "metadata": {
        "id": "ngKfiuUHaFRU"
      },
      "source": [
        "# Get the count of number of the cars sold by each manufacturer in the dataset.\n",
        "cars_df['car_company'].value_counts()"
      ],
      "execution_count": null,
      "outputs": []
    },
    {
      "cell_type": "markdown",
      "metadata": {
        "id": "g86xk0ALOrtd"
      },
      "source": [
        "The following manufacturer names are misspelled or not regularised (follows the same case i.e. uppper case or lower case or title case):\n",
        "\n",
        "- `vw` and `vokswagen` should be `volkswagen`,\n",
        "\n",
        "- `porcshce` should be `porsche`,\n",
        "\n",
        "- `toyouta` should be `toyota`,\n",
        "\n",
        "- `Nissan` should be `nissan`,\n",
        "\n",
        "- `maxda` should be `mazda`\n"
      ]
    },
    {
      "cell_type": "code",
      "metadata": {
        "id": "LQ1RrXpFOt7e"
      },
      "source": [
        "# Replace the misspelled 'car_company' names with their correct names.\n",
        "\n",
        "# volkswagen\n",
        "cars_df.loc[(cars_df['car_company'] == \"vw\") | (cars_df['car_company'] == \"vokswagen\"), 'car_company'] = 'volkswagen'\n",
        "\n",
        "# porsche\n",
        "cars_df.loc[cars_df['car_company'] == \"porcshce\", 'car_company'] = 'porsche'\n",
        "\n",
        "# toyota\n",
        "cars_df.loc[cars_df['car_company'] == \"toyouta\", 'car_company'] = 'toyota'\n",
        "\n",
        "# nissan\n",
        "cars_df.loc[cars_df['car_company'] == \"Nissan\", 'car_company'] = 'nissan'\n",
        "\n",
        "# mazda\n",
        "cars_df.loc[cars_df['car_company'] == \"maxda\", 'car_company'] = 'mazda'"
      ],
      "execution_count": null,
      "outputs": []
    },
    {
      "cell_type": "code",
      "metadata": {
        "id": "keDlpEGcOvop"
      },
      "source": [
        "# Get the count of number of the cars sold by each manufacturer in the dataset again.\n",
        "cars_df['car_company'].value_counts()"
      ],
      "execution_count": null,
      "outputs": []
    },
    {
      "cell_type": "markdown",
      "metadata": {
        "id": "mxLBYYlqOxwB"
      },
      "source": [
        "Drop the `'CarName'` column as it is of no use."
      ]
    },
    {
      "cell_type": "code",
      "metadata": {
        "id": "vh3djZ0jO1Td"
      },
      "source": [
        "# Drop 'CarName' column from the 'cars_df' DataFrame.\n",
        "cars_df.drop(columns= ['CarName'], axis = 1, inplace = True)"
      ],
      "execution_count": null,
      "outputs": []
    },
    {
      "cell_type": "markdown",
      "metadata": {
        "id": "pnvF-2yUfjSM"
      },
      "source": [
        "---"
      ]
    },
    {
      "cell_type": "markdown",
      "metadata": {
        "id": "a2XCTJnXN6ZV"
      },
      "source": [
        "#### Data Preparation\n",
        "\n",
        "Extract all the numeric features from the `cars_df` DataFrame.\n",
        "\n",
        "\n"
      ]
    },
    {
      "cell_type": "code",
      "metadata": {
        "id": "oTDuc7NCN8IC"
      },
      "source": [
        "# Extract all the numeric (float and int type) columns from the dataset.\n",
        "cars_numeric_df = cars_df.select_dtypes(include = ['int64', 'float64'])\n",
        "cars_numeric_df.head()"
      ],
      "execution_count": null,
      "outputs": []
    },
    {
      "cell_type": "code",
      "metadata": {
        "id": "cnsASyO1N_mm"
      },
      "source": [
        "# Drop the 'car_ID' column from the 'cars_numeric_df' DataFrame.\n",
        "cars_numeric_df.drop(columns = ['car_ID'], axis = 1, inplace = True)\n",
        "cars_numeric_df.head()"
      ],
      "execution_count": null,
      "outputs": []
    },
    {
      "cell_type": "code",
      "metadata": {
        "id": "4qmyNiuSOMRW"
      },
      "source": [
        "# Draw a correlation heatmap between the numeric features.\n",
        "plt.figure(figsize = (12, 5), dpi = 96)\n",
        "sns.heatmap(cars_numeric_df.corr(), annot=True)\n",
        "plt.show()"
      ],
      "execution_count": null,
      "outputs": []
    },
    {
      "cell_type": "markdown",
      "metadata": {
        "id": "NJ6gIZaBOS0z"
      },
      "source": [
        "The heatmap shows some useful insights:\n",
        "\n",
        "**Correlation of `price` with independent variables**\n",
        "\n",
        "- `price` is highly and positively correlated with `wheelbase, carlength, carwidth, curbweight, enginesize` and `horsepower`\n",
        "\n",
        "- `price` is negatively correlated to `citympg` and `highwaympg` (`-0.70` approximately). This suggest that cars having high mileage may fall in the 'economy' cars category, and are priced lower. These cars are designed to be affordable by the budget buyers who value more fuel efficiency mileage over powerful engine\n",
        "\n",
        "**Correlation among independent variables**\n",
        "\n",
        "- Many independent variables are highly correlated (top-left part of the heatmap) such as `wheelbase, carlength, curbweight, enginesize` etc. They are all measures of size and weight and are positively correlated\n"
      ]
    },
    {
      "cell_type": "code",
      "metadata": {
        "id": "SkUDiftUO_LT"
      },
      "source": [
        "# Get the first five rows of the 'doornumber' and 'cylindernumber' columns.\n",
        "cars_df[['doornumber', 'cylindernumber']].head(5)"
      ],
      "execution_count": null,
      "outputs": []
    },
    {
      "cell_type": "markdown",
      "metadata": {
        "id": "UtvfJwt3PCWO"
      },
      "source": [
        "Notice that the `doornumber` and `cylindernumber` columns are supposed to have numeric type values. But the numbers are reported in the words. So, you need to replace these words with the corresponding numbers."
      ]
    },
    {
      "cell_type": "code",
      "metadata": {
        "id": "6q3rg6STPEH_"
      },
      "source": [
        "# Count the occurrence of each value in the 'cylindernumber' column.\n",
        "cars_df['cylindernumber'].value_counts()"
      ],
      "execution_count": null,
      "outputs": []
    },
    {
      "cell_type": "code",
      "metadata": {
        "id": "cQXUlk6zPF3N"
      },
      "source": [
        "# Count the occurrence of each value in the 'doornumber' column.\n",
        "cars_df['doornumber'].value_counts()"
      ],
      "execution_count": null,
      "outputs": []
    },
    {
      "cell_type": "markdown",
      "metadata": {
        "id": "ou4MdnaonloW"
      },
      "source": [
        "---"
      ]
    },
    {
      "cell_type": "markdown",
      "metadata": {
        "id": "_MU9QdOBnmoD"
      },
      "source": [
        "#### The `map()` Function\n",
        "\n",
        "A map function is similar to a match the column exercise. You have a match one set of values with the other set of values.\n",
        "\n",
        "Here you need to map:\n",
        "\n",
        "- `two` to `2`\n",
        "\n",
        "- `three` to `3`\n",
        "\n",
        "- `four` to `4`\n",
        "\n",
        "- `five` to `5`\n",
        "\n",
        "- `six` to `6`\n",
        "\n",
        "- `eight` to `8`\n",
        "\n",
        "- `twelve` to `12`\n",
        "\n",
        "To do the above replacement,\n",
        "\n",
        "1. First, you need to create a dictionary in which the words are keys and their corresponding numeric representations are the values.\n",
        "\n",
        "2. Apply the `map()` function. It takes the dictionary created in step one as an input.\n",
        "\n"
      ]
    },
    {
      "cell_type": "code",
      "metadata": {
        "id": "p3kO9pkpPHkX"
      },
      "source": [
        "# Map the values of the 'doornumber' and 'cylindernumber' columns to their corresponding numeric values.\n",
        "words_dict = {\"two\": 2, \"three\": 3, \"four\": 4, \"five\": 5, \"six\": 6, \"eight\": 8, \"twelve\": 12}\n",
        "def num_map(series):\n",
        "    return series.map(words_dict)\n",
        "\n",
        "# Applying the function to the two columns\n",
        "cars_df[['cylindernumber', 'doornumber']] = cars_df[['cylindernumber', 'doornumber']].apply(num_map, axis = 1)"
      ],
      "execution_count": null,
      "outputs": []
    },
    {
      "cell_type": "code",
      "metadata": {
        "id": "wpFuqr0DuIXN"
      },
      "source": [
        "# Display the first five rows of the 'cylindernumber' and 'doornumber' columns. Also, check whether the data-types are integer or not.\n",
        "print(cars_df[['cylindernumber', 'doornumber']].head())\n",
        "print(cars_df[['cylindernumber', 'doornumber']].info())"
      ],
      "execution_count": null,
      "outputs": []
    },
    {
      "cell_type": "markdown",
      "metadata": {
        "id": "iSWyMq-gv9vM"
      },
      "source": [
        "---"
      ]
    },
    {
      "cell_type": "markdown",
      "metadata": {
        "id": "8-xOIZaogBYp"
      },
      "source": [
        "#### Activity 1: Feature Encoding\n",
        "\n",
        "To build a linear regression, all the features need to have numeric values. However, a few features in this dataset, have non-numeric values. Their data-type is `object`. You need to obtain numeric values from these non-numeric values. This can be done by following the feature encoding steps.\n",
        "\n",
        "Let's understand this concept with the help of an example. Let's consider the `carbody` column in the `cars_df` DataFrame."
      ]
    },
    {
      "cell_type": "code",
      "metadata": {
        "id": "HzdznLsrtjEf"
      },
      "source": [
        "# S1.1: Get the counts of each of the values in the 'carbody' column.\n"
      ],
      "execution_count": null,
      "outputs": []
    },
    {
      "cell_type": "markdown",
      "metadata": {
        "id": "_gHhVHICu6E0"
      },
      "source": [
        "For the `carbody` feature, there are five different types of values\n",
        "\n",
        "- `sedan`\n",
        "\n",
        "- `hatchback`\n",
        "\n",
        "- `wagon`\n",
        "\n",
        "- `hardtop`\n",
        "\n",
        "- `convertible`\n",
        "\n",
        "For each of the above values, you can add columns into your DataFrame such that each column has either `0` or `1` as its value. Eg., for the `sedan` value, you add a column named `sedan`. And if the car is a sedan, then the value in the `sedan` column will be `1` otherwise, it will be `0`. You can do this using the `get_dummies()` function of the Pandas module.\n",
        "\n",
        "**Syntax:** `pandas.get_dummies(categorical_column, dtype = data_type)`\n",
        "\n",
        "where\n",
        "\n",
        "- `categorical_column` is the column having non-numeric categorical values\n",
        "\n",
        "- `data_type` of the values in the newly added columns.\n"
      ]
    },
    {
      "cell_type": "code",
      "metadata": {
        "id": "5wGosFvBvqSb"
      },
      "source": [
        "# T1.1: Create dummy variables for the 'carbody' columns.\n"
      ],
      "execution_count": null,
      "outputs": []
    },
    {
      "cell_type": "markdown",
      "metadata": {
        "id": "v5t4wsZIyHH6"
      },
      "source": [
        "As you can see, the output is a DataFrame containing five columns.\n",
        "\n",
        "The first two cars (first two rows) are convertibles. Hence, the values in the `convertible` columns are `1` and in the other 4 columns are `0`. Similarly, the third car (third row) is a hatchback. Hence, the value in the `hatchback` column is `1` and in the other 4 columns are `0`.\n",
        "\n",
        "These newly added columns are called **dummy variables (or columns)**. Let's check whether the data-types for these dummy columns is integer or not.\n",
        "\n"
      ]
    },
    {
      "cell_type": "code",
      "metadata": {
        "id": "uPZ3gvR9_shg"
      },
      "source": [
        "# S1.2: Check whether the data-types for these dummy columns is integer or not.\n"
      ],
      "execution_count": null,
      "outputs": []
    },
    {
      "cell_type": "markdown",
      "metadata": {
        "id": "UcQx7UmzAUQ0"
      },
      "source": [
        "In the above process, for each categorical value (i.e., `convertible,\thardtop, hatchback, sedan, wagon`) we added a new column. This process of obtaining numeric values from non-numeric categorical values is called **one-hot enconding**.\n",
        "\n",
        "Here for 5 categorical values, we added 5 new dummy columns. In general, for $n$ categorical values in a column, we can add $n$ new dummy columns.\n",
        "\n",
        "We can do the same thing with one less column i.e. for $n$ categorical values, we can add only $n - 1$ columns to convey the same information. To have a one column less, pass `drop_first = True` as another input to the `get_dummies()` function of the Pandas module."
      ]
    },
    {
      "cell_type": "code",
      "metadata": {
        "id": "oIgtBRDHwrXX"
      },
      "source": [
        "# S1.3: Create dummy variables for the 'carbody' columns with 1 column less.\n"
      ],
      "execution_count": null,
      "outputs": []
    },
    {
      "cell_type": "markdown",
      "metadata": {
        "id": "FgBYiyux2Vc6"
      },
      "source": [
        "In the above DataFrame having dummy variabes, we have 4 columns i.e. `hardtop, hatchback, sedan` and `wagon`.\n",
        "\n",
        "For the first two cars (first two rows) the values in the other 4 columns are `0`. This means the car is convertible. Similarly, for the third car (third row) the value in the `hatchback` column is `1` and in the other 3 columns are `0`. This means the car is a hatchback.\n",
        "\n",
        "This process of having one less dummy variable by encoding non-numeric categorical values to numeric values is called **dummy coding**. The naming convention is strange so just focus on the part that how  you can encode (or code) non-numeric categorical values into numeric values.\n",
        "\n",
        "In the same, you can encode all the other columns having categorical values to get numeric values."
      ]
    },
    {
      "cell_type": "code",
      "metadata": {
        "id": "hjFuzQ8pgIX1"
      },
      "source": [
        "# S1.4: Create a DataFrame containing all the non-numeric type features.\n"
      ],
      "execution_count": null,
      "outputs": []
    },
    {
      "cell_type": "markdown",
      "metadata": {
        "id": "ddIbstkfthje"
      },
      "source": [
        "For the above `object` or categorical columns, get the dummy variables using the **dummy coding** process."
      ]
    },
    {
      "cell_type": "code",
      "metadata": {
        "id": "1OF4YFQ4gKsv"
      },
      "source": [
        "# S1.5: Get dummy variables for all the categorical type columns using the dummy coding process.\n"
      ],
      "execution_count": null,
      "outputs": []
    },
    {
      "cell_type": "markdown",
      "metadata": {
        "id": "_oYierRj4_H6"
      },
      "source": [
        "Now that we have dummy variables, we don't need the original non-numeric type columns in the `cars_df` DataFrame. So let's remove the original non-numeric type columns from the `cards_df` DataFrame and then concatenate it with the above DataFrame containing only numeric values for the non-numeric type columns."
      ]
    },
    {
      "cell_type": "code",
      "metadata": {
        "id": "_NrUjAXVgMZm"
      },
      "source": [
        "# S1.6: Drop the categorical type columns from the 'cars_df' DataFrame.\n"
      ],
      "execution_count": null,
      "outputs": []
    },
    {
      "cell_type": "markdown",
      "metadata": {
        "id": "1qEmoYsu9ng-"
      },
      "source": [
        "Now, let's concatenate the `cars_df` and `cars_dummies_df` DataFrames"
      ]
    },
    {
      "cell_type": "code",
      "metadata": {
        "id": "mRGQ86YdgOA4"
      },
      "source": [
        "# S1.7: Concatenate the 'cars_df' and 'cars_dummies_df' DataFrames.\n"
      ],
      "execution_count": null,
      "outputs": []
    },
    {
      "cell_type": "markdown",
      "metadata": {
        "id": "uqBEML_NgRvl"
      },
      "source": [
        "Let's drop the `car_ID` column from the `cars_df` DataFrame. We don't need it to build a linear regression model."
      ]
    },
    {
      "cell_type": "code",
      "metadata": {
        "id": "YqovYOvsgTaJ"
      },
      "source": [
        "# S1.8: Drop the 'car_ID' column\n"
      ],
      "execution_count": null,
      "outputs": []
    },
    {
      "cell_type": "markdown",
      "metadata": {
        "id": "Ir1jQyb4-9Wq"
      },
      "source": [
        "Let's verify whether all the columns have numeric values or not and also find out the number of columns we have after creating dummy variables."
      ]
    },
    {
      "cell_type": "code",
      "metadata": {
        "id": "xnBOY1rN-3_Q"
      },
      "source": [
        "# S1.9: Get the data-types of all the columns and the number of rows and columns in the 'cars_df' DataFrame.\n"
      ],
      "execution_count": null,
      "outputs": []
    },
    {
      "cell_type": "markdown",
      "metadata": {
        "id": "VlJk9ojZ_Z8p"
      },
      "source": [
        "Now, we have 60 columns and all of them have numeric type values."
      ]
    },
    {
      "cell_type": "markdown",
      "metadata": {
        "id": "iQwyWvRRgUxl"
      },
      "source": [
        "---"
      ]
    },
    {
      "cell_type": "markdown",
      "metadata": {
        "id": "H08wdRUhW8Xa"
      },
      "source": [
        "#### Activity 2: Train-Test Split\n",
        "\n",
        "In order to build multiple linear regression model, you first need to have separate train and test sets. So, let's split the `cars_df` DataFrame to obtain them."
      ]
    },
    {
      "cell_type": "code",
      "metadata": {
        "id": "a1cyzv_TgcOx"
      },
      "source": [
        "# S2.1: Split the 'cars_df' Dataframe into the train and test sets.\n"
      ],
      "execution_count": null,
      "outputs": []
    },
    {
      "cell_type": "markdown",
      "metadata": {
        "id": "aBR6yivuXNYG"
      },
      "source": [
        "Now let's create separate data-frames for the feature and target variables for both the train and test sets."
      ]
    },
    {
      "cell_type": "code",
      "metadata": {
        "id": "u_dZ28wcNhiM"
      },
      "source": [
        "# S2.2: Create separate data-frames for the feature and target variables for both the train and test sets.\n"
      ],
      "execution_count": null,
      "outputs": []
    },
    {
      "cell_type": "markdown",
      "metadata": {
        "id": "F48XKH74W4qh"
      },
      "source": [
        "---"
      ]
    },
    {
      "cell_type": "markdown",
      "metadata": {
        "id": "Ib4hbJ9CgVUf"
      },
      "source": [
        "#### Activity 3: Feature Scaling\n",
        "\n",
        "Let's look the first five rows to see the scale of the values in each column in the `train_df` DataFrame."
      ]
    },
    {
      "cell_type": "code",
      "metadata": {
        "id": "-XOwNVs3TgKQ"
      },
      "source": [
        "# S3.1: Display the first five rows of the features in the train set.\n"
      ],
      "execution_count": null,
      "outputs": []
    },
    {
      "cell_type": "code",
      "metadata": {
        "id": "emX2BLQt4Vud"
      },
      "source": [
        "# S3.2: Display the first five rows of the features in the test set.\n"
      ],
      "execution_count": null,
      "outputs": []
    },
    {
      "cell_type": "markdown",
      "metadata": {
        "id": "qUHH9PM3yKMF"
      },
      "source": [
        "You can see that a few of the columns such as `carlength, curbweight` etc have large values. So, let's scale them using the standard normalisation method i.e.\n",
        "\n",
        "$$Z_i = \\frac{x_i - \\mu}{\\sigma}$$\n",
        "\n",
        "So let's normalise only the numeric columns and not the dummy ones.\n",
        "\n",
        "Also, the scaling has to be done only on the train dataset as you don't want it to learn anything from the test data."
      ]
    },
    {
      "cell_type": "code",
      "metadata": {
        "id": "0cDtKAPdYujW"
      },
      "source": [
        "# S3.3: Normalise the numeric columns.\n"
      ],
      "execution_count": null,
      "outputs": []
    },
    {
      "cell_type": "code",
      "metadata": {
        "id": "-bMz87IoUrKs"
      },
      "source": [
        "# S3.4: Display the first five rows of the features in test set.\n"
      ],
      "execution_count": null,
      "outputs": []
    },
    {
      "cell_type": "markdown",
      "metadata": {
        "id": "EFK9kfX9VnXi"
      },
      "source": [
        "---"
      ]
    },
    {
      "cell_type": "markdown",
      "metadata": {
        "id": "s5yNQTjrVpeV"
      },
      "source": [
        "#### Actitivity 4: Model Building\n",
        "\n",
        "Now that we have train set with the scaled values, let's build a multiple linear regression model using the `statsmodels.api` module."
      ]
    },
    {
      "cell_type": "code",
      "metadata": {
        "id": "mAAdCmH5g3iQ"
      },
      "source": [
        "# S4.1: Build a linear regression model using all the features to predict car prices.\n"
      ],
      "execution_count": null,
      "outputs": []
    },
    {
      "cell_type": "markdown",
      "metadata": {
        "id": "MPPhJ2x7yerP"
      },
      "source": [
        "Now let's print the summary of the linear regression model built."
      ]
    },
    {
      "cell_type": "code",
      "metadata": {
        "id": "rrD285FNg551"
      },
      "source": [
        "# S4.2: Print the summay of the linear regression report.\n"
      ],
      "execution_count": null,
      "outputs": []
    },
    {
      "cell_type": "markdown",
      "metadata": {
        "id": "ap6sWakBzG1b"
      },
      "source": [
        "The $R^2$ value for the linear regression model is 0.977 or 97.7%"
      ]
    },
    {
      "cell_type": "markdown",
      "metadata": {
        "id": "65L-HEXszbqK"
      },
      "source": [
        "---"
      ]
    },
    {
      "cell_type": "markdown",
      "metadata": {
        "id": "WzZ_eFAKwSf7"
      },
      "source": [
        "#### Activity 5: Adjusted $R^2$\n",
        "\n",
        "In the case of multiple linear regression, **adjusted $R^2$** value takes precedence over the $R^2$ value. It is calculated as:\n",
        "\n",
        "$$R^2_{\\text{adj}} = 1 - \\frac{(1 - R^2)(N - 1)}{N - p - 1}$$\n",
        "\n",
        "where\n",
        "\n",
        "- $R^2$ is the coefficient of determination\n",
        "\n",
        "- $N$ is number of instances (or rows) in the dataset\n",
        "\n",
        "- $p$ is the number of independent variables (excluding constant) in the dataset\n",
        "\n",
        "As shown in the summary table, the adjusted $R^2$ value is 0.963. Let's calculate the same using the above formula.\n",
        "\n",
        "\n",
        "**Note:** You can get the $R^2$ value using the `rsquared` attribute of the `statsmodels.api` module.\n",
        "\n"
      ]
    },
    {
      "cell_type": "code",
      "metadata": {
        "id": "VqzOMGXU8tCV"
      },
      "source": [
        "# S5.1: Calculate the adjusted R-square value using the above formula.\n"
      ],
      "execution_count": null,
      "outputs": []
    },
    {
      "cell_type": "markdown",
      "metadata": {
        "id": "O1P_pPZbLonv"
      },
      "source": [
        "**Note:** There is likely to be negligible difference between the adjusted $R^2$ value calculated by the mathematical formula and by the `statsmodels.api` module.\n",
        "\n",
        "Also, the $R^2_{\\text{adj}}$ will always be less than or equatl to the $R^2$ value i.e. $R^2_{\\text{adj}} \\le R^2$.\n",
        "\n",
        "**Why adjusted R-squared is a better metric in multiple linear regression?**\n",
        "\n",
        "As you add more and more independent variables, the $R^2$ squared values increases even if the independent variable has no contribution in predicting the values of the target variable. Hence, the adjusted $R^2$ value penalises the unnecessary inclusion of more independent variables.\n",
        "\n",
        "So, if adding more independent (or feature) variables leads to an increase in the adjusted $R^2$ value, then it is a good sign. However, if adding more independent (or feature) variables leads to a decrease in the adjusted $R^2$ value, it is a bad sign.\n",
        "\n",
        "In this case, the $R^2_{\\text{adj}}$ is quite high but the p-values for many of the columns is greater than 0.05 which is not a good sign. It means, these variables are insignificant in predicting the price of a car. Also, if we calculate variance inflation factor values for these columns, they would be very very high than 10.\n",
        "\n",
        "So before we go ahead in solving this project, let's learn the concept of p-value in the next class."
      ]
    },
    {
      "cell_type": "markdown",
      "metadata": {
        "id": "1i1EA97qoCBZ"
      },
      "source": [
        "---"
      ]
    },
    {
      "cell_type": "markdown",
      "metadata": {
        "id": "pGMFD9iyrscO"
      },
      "source": [
        "### **Project**\n",
        "You can now attempt the **Applied Tech. Project 68 - Car Price Prediction - Feature Encoding** on your own.\n",
        "\n",
        "**Applied Tech. Project 68 - Car Price Prediction - Feature Encoding**:\n",
        "\n",
        "https://colab.research.google.com/drive/1vv9CEg4l3MED0ThlQkbE7swbe79M3TKa"
      ]
    },
    {
      "cell_type": "markdown",
      "source": [
        "\n",
        "\n",
        "---\n",
        "\n"
      ],
      "metadata": {
        "id": "18af6UJcZfQ8"
      }
    }
  ]
}