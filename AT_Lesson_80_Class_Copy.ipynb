{
  "nbformat": 4,
  "nbformat_minor": 0,
  "metadata": {
    "colab": {
      "provenance": [],
      "include_colab_link": true
    },
    "kernelspec": {
      "name": "python3",
      "display_name": "Python 3"
    }
  },
  "cells": [
    {
      "cell_type": "markdown",
      "metadata": {
        "id": "view-in-github",
        "colab_type": "text"
      },
      "source": [
        "<a href=\"https://colab.research.google.com/github/nalinis07/APT_Class_Copy_Links/blob/MASTER/AT_Lesson_80_Class_Copy.ipynb\" target=\"_parent\"><img src=\"https://colab.research.google.com/assets/colab-badge.svg\" alt=\"Open In Colab\"/></a>"
      ]
    },
    {
      "cell_type": "markdown",
      "metadata": {
        "id": "coak3X1eI-Gs"
      },
      "source": [
        "# Lesson 80: Logistic Regression - Multiclass Classification I"
      ]
    },
    {
      "cell_type": "markdown",
      "metadata": {
        "id": "wuwYT2_nmAr-"
      },
      "source": [
        "---"
      ]
    },
    {
      "cell_type": "markdown",
      "metadata": {
        "id": "elaNnzqZZR9C"
      },
      "source": [
        "### Teacher-Student Activities\n",
        "\n",
        "So far you have learnt to build a logistic regression model for only two labels. There are a few cases when you have to classify more than two labels. So the classification of such labels is called multiclass classification. In order to practice it, we are going to solve another problem-statement wherein we have to classify different types of glasses based on their chemical and physical composition. Let's call this project glass-type classification.\n",
        "\n",
        "Also, in this class we will learn to create graphs with Plotly.\n",
        "\n",
        "**Dataset Description:**\n",
        "\n",
        "The dataset used in this problem statement involves the classification of samples of different glasses based on their physical and chemical properties. They are as follows:\n",
        "\n",
        "1. **RI:** Refractive Index\n",
        "\n",
        "2. **Na:** Sodium\n",
        "\n",
        "3. **Mg:** Magnesium\n",
        "\n",
        "4. **Al:** Aluminum\n",
        "\n",
        "5. **Si:** Silicon\n",
        "\n",
        "6. **K:** Potassium\n",
        "\n",
        "7. **Ca:** Calcium\n",
        "\n",
        "8. **Ba:** Barium\n",
        "\n",
        "9. **Fe:** Iron\n",
        "\n",
        "The chemical compositions are measured as the weight per cent in their corresponding oxides such as $\\text{Na}_2\\text{O}$, $\\text{Al}_2\\text{O}_3$, $\\text{Si}\\text{O}_2$ etc.\n",
        "\n",
        "There are seven types (classes or labels) of glass listed; they are:\n",
        "\n",
        "* **Class 1:** used for making building windows (float processed)\n",
        "\n",
        "* **Class 2:** used for making building windows (non-float processed)\n",
        "\n",
        "* **Class 3:** used for making vehicle windows (float processed)\n",
        "\n",
        "* **Class 4:** used for making vehicle windows (non-float processed)\n",
        "\n",
        "* **Class 5:** used for making containers\n",
        "\n",
        "* **Class 6:** used for making tableware\n",
        "\n",
        "* **Class 7:** used for making headlamps\n",
        "\n",
        "A float-type glass refers to the process used to make the glass. The molten glass is introduced into a bath of molten tin, causing the glass to float freely. These glasses are used to absorb heat and UV rays.\n",
        "\n",
        "**Dataset Credits:** https://archive.ics.uci.edu/ml/datasets/Glass+Identification\n",
        "\n",
        "\n",
        "**Citation:** Dua, D., & Graff, C.. (2017). UCI Machine Learning Repository"
      ]
    },
    {
      "cell_type": "markdown",
      "metadata": {
        "id": "i2AQeeHML2pC"
      },
      "source": [
        "---"
      ]
    },
    {
      "cell_type": "markdown",
      "metadata": {
        "id": "R_eGf00TL3k3"
      },
      "source": [
        "#### Activity 1: Data Loading\n",
        "\n",
        "So let's go through the routine steps before we build a logistic regression model and explore the dataset.\n",
        "\n",
        "Link to the dataset: https://s3-student-datasets-bucket.whjr.online/whitehat-ds-datasets/glass-types.csv"
      ]
    },
    {
      "cell_type": "code",
      "metadata": {
        "id": "dBZRijsRUXhp"
      },
      "source": [
        "# S1.1: Load the dataset.\n",
        "# Import the necessary libraries.\n",
        "\n",
        "\n",
        "# Load the dataset.\n"
      ],
      "execution_count": null,
      "outputs": []
    },
    {
      "cell_type": "markdown",
      "metadata": {
        "id": "8pfQ7RO7MhB7"
      },
      "source": [
        "As you can see from the output, the data columns have strange headers (or titles). Let's load the dataset again without the column headers. For this, you can pass a parameter called `header` inside the `read_csv()` function of the `pandas` module and set its value equal to `None`.\n",
        "\n",
        "**Syntax:** `pd.read_csv(file_path, header = None)`"
      ]
    },
    {
      "cell_type": "code",
      "metadata": {
        "id": "uH0Mj4SBMXtp"
      },
      "source": [
        "# S1.2: Load the dataset again without the column headers.\n"
      ],
      "execution_count": null,
      "outputs": []
    },
    {
      "cell_type": "markdown",
      "metadata": {
        "id": "qzlorlamNZUx"
      },
      "source": [
        "It seems like the first column might contain the serial numbers for the samples of glasses collected. Let's display the last 10 rows of the first column (indicated by 0) of the dataset."
      ]
    },
    {
      "cell_type": "code",
      "metadata": {
        "id": "bC1LxOzmNRCw"
      },
      "source": [
        "# S1.3: Display the last 10 rows of the first column (indicated by 0) of the dataset.\n"
      ],
      "execution_count": null,
      "outputs": []
    },
    {
      "cell_type": "markdown",
      "metadata": {
        "id": "BIj3Ru71N3p8"
      },
      "source": [
        "So our suspicion was correct. Let's drop this column because we don't need it to build a logistic regression model later."
      ]
    },
    {
      "cell_type": "code",
      "metadata": {
        "id": "KqFI0W5ZmWVS"
      },
      "source": [
        "# S1.4: Drop the 0th column as it contains only the serial numbers.\n",
        "\n",
        "# Get an array of the new set of columns."
      ],
      "execution_count": null,
      "outputs": []
    },
    {
      "cell_type": "markdown",
      "metadata": {
        "id": "ZwWTbgSJOC-X"
      },
      "source": [
        "---"
      ]
    },
    {
      "cell_type": "markdown",
      "metadata": {
        "id": "KhTI83OqOEXN"
      },
      "source": [
        "#### Activity 2: Renaming Column Headers^\n",
        "\n",
        "Now let's provide the suitable column headers to the dataset so that we know the values of each independent variable for each glass sample. For this, we need to\n",
        "\n",
        "- Create a Python list containing the suitable column headers as string values. The desired column headers are `'RI', 'Na', 'Mg', 'Al', 'Si', 'K', 'Ca', 'Ba', 'Fe', 'GlassType'` in the same order.\n",
        "\n",
        "- Create a Python dictionary containing the current column heads and the desired column headers as key-value pairs.\n",
        "\n",
        "- Change the column heads by calling the `rename()` function of the `pandas` module on the `pandas` data frame object. The **syntax** to apply the `rename()` function is\n",
        "\n",
        "  `data_frame_object.rename(python_dictionary)`\n",
        "\n",
        "  where `python_dictionary` contains the elements as described in the second point.\n",
        "\n",
        "\n",
        "\n"
      ]
    },
    {
      "cell_type": "code",
      "metadata": {
        "id": "I_OJC96tNJ8d"
      },
      "source": [
        "# S2.1: Create a Python list containing the suitable column headers as string values. Also, create a Python dictionary as described above.\n",
        "\n",
        "# Create the required Python dictionary.\n"
      ],
      "execution_count": null,
      "outputs": []
    },
    {
      "cell_type": "code",
      "metadata": {
        "id": "24yRw-92Nkhd"
      },
      "source": [
        "# S2.2: Call the 'rename()' function on the data frame object to rename the columns.\n",
        "\n",
        "# Display the first five rows of the data frame."
      ],
      "execution_count": null,
      "outputs": []
    },
    {
      "cell_type": "markdown",
      "metadata": {
        "id": "ifIb5K4ivsSs"
      },
      "source": [
        "As you can see, all the column headers are renamed as required."
      ]
    },
    {
      "cell_type": "markdown",
      "metadata": {
        "id": "ldnOLiTGsIhZ"
      },
      "source": [
        "---"
      ]
    },
    {
      "cell_type": "markdown",
      "metadata": {
        "id": "3RH-ZA22wCrR"
      },
      "source": [
        "#### Activity 3: Dataset Inspection^^\n",
        "\n",
        "Let's look at the kind of values each of the columns have, number of rows and columns in the dataset and whether the dataset has any missing values or not."
      ]
    },
    {
      "cell_type": "code",
      "metadata": {
        "id": "Gp9Ri0O3wO4y"
      },
      "source": [
        "# S3.1: Get the information about the dataset.\n"
      ],
      "execution_count": null,
      "outputs": []
    },
    {
      "cell_type": "markdown",
      "metadata": {
        "id": "UZ1h1wm5wYsF"
      },
      "source": [
        "Except for the last column, all the columns have floating-point values as we already observed. There are 214 rows and 10 columns. And there are no missing values in the dataset because all the columns contain 214 non-null values.\n",
        "\n",
        "Now let's get the count of each glass-type samples in the dataset."
      ]
    },
    {
      "cell_type": "code",
      "metadata": {
        "id": "7sbx_H5rxisE"
      },
      "source": [
        "# S3.2: Get the count of each glass-type samples in the dataset.\n"
      ],
      "execution_count": null,
      "outputs": []
    },
    {
      "cell_type": "markdown",
      "metadata": {
        "id": "RKDiRKYHxv2K"
      },
      "source": [
        "Notice that there is no count for glass-type `4`. This means the dataset does not have any sample of glass-type `4`.\n",
        "\n",
        "Also, glass types `2` and `1` are the most common among all the samples and glass-type `6` is the least. This suggests that the dataset is slightly imbalanced and biased in-favour of types `1` and `2`. Let's also calculate the percentage of these values."
      ]
    },
    {
      "cell_type": "code",
      "metadata": {
        "id": "HKzWxq_IyJY3"
      },
      "source": [
        "# S3.3: Get the percentage of count of each glass-type samples in the dataset.\n"
      ],
      "execution_count": null,
      "outputs": []
    },
    {
      "cell_type": "markdown",
      "metadata": {
        "id": "9xeFVCBByWXE"
      },
      "source": [
        "Through percentages, we can clearly see the imbalance in the dataset.\n"
      ]
    },
    {
      "cell_type": "markdown",
      "metadata": {
        "id": "NXxgAXQ2zX3y"
      },
      "source": [
        "---"
      ]
    },
    {
      "cell_type": "markdown",
      "metadata": {
        "id": "_McfS4Oi3FaW"
      },
      "source": [
        "#### Activity 4: Data Visualisation using Plotly\n",
        "\n",
        "Plotly another Python library used for Data visualisation. We can create various kinds of graphs like line plot, pie plot, scatter plot etc. using plotly as well.  \n",
        "\n",
        "**So why should we use Plotly over matplotlib or seaborn?** The reason is:\n",
        "\n",
        "- There is a hover tool capabilities that can be use to observe anomalies in a large number of data points.\n",
        "\n",
        "- Also there are endless customizations to make interactive visualisation which can be displayed in Colab/Jupyter notebooks or standalone HTML files as well.\n",
        "\n",
        "\n",
        "Let's start with a creating a count plot using plotly.\n",
        "\n",
        "**Steps:**\n",
        "\n",
        "1. Import the `plotly.express` module for Plotly features.\n",
        "\n",
        "2. Group the DataFrame `df` by the column `GlassType` without making it a default index column and save the grouping object in a variable .\n",
        "\n",
        "3. Compute the size of each group with the `size()` function.\n",
        "\n",
        ">`glass_group_df = glass_group.size()`\n",
        "\n",
        "> where `glass_group` is the grouping object and `size()` returns a DataFrame   the number of records in each unique group saved as `glass_group_df`.\n",
        "\n",
        "4.  Create the count plot with the `bar()` function of the plotly library. The syntax for the `bar()` function is:\n",
        "\n",
        "> **Syntax:**  `plotly.express.bar(data_frame, x, y, color)`\n",
        "\n",
        "> where\n",
        "\n",
        "  - `data_frame` : parameter requires the name of the dataframe with the distribution of values\n",
        "  - `x` : parameter requires a column name / pandas series name / array name from where the values are used to position marks along the x axis.\n",
        "\n",
        "  - `y` : parameter requires a column name / pandas series name / array name from where the values are used to position marks along the y axis.\n",
        "\n",
        "  - `color` : parameter requires a column name / pandas series name / array name from where the values are used to assign color to marks.\n",
        "\n",
        "5. Display the graph using the `show()` function.\n",
        "\n",
        "\n",
        "\n",
        "Let's create a count plot with plotly to observe the distribution of types of glasses in the dataset."
      ]
    },
    {
      "cell_type": "code",
      "metadata": {
        "id": "c4TQOzW3g5Do"
      },
      "source": [
        "# T4:1 Create the count plot to observe distribution of glass types using Plotly.\n",
        "\n",
        "# Import the Plotly library\n",
        "\n",
        "# Group the DataFrame by the 'GlassType' column\n",
        "\n",
        "# Get the size of each glass type from the group object\n",
        "\n",
        "# Create the count plot using the 'bar()' function\n"
      ],
      "execution_count": null,
      "outputs": []
    },
    {
      "cell_type": "markdown",
      "metadata": {
        "id": "upyMb8Hoo4TQ"
      },
      "source": [
        "**Note:** The `bar()` function can take in more parameters that can be passed to create more customised data. You may refer to the following document:\n",
        "\n",
        "https://plotly.com/python-api-reference/generated/plotly.express.bar.html"
      ]
    },
    {
      "cell_type": "markdown",
      "metadata": {
        "id": "vkFZ6cQX1Bbv"
      },
      "source": [
        "As it can be observed, count plot is created using plotly. Also if you hover the mouse over the bars, a pop-up appears with the `GlassType` and its size information.\n",
        "\n",
        "We can also convert the plot to html with the `write_html()` function."
      ]
    },
    {
      "cell_type": "code",
      "metadata": {
        "id": "wAf536SL6-yf"
      },
      "source": [
        "# S4.1: Convert the plot to html file.\n"
      ],
      "execution_count": null,
      "outputs": []
    },
    {
      "cell_type": "markdown",
      "metadata": {
        "id": "kBs9oj188A0-"
      },
      "source": [
        "Check the file explorer on the left-hand side to verify if a new `.html` file is created. We can download that the graph file from the explorer.\n",
        "\n",
        "Now, let's move ahead create a scatter plot with Plotly with dummy data. The `plotly.express` has the function `scatter()` to create the scatter plot. The syntax of the `scatter()` function is:\n",
        "\n",
        "> **Syntax:**  `plotly.express.scatter(data_frame, x, y, color, size, hover_data, title)`\n",
        "\n",
        "> where\n",
        "\n",
        "\n",
        "Create a scatter plot and show the distribution across labels using the steps below:.\n",
        "\n",
        "**Steps:**\n",
        "\n",
        "1. Create two NumPy arrays `x` and `y` with 10 integers from range 1-10 and 1-100 respectively.\n",
        "\n",
        "2. Create a NumPy array `labels` to divide the above array `data` into three labels - `1` , `2`, `3`  randomly.\n",
        "\n",
        "3. Create the scatter plot between `x` and `y` and show the distribution of data points with `labels` array with the color parameter.\n",
        "\n",
        "4. Display the plot.\n"
      ]
    },
    {
      "cell_type": "code",
      "metadata": {
        "id": "O4ocUpuIAWhO"
      },
      "source": [
        "# S4.2: Create scatter plot between 'x' and 'y' and show the distribution using 'labels' array\n",
        "\n",
        "# Import the module\n",
        "\n",
        "# Create the 'x' and 'y' arrays\n",
        "\n",
        "\n",
        "# Create the 'labels' array\n",
        "\n",
        "\n",
        "\n",
        "# Create the scatter plot\n",
        "\n",
        "# Display the plot"
      ],
      "execution_count": null,
      "outputs": []
    },
    {
      "cell_type": "markdown",
      "metadata": {
        "id": "2cF6eRRzR3He"
      },
      "source": [
        "As it can be observed, the scatter plot is created with the dummy data points and different classes are assigned different colors. Also, when hover over the data points, the pop-up shows three pieces of information `x`, `y` and `color` which refers to the class of the data point.\n",
        "\n",
        "We can also observe the data points are really small. So, we can include the `size` parameter which should be an array of the same shape as values in `x`. The `size` parameter like `color` can be used to distinguish between different labels as well.\n",
        "\n",
        "Now, let's create a scatter plot using plotly between the column `Fe` to understand distribution of types of glasses with the Iron (Fe) with the guidlines below:\n",
        "\n",
        "- `dataframe` will be `df`\n",
        "\n",
        "- `x` will be an numpy array of size `df.shape[0]` within the range from the minimum value of the column `Fe` to the maximum value + 1 of the column `Fe`.\n",
        "\n",
        "- `y` will be the values in the column `Fe`\n",
        "\n",
        "- `size` will be values in the column `GlassType` such that the size of points change with the glass types\n",
        "\n",
        "- `color` will also be the values in the column `GlassType`such that the color of points change with the glass types.\n",
        "\n",
        "- `title` will be string representing the plot e.g. \"Scatter plot between Fe and Glass Type\"\n",
        "\n",
        "- `color_continuous_scale` will be `px.colors.sequential.Viridis`. This parameter is used to create list of continuous color scale values when the column denoted by `color` contains numeric data."
      ]
    },
    {
      "cell_type": "code",
      "metadata": {
        "id": "GVyidTHB1gwI"
      },
      "source": [
        "# S4.3: Create the scatter plot for the column 'Fe' values and display the display the distribution of glass types over the column values.\n",
        "\n",
        "\n"
      ],
      "execution_count": null,
      "outputs": []
    },
    {
      "cell_type": "markdown",
      "metadata": {
        "id": "PNp64evLXus8"
      },
      "source": [
        "As it can be observed, the scatter plot is created for the column `Fe`. We can distinguish the data points into different types of glass using color with the color bar in the right or even the size (smallest represent label `1` and largest represent label `7`).\n",
        "\n",
        "The above scatter plot shows that label `5` type of glass can have the highest amout of `Fe`.\n",
        "\n",
        "**Note:** The different color scales can be observed in the `colors` sub modules of Plotly like `plotly.express.colors.sequential`, `plotly.express.colors.diverging` and `plotly.express.colors.cyclical`.\n",
        "\n",
        "Let's create the Plotly scatter plot for all the columns to check the distribution of glass types."
      ]
    },
    {
      "cell_type": "code",
      "metadata": {
        "id": "E7XUn6cQlgmW"
      },
      "source": [
        "# S2.4: Create the scatter plot for all the columns in 'df' to observe the distribution of glass types.\n",
        "\n"
      ],
      "execution_count": null,
      "outputs": []
    },
    {
      "cell_type": "markdown",
      "metadata": {
        "id": "2tidAe4da_od"
      },
      "source": [
        "We can observe the scatter plots above to deduce various facts like `RI` reflective index of label `2` glass type is highest.\n",
        "\n"
      ]
    },
    {
      "cell_type": "markdown",
      "metadata": {
        "id": "Lsp4ug1OwCJq"
      },
      "source": [
        "---"
      ]
    },
    {
      "cell_type": "markdown",
      "metadata": {
        "id": "_w690ckUv0qQ"
      },
      "source": [
        "#### Activity 5: Model Building^^^\n",
        "\n",
        "Let's build a logistic regression model first without balancing the dataset. If the model evaluation parameters suggest that the model is not classifying the labels correctly, then we will first deal with the imbalance and then build a logistic regression model again."
      ]
    },
    {
      "cell_type": "code",
      "metadata": {
        "id": "u0yVYJbqmLAZ"
      },
      "source": [
        "# S5.1: Create separate data frames for training and testing the model.\n",
        "\n",
        "# Creating the features data frame holding all the columns accept last column\n",
        "\n",
        "\n",
        "# Creating the target series that holds last column 'GlassType'\n",
        "\n",
        "\n",
        "# Splitting the train and test sets using the 'train_test_split()' function."
      ],
      "execution_count": null,
      "outputs": []
    },
    {
      "cell_type": "code",
      "metadata": {
        "id": "odYfuRCo9tTg"
      },
      "source": [
        "# S5.2: Print the shape of all the four variables i.e. 'x_train', 'x_test', 'y_train' and 'y_test'\n"
      ],
      "execution_count": null,
      "outputs": []
    },
    {
      "cell_type": "code",
      "metadata": {
        "id": "IskflWOh_RHE"
      },
      "source": [
        "# S5.3 Build a logistic regression model using the 'sklearn' module.\n",
        "\n",
        "# 1. First, call the 'LogisticRegression' module and store it in 'lg_clg' variable.\n",
        "\n",
        "# 2. Call the 'fit()' function with 'x_train' and 'y_train' as inputs.\n",
        "\n",
        "# 3. Call the 'score()' function with 'x_train' and 'y_train' as inputs to check the accuracy score of the model."
      ],
      "execution_count": null,
      "outputs": []
    },
    {
      "cell_type": "markdown",
      "metadata": {
        "id": "n9hZWFpmjDIC"
      },
      "source": [
        "**Note:** This is a preliminary model building step. Hence, we can ignore `ConvergenceWarning` completely.  \n",
        "\n",
        "So the accuracy score is 61.75% which is not a good score.\n",
        "\n",
        "Now in the cases of binary classification, we generally create a confusion matrix and print the precision, recall and f1-score values. But in the case of multiclass classification, it best to first check what all labels the classification model identified or detected. For this, you can use either the `unique()` function or the `value_counts()` function."
      ]
    },
    {
      "cell_type": "code",
      "metadata": {
        "id": "LY4yodj0jugK"
      },
      "source": [
        "# S5.4: Get the target values predicted by the logistic regression model on the train set.\n"
      ],
      "execution_count": null,
      "outputs": []
    },
    {
      "cell_type": "markdown",
      "metadata": {
        "id": "l_uXnGZpk0M8"
      },
      "source": [
        "As you can see, the logistic regression model failed to identify glass-type `3`.\n",
        "\n",
        "Consequently, it does not makes sense to create a confusion matrix here because the actual target set has all the labels but the predicted target set misses one label (glass-type `3`) among the available (the whole dataset does not have any glass-type `4` sample) labels.\n",
        "\n",
        "Hence, **in the case of multiclass classification, before creating a confusion matrix, always first check whether the predicted target set has all the labels**.\n",
        "\n",
        "Let's repeat the above exercise on the test set and find out all the classes identified by the logistic regression model."
      ]
    },
    {
      "cell_type": "code",
      "metadata": {
        "id": "FlSKmfaDvDUU"
      },
      "source": [
        "# S5.5: Get the target values predicted by the logistic regression model on the test set.\n"
      ],
      "execution_count": null,
      "outputs": []
    },
    {
      "cell_type": "markdown",
      "metadata": {
        "id": "JMA-lJeNuqYu"
      },
      "source": [
        "On the test set, the logistic regression model failed to identify labels `3` and `6`. This is clearly a very bad classification model.\n",
        "\n",
        "Let's stop here. In the next class, we will try to build a logistic regression model again so that it can identify all the different labels before we can evaluate its performance further using confusion matrix, precision, recall and f1-score values."
      ]
    },
    {
      "cell_type": "markdown",
      "metadata": {
        "id": "AAZR0w9Po1QP"
      },
      "source": [
        "---"
      ]
    }
  ]
}