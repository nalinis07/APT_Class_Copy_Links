{
  "nbformat": 4,
  "nbformat_minor": 0,
  "metadata": {
    "colab": {
      "provenance": [],
      "include_colab_link": true
    },
    "kernelspec": {
      "name": "python3",
      "display_name": "Python 3"
    }
  },
  "cells": [
    {
      "cell_type": "markdown",
      "metadata": {
        "id": "view-in-github",
        "colab_type": "text"
      },
      "source": [
        "<a href=\"https://colab.research.google.com/github/nalinis07/APT_Class_Copy_Links/blob/MASTER/AT_CapstoneProject16__House_Price_Prediction_SolutionCopy.ipynb\" target=\"_parent\"><img src=\"https://colab.research.google.com/assets/colab-badge.svg\" alt=\"Open In Colab\"/></a>"
      ]
    },
    {
      "cell_type": "markdown",
      "metadata": {
        "id": "3dc3dzDzkNxM"
      },
      "source": [
        "# Capstone Project 16: House Price Prediction"
      ]
    },
    {
      "cell_type": "markdown",
      "metadata": {
        "id": "2USdj0Fcp1PA"
      },
      "source": [
        "---"
      ]
    },
    {
      "cell_type": "markdown",
      "metadata": {
        "id": "NZkuR4JIp122"
      },
      "source": [
        "### Context\n",
        "\n",
        "The price of the house depends on various factors like locality, connectivity, number of rooms, etc. Change in the mindset of the millennial generation also contributes to ups and down in house prices as the young generation is much into renting than to owe a house. Predicting the right price of the house is important for investors in the real estate business. This makes it very important to come up with proper and smart technique to estimate the true price of the house.\n",
        ""
      ]
    },
    {
      "cell_type": "markdown",
      "metadata": {
        "id": "bhlNrfRasTmn"
      },
      "source": [
        "---"
      ]
    },
    {
      "cell_type": "markdown",
      "metadata": {
        "id": "Kb7u6oKHsYD8"
      },
      "source": [
        "### Problem Statement\n",
        "\n",
        "\n",
        "You are willing to sell your house. You are not sure about the price of your house and want to estimate its price. You are provided with the dataset and need to make a prediction model which will help you to get a good estimate of your house for selling it."
      ]
    },
    {
      "cell_type": "markdown",
      "metadata": {
        "id": "Ej0iNrOfw5mO"
      },
      "source": [
        "---"
      ]
    },
    {
      "cell_type": "markdown",
      "metadata": {
        "id": "ywFr5pfow8Gc"
      },
      "source": [
        "### Data Description\n",
        "\n",
        "The **housing** dataset contains the prices and other attributes. There are $545$ rows and $12$ attributes (features) with a target column (price).\n",
        "\n",
        "Following are the features:  \n",
        "\n",
        "|Column|Description|\n",
        "|---:|:---|\n",
        "|`Price`|Price in INR|\n",
        "|`area`|Area in square ft.|\n",
        "|`bedrooms`|Number of bedrooms in the house|\n",
        "|`bathrooms`|Number of bathrooms in the house|\n",
        "|`stories`|Number of stores in the house|\n",
        "|`mainroad`|Whether house is on main road or not(binary)|\n",
        "|`guestroom`|Whether house have guestroom or not(binary)|\n",
        "|`basement`|Whether house have basement or not(binary)|\n",
        "|`airconditioning`|Whether house have airconditioning or not(binary)|\n",
        "|`hotwaterheating`|Whether house have hotwaterheating or not(binary)|\n",
        "|`parking`|Number of parking area|\n",
        "|`prefarea`|Whether house have prefarea or not(binary)|\n",
        "|`furnishingstatus`|Furnish status of the house|\n",
        "\n",
        "\n",
        "  **Dataset Link:** https://student-datasets-bucket.s3.ap-south-1.amazonaws.com/whitehat-ds-datasets/house-prices.csv"
      ]
    },
    {
      "cell_type": "markdown",
      "metadata": {
        "id": "m3-VjFOyqdvo"
      },
      "source": [
        "---"
      ]
    },
    {
      "cell_type": "markdown",
      "metadata": {
        "id": "2iZ9tHdX647b"
      },
      "source": [
        "### Things To Do\n",
        "\n",
        "1. Explore the Housing dataset by creating the following plots:\n",
        "   - Box plots between each categorical feature and the `price`.\n",
        "   - Scatter plots between the numerical features and the `price`.\n",
        "   \n",
        "2. Convert categorical attributes into numerical attributes using feature encoding.\n",
        "\n",
        "3. Build a linear regression model by selecting the most relevant features to predict the price of houses.\n",
        "\n",
        "4. Evaluate the linear regression model by calculating the parameters such as coefficient of determination, MAE, MSE, RMSE, mean of residuals and by checking for homoscedasticity.\n",
        "\n"
      ]
    },
    {
      "cell_type": "markdown",
      "metadata": {
        "id": "W4fE-t4Rr2CT"
      },
      "source": [
        "---"
      ]
    },
    {
      "cell_type": "markdown",
      "metadata": {
        "id": "e0IW5qmC2Aaa"
      },
      "source": [
        "#### 1. Import Modules and Load Dataset\n",
        "\n",
        "**Dataset Link:** https://student-datasets-bucket.s3.ap-south-1.amazonaws.com/whitehat-ds-datasets/house-prices.csv"
      ]
    },
    {
      "cell_type": "code",
      "metadata": {
        "colab": {
          "base_uri": "https://localhost:8080/",
          "height": 204
        },
        "id": "4NKi_-YIxTcL",
        "outputId": "9453c1bd-6047-4324-aad8-f6771a56f17a"
      },
      "source": [
        "# Import the required modules and load the dataset.\n",
        "\n",
        "import pandas as pd\n",
        "import matplotlib.pyplot as plt\n",
        "import seaborn as sns\n",
        "import numpy as np\n",
        "\n",
        "df = pd.read_csv(\"https://student-datasets-bucket.s3.ap-south-1.amazonaws.com/whitehat-ds-datasets/house-prices.csv\")\n",
        "df.head()"
      ],
      "execution_count": null,
      "outputs": [
        {
          "output_type": "execute_result",
          "data": {
            "text/html": [
              "<div>\n",
              "<style scoped>\n",
              "    .dataframe tbody tr th:only-of-type {\n",
              "        vertical-align: middle;\n",
              "    }\n",
              "\n",
              "    .dataframe tbody tr th {\n",
              "        vertical-align: top;\n",
              "    }\n",
              "\n",
              "    .dataframe thead th {\n",
              "        text-align: right;\n",
              "    }\n",
              "</style>\n",
              "<table border=\"1\" class=\"dataframe\">\n",
              "  <thead>\n",
              "    <tr style=\"text-align: right;\">\n",
              "      <th></th>\n",
              "      <th>price</th>\n",
              "      <th>area</th>\n",
              "      <th>bedrooms</th>\n",
              "      <th>bathrooms</th>\n",
              "      <th>stories</th>\n",
              "      <th>mainroad</th>\n",
              "      <th>guestroom</th>\n",
              "      <th>basement</th>\n",
              "      <th>hotwaterheating</th>\n",
              "      <th>airconditioning</th>\n",
              "      <th>parking</th>\n",
              "      <th>prefarea</th>\n",
              "      <th>furnishingstatus</th>\n",
              "    </tr>\n",
              "  </thead>\n",
              "  <tbody>\n",
              "    <tr>\n",
              "      <th>0</th>\n",
              "      <td>13300000</td>\n",
              "      <td>7420</td>\n",
              "      <td>4</td>\n",
              "      <td>2</td>\n",
              "      <td>3</td>\n",
              "      <td>yes</td>\n",
              "      <td>no</td>\n",
              "      <td>no</td>\n",
              "      <td>no</td>\n",
              "      <td>yes</td>\n",
              "      <td>2</td>\n",
              "      <td>yes</td>\n",
              "      <td>furnished</td>\n",
              "    </tr>\n",
              "    <tr>\n",
              "      <th>1</th>\n",
              "      <td>12250000</td>\n",
              "      <td>8960</td>\n",
              "      <td>4</td>\n",
              "      <td>4</td>\n",
              "      <td>4</td>\n",
              "      <td>yes</td>\n",
              "      <td>no</td>\n",
              "      <td>no</td>\n",
              "      <td>no</td>\n",
              "      <td>yes</td>\n",
              "      <td>3</td>\n",
              "      <td>no</td>\n",
              "      <td>furnished</td>\n",
              "    </tr>\n",
              "    <tr>\n",
              "      <th>2</th>\n",
              "      <td>12250000</td>\n",
              "      <td>9960</td>\n",
              "      <td>3</td>\n",
              "      <td>2</td>\n",
              "      <td>2</td>\n",
              "      <td>yes</td>\n",
              "      <td>no</td>\n",
              "      <td>yes</td>\n",
              "      <td>no</td>\n",
              "      <td>no</td>\n",
              "      <td>2</td>\n",
              "      <td>yes</td>\n",
              "      <td>semi-furnished</td>\n",
              "    </tr>\n",
              "    <tr>\n",
              "      <th>3</th>\n",
              "      <td>12215000</td>\n",
              "      <td>7500</td>\n",
              "      <td>4</td>\n",
              "      <td>2</td>\n",
              "      <td>2</td>\n",
              "      <td>yes</td>\n",
              "      <td>no</td>\n",
              "      <td>yes</td>\n",
              "      <td>no</td>\n",
              "      <td>yes</td>\n",
              "      <td>3</td>\n",
              "      <td>yes</td>\n",
              "      <td>furnished</td>\n",
              "    </tr>\n",
              "    <tr>\n",
              "      <th>4</th>\n",
              "      <td>11410000</td>\n",
              "      <td>7420</td>\n",
              "      <td>4</td>\n",
              "      <td>1</td>\n",
              "      <td>2</td>\n",
              "      <td>yes</td>\n",
              "      <td>yes</td>\n",
              "      <td>yes</td>\n",
              "      <td>no</td>\n",
              "      <td>yes</td>\n",
              "      <td>2</td>\n",
              "      <td>no</td>\n",
              "      <td>furnished</td>\n",
              "    </tr>\n",
              "  </tbody>\n",
              "</table>\n",
              "</div>"
            ],
            "text/plain": [
              "      price  area  bedrooms  ...  parking  prefarea furnishingstatus\n",
              "0  13300000  7420         4  ...        2       yes        furnished\n",
              "1  12250000  8960         4  ...        3        no        furnished\n",
              "2  12250000  9960         3  ...        2       yes   semi-furnished\n",
              "3  12215000  7500         4  ...        3       yes        furnished\n",
              "4  11410000  7420         4  ...        2        no        furnished\n",
              "\n",
              "[5 rows x 13 columns]"
            ]
          },
          "metadata": {
            "tags": []
          },
          "execution_count": 402
        }
      ]
    },
    {
      "cell_type": "code",
      "metadata": {
        "colab": {
          "base_uri": "https://localhost:8080/"
        },
        "id": "8IXJUhvx1Omc",
        "outputId": "5356c6bc-3558-4585-d2e4-f47f464fd23f"
      },
      "source": [
        "# Get the information on DataFrame.\n",
        "df.info()"
      ],
      "execution_count": null,
      "outputs": [
        {
          "output_type": "stream",
          "text": [
            "<class 'pandas.core.frame.DataFrame'>\n",
            "RangeIndex: 545 entries, 0 to 544\n",
            "Data columns (total 13 columns):\n",
            " #   Column            Non-Null Count  Dtype \n",
            "---  ------            --------------  ----- \n",
            " 0   price             545 non-null    int64 \n",
            " 1   area              545 non-null    int64 \n",
            " 2   bedrooms          545 non-null    int64 \n",
            " 3   bathrooms         545 non-null    int64 \n",
            " 4   stories           545 non-null    int64 \n",
            " 5   mainroad          545 non-null    object\n",
            " 6   guestroom         545 non-null    object\n",
            " 7   basement          545 non-null    object\n",
            " 8   hotwaterheating   545 non-null    object\n",
            " 9   airconditioning   545 non-null    object\n",
            " 10  parking           545 non-null    int64 \n",
            " 11  prefarea          545 non-null    object\n",
            " 12  furnishingstatus  545 non-null    object\n",
            "dtypes: int64(6), object(7)\n",
            "memory usage: 55.5+ KB\n"
          ],
          "name": "stdout"
        }
      ]
    },
    {
      "cell_type": "code",
      "metadata": {
        "colab": {
          "base_uri": "https://localhost:8080/"
        },
        "id": "HB5wwgC1fO7Q",
        "outputId": "b8c3b151-f5c8-4e6c-eb22-78b9245fda94"
      },
      "source": [
        "# Check if there are any NULL values.\n",
        "df.isnull().sum()"
      ],
      "execution_count": null,
      "outputs": [
        {
          "output_type": "execute_result",
          "data": {
            "text/plain": [
              "price               0\n",
              "area                0\n",
              "bedrooms            0\n",
              "bathrooms           0\n",
              "stories             0\n",
              "mainroad            0\n",
              "guestroom           0\n",
              "basement            0\n",
              "hotwaterheating     0\n",
              "airconditioning     0\n",
              "parking             0\n",
              "prefarea            0\n",
              "furnishingstatus    0\n",
              "dtype: int64"
            ]
          },
          "metadata": {
            "tags": []
          },
          "execution_count": 404
        }
      ]
    },
    {
      "cell_type": "markdown",
      "metadata": {
        "id": "zCfhAcHAYvS4"
      },
      "source": [
        "---"
      ]
    },
    {
      "cell_type": "markdown",
      "metadata": {
        "id": "BTMp-43z7FQY"
      },
      "source": [
        "#### 2. Exploratory Data Analysis\n",
        "\n",
        "We need to predict the value of `price` variable, using other variables. Thus, `price` is the target or dependent variable and other columns except `price` are the features or the independent variables.\n",
        "\n",
        "Perform the following tasks:\n",
        "\n",
        "- Create Box plots between each **categorical** variable and the target variable `price` to sense the distribution of values.\n",
        "\n",
        "- Create the Scatter plots between each **numerical** variable and the target variable `price`. Determine which variable(s) shows linear relationship with the target variable `price`.\n",
        "\n",
        "- Create a normal distribution curve for the `price`.\n"
      ]
    },
    {
      "cell_type": "code",
      "metadata": {
        "colab": {
          "base_uri": "https://localhost:8080/",
          "height": 204
        },
        "id": "BE095lJ7mTE6",
        "outputId": "038c1efa-616f-4853-dfa1-33a65cefc4e9"
      },
      "source": [
        "# Check categorical attributes\n",
        "\n",
        "df_categorical = df.select_dtypes(['object'])\n",
        "df_categorical.head()"
      ],
      "execution_count": null,
      "outputs": [
        {
          "output_type": "execute_result",
          "data": {
            "text/html": [
              "<div>\n",
              "<style scoped>\n",
              "    .dataframe tbody tr th:only-of-type {\n",
              "        vertical-align: middle;\n",
              "    }\n",
              "\n",
              "    .dataframe tbody tr th {\n",
              "        vertical-align: top;\n",
              "    }\n",
              "\n",
              "    .dataframe thead th {\n",
              "        text-align: right;\n",
              "    }\n",
              "</style>\n",
              "<table border=\"1\" class=\"dataframe\">\n",
              "  <thead>\n",
              "    <tr style=\"text-align: right;\">\n",
              "      <th></th>\n",
              "      <th>mainroad</th>\n",
              "      <th>guestroom</th>\n",
              "      <th>basement</th>\n",
              "      <th>hotwaterheating</th>\n",
              "      <th>airconditioning</th>\n",
              "      <th>prefarea</th>\n",
              "      <th>furnishingstatus</th>\n",
              "    </tr>\n",
              "  </thead>\n",
              "  <tbody>\n",
              "    <tr>\n",
              "      <th>0</th>\n",
              "      <td>yes</td>\n",
              "      <td>no</td>\n",
              "      <td>no</td>\n",
              "      <td>no</td>\n",
              "      <td>yes</td>\n",
              "      <td>yes</td>\n",
              "      <td>furnished</td>\n",
              "    </tr>\n",
              "    <tr>\n",
              "      <th>1</th>\n",
              "      <td>yes</td>\n",
              "      <td>no</td>\n",
              "      <td>no</td>\n",
              "      <td>no</td>\n",
              "      <td>yes</td>\n",
              "      <td>no</td>\n",
              "      <td>furnished</td>\n",
              "    </tr>\n",
              "    <tr>\n",
              "      <th>2</th>\n",
              "      <td>yes</td>\n",
              "      <td>no</td>\n",
              "      <td>yes</td>\n",
              "      <td>no</td>\n",
              "      <td>no</td>\n",
              "      <td>yes</td>\n",
              "      <td>semi-furnished</td>\n",
              "    </tr>\n",
              "    <tr>\n",
              "      <th>3</th>\n",
              "      <td>yes</td>\n",
              "      <td>no</td>\n",
              "      <td>yes</td>\n",
              "      <td>no</td>\n",
              "      <td>yes</td>\n",
              "      <td>yes</td>\n",
              "      <td>furnished</td>\n",
              "    </tr>\n",
              "    <tr>\n",
              "      <th>4</th>\n",
              "      <td>yes</td>\n",
              "      <td>yes</td>\n",
              "      <td>yes</td>\n",
              "      <td>no</td>\n",
              "      <td>yes</td>\n",
              "      <td>no</td>\n",
              "      <td>furnished</td>\n",
              "    </tr>\n",
              "  </tbody>\n",
              "</table>\n",
              "</div>"
            ],
            "text/plain": [
              "  mainroad guestroom basement  ... airconditioning prefarea furnishingstatus\n",
              "0      yes        no       no  ...             yes      yes        furnished\n",
              "1      yes        no       no  ...             yes       no        furnished\n",
              "2      yes        no      yes  ...              no      yes   semi-furnished\n",
              "3      yes        no      yes  ...             yes      yes        furnished\n",
              "4      yes       yes      yes  ...             yes       no        furnished\n",
              "\n",
              "[5 rows x 7 columns]"
            ]
          },
          "metadata": {
            "tags": []
          },
          "execution_count": 405
        }
      ]
    },
    {
      "cell_type": "code",
      "metadata": {
        "id": "eiF5b2D1yKDw",
        "colab": {
          "base_uri": "https://localhost:8080/",
          "height": 453
        },
        "outputId": "a37ff3a8-518c-4997-b20f-da21769e8de7"
      },
      "source": [
        "# Boxplot for 'mainroad' vs 'price'\n",
        "\n",
        "plt.figure(figsize = (7, 5), dpi = 96)\n",
        "sns.boxplot(x = 'mainroad', y = 'price', data = df)\n",
        "plt.show()"
      ],
      "execution_count": null,
      "outputs": [
        {
          "output_type": "display_data",
          "data": {
            "image/png": "[encoded data removed]",
            "text/plain": [
              "<Figure size 672x480 with 1 Axes>"
            ]
          },
          "metadata": {
            "tags": [],
            "needs_background": "light"
          }
        }
      ]
    },
    {
      "cell_type": "code",
      "metadata": {
        "id": "weHLdEjnyaE2",
        "colab": {
          "base_uri": "https://localhost:8080/",
          "height": 453
        },
        "outputId": "3a02fbd5-1bcf-45a2-8678-bc159b89b2d2"
      },
      "source": [
        "# Boxplot for 'guestroom' vs 'price'\n",
        "\n",
        "plt.figure(figsize = (7, 5), dpi = 96)\n",
        "sns.boxplot(x = 'guestroom', y = 'price', data = df)\n",
        "plt.show()"
      ],
      "execution_count": null,
      "outputs": [
        {
          "output_type": "display_data",
          "data": {
            "image/png": "[encoded data removed]",
            "text/plain": [
              "<Figure size 672x480 with 1 Axes>"
            ]
          },
          "metadata": {
            "tags": [],
            "needs_background": "light"
          }
        }
      ]
    },
    {
      "cell_type": "code",
      "metadata": {
        "id": "p09SUbbhympd",
        "colab": {
          "base_uri": "https://localhost:8080/",
          "height": 463
        },
        "outputId": "078f3c60-1d33-4045-eee3-1b09c02bb695"
      },
      "source": [
        "# Boxplot for 'basement' vs 'price'\n",
        "\n",
        "plt.figure(figsize = (7, 5), dpi = 96)\n",
        "sns.boxplot(x = 'basement', y = 'price', data = df)\n",
        "plt.xticks(rotation = 90)\n",
        "plt.show()"
      ],
      "execution_count": null,
      "outputs": [
        {
          "output_type": "display_data",
          "data": {
            "image/png": "[encoded data removed]",
            "text/plain": [
              "<Figure size 672x480 with 1 Axes>"
            ]
          },
          "metadata": {
            "tags": [],
            "needs_background": "light"
          }
        }
      ]
    },
    {
      "cell_type": "code",
      "metadata": {
        "colab": {
          "base_uri": "https://localhost:8080/",
          "height": 463
        },
        "id": "kth0hysho8Zc",
        "outputId": "0991a12f-1c60-431c-a2f6-84cc1869a572"
      },
      "source": [
        "# Boxplot for 'hotwaterheating' vs 'price'\n",
        "\n",
        "plt.figure(figsize = (7, 5), dpi = 96)\n",
        "sns.boxplot(x = 'hotwaterheating', y = 'price', data = df)\n",
        "plt.xticks(rotation = 90)\n",
        "plt.show()"
      ],
      "execution_count": null,
      "outputs": [
        {
          "output_type": "display_data",
          "data": {
            "image/png": "[encoded data removed]",
            "text/plain": [
              "<Figure size 672x480 with 1 Axes>"
            ]
          },
          "metadata": {
            "tags": [],
            "needs_background": "light"
          }
        }
      ]
    },
    {
      "cell_type": "code",
      "metadata": {
        "colab": {
          "base_uri": "https://localhost:8080/",
          "height": 463
        },
        "id": "We94X-Dfo9BZ",
        "outputId": "3864ce0c-1045-44d2-b460-bf88f614ae13"
      },
      "source": [
        "# Boxplot for 'airconditioning' vs 'price'\n",
        "\n",
        "plt.figure(figsize = (7, 5), dpi = 96)\n",
        "sns.boxplot(x = 'airconditioning', y = 'price', data = df)\n",
        "plt.xticks(rotation = 90)\n",
        "plt.show()"
      ],
      "execution_count": null,
      "outputs": [
        {
          "output_type": "display_data",
          "data": {
            "image/png": "[encoded data removed]",
            "text/plain": [
              "<Figure size 672x480 with 1 Axes>"
            ]
          },
          "metadata": {
            "tags": [],
            "needs_background": "light"
          }
        }
      ]
    },
    {
      "cell_type": "code",
      "metadata": {
        "colab": {
          "base_uri": "https://localhost:8080/",
          "height": 463
        },
        "id": "nfa6bSKIo98Y",
        "outputId": "fa083dab-25c6-46ee-907c-e01a4571ce5f"
      },
      "source": [
        "# Boxplot for 'prefarea' vs 'price'\n",
        "\n",
        "plt.figure(figsize = (7, 5), dpi = 96)\n",
        "sns.boxplot(x = 'prefarea', y = 'price', data = df)\n",
        "plt.xticks(rotation = 90)\n",
        "plt.show()"
      ],
      "execution_count": null,
      "outputs": [
        {
          "output_type": "display_data",
          "data": {
            "image/png": "[encoded data removed]",
            "text/plain": [
              "<Figure size 672x480 with 1 Axes>"
            ]
          },
          "metadata": {
            "tags": [],
            "needs_background": "light"
          }
        }
      ]
    },
    {
      "cell_type": "code",
      "metadata": {
        "colab": {
          "base_uri": "https://localhost:8080/",
          "height": 540
        },
        "id": "d1OlbcvXjy4s",
        "outputId": "e9569989-7a2c-4822-fe4a-bccf0e3dd2b9"
      },
      "source": [
        "# Boxplot for 'furnishingstatus' vs 'price'\n",
        "\n",
        "plt.figure(figsize = (7, 5), dpi = 96)\n",
        "sns.boxplot(x = 'furnishingstatus', y = 'price', data = df)\n",
        "plt.xticks(rotation = 90)\n",
        "plt.show()"
      ],
      "execution_count": null,
      "outputs": [
        {
          "output_type": "display_data",
          "data": {
            "image/png": "[encoded data removed]",
            "text/plain": [
              "<Figure size 672x480 with 1 Axes>"
            ]
          },
          "metadata": {
            "tags": [],
            "needs_background": "light"
          }
        }
      ]
    },
    {
      "cell_type": "code",
      "metadata": {
        "id": "pnJ_Yv9MzSn8",
        "colab": {
          "base_uri": "https://localhost:8080/",
          "height": 463
        },
        "outputId": "35a9413e-357e-40ac-977d-1f113f67b2cd"
      },
      "source": [
        "# Create scatter plot with 'area' on X-axis and 'price' on Y-axis\n",
        "\n",
        "plt.figure(figsize = (12, 5), dpi = 96)\n",
        "plt.title(\"area vs Price\", fontsize = 16)\n",
        "plt.scatter(df['area'], df['price'])\n",
        "plt.xlabel(\"area\")\n",
        "plt.ylabel(\"Price\")\n",
        "plt.show()"
      ],
      "execution_count": null,
      "outputs": [
        {
          "output_type": "display_data",
          "data": {
            "image/png": "[encoded data removed]",
            "text/plain": [
              "<Figure size 1152x480 with 1 Axes>"
            ]
          },
          "metadata": {
            "tags": [],
            "needs_background": "light"
          }
        }
      ]
    },
    {
      "cell_type": "code",
      "metadata": {
        "colab": {
          "base_uri": "https://localhost:8080/",
          "height": 463
        },
        "id": "is7gd_Z1p4y7",
        "outputId": "a8c7f93f-848a-4434-d185-df3be3564385"
      },
      "source": [
        "# Create scatter plot with 'bedrooms' on X-axis and 'price' on Y-axis\n",
        "\n",
        "plt.figure(figsize = (12, 5), dpi = 96)\n",
        "plt.title(\"bedrooms vs Price\", fontsize = 16)\n",
        "plt.scatter(df['bedrooms'], df['price'])\n",
        "plt.xlabel(\"bedrooms\")\n",
        "plt.ylabel(\"Price\")\n",
        "plt.show()"
      ],
      "execution_count": null,
      "outputs": [
        {
          "output_type": "display_data",
          "data": {
            "image/png": "[encoded data removed]",
            "text/plain": [
              "<Figure size 1152x480 with 1 Axes>"
            ]
          },
          "metadata": {
            "tags": [],
            "needs_background": "light"
          }
        }
      ]
    },
    {
      "cell_type": "code",
      "metadata": {
        "colab": {
          "base_uri": "https://localhost:8080/",
          "height": 463
        },
        "id": "2nawvemNp5jO",
        "outputId": "0850e3d0-1246-4438-f346-e61f4d0c8220"
      },
      "source": [
        "# Create scatter plot with 'bathrooms' on X-axis and 'price' on Y-axis\n",
        "\n",
        "plt.figure(figsize = (12, 5), dpi = 96)\n",
        "plt.title(\"bathrooms vs Price\", fontsize = 16)\n",
        "plt.scatter(df['bathrooms'], df['price'])\n",
        "plt.xlabel(\"bathrooms\")\n",
        "plt.ylabel(\"Price\")\n",
        "plt.show()"
      ],
      "execution_count": null,
      "outputs": [
        {
          "output_type": "display_data",
          "data": {
            "image/png": "[encoded data removed]",
            "text/plain": [
              "<Figure size 1152x480 with 1 Axes>"
            ]
          },
          "metadata": {
            "tags": [],
            "needs_background": "light"
          }
        }
      ]
    },
    {
      "cell_type": "code",
      "metadata": {
        "colab": {
          "base_uri": "https://localhost:8080/",
          "height": 463
        },
        "id": "PDfLIRf0p6b1",
        "outputId": "44bb19e2-8860-4368-8d37-0d79aeb05b7e"
      },
      "source": [
        "# Create scatter plot with 'stories' on X-axis and 'price' on Y-axis\n",
        "\n",
        "plt.figure(figsize = (12, 5), dpi = 96)\n",
        "plt.title(\"stories vs Price\", fontsize = 16)\n",
        "plt.scatter(df['stories'], df['price'])\n",
        "plt.xlabel(\"stories\")\n",
        "plt.ylabel(\"Price\")\n",
        "plt.show()"
      ],
      "execution_count": null,
      "outputs": [
        {
          "output_type": "display_data",
          "data": {
            "image/png": "[encoded data removed]",
            "text/plain": [
              "<Figure size 1152x480 with 1 Axes>"
            ]
          },
          "metadata": {
            "tags": [],
            "needs_background": "light"
          }
        }
      ]
    },
    {
      "cell_type": "code",
      "metadata": {
        "id": "QIpsz4Gd5M-e",
        "colab": {
          "base_uri": "https://localhost:8080/",
          "height": 386
        },
        "outputId": "7c0e4390-d97c-4768-ff7d-9d7b00972abb"
      },
      "source": [
        "# Create a normal distribution curve for the 'price'.\n",
        "\n",
        "# Create a probablity density function for plotting the normal distribution\n",
        "def prob_density_func(series):\n",
        "  CONST = 1 / (series.std() * np.sqrt(2 * np.pi))\n",
        "  power_of_e = - (series - series.mean()) ** 2 / (2 * series.var()) # 'pd.Series.var()' function returns the variance of the series.\n",
        "  new_array = CONST * np.exp(power_of_e)\n",
        "  return new_array\n",
        "\n",
        "# Plot the normal distribution curve using plt.scatter()\n",
        "plt.figure(figsize = (12, 4), dpi = 96)\n",
        "plt.scatter(df['price'], prob_density_func(df['price']))\n",
        "plt.title(\"Normal Distribution for Errors in the Prediction on Train Set\")\n",
        "plt.axvline(x = df['price'].mean(), label = f\"Mean of errors = {df['price'].mean():.3f}\", color = 'r')\n",
        "plt.xlabel(\"Train Set Errors\")\n",
        "plt.legend()\n",
        "plt.show()"
      ],
      "execution_count": null,
      "outputs": [
        {
          "output_type": "display_data",
          "data": {
            "image/png": "[encoded data removed]",
            "text/plain": [
              "<Figure size 1152x384 with 1 Axes>"
            ]
          },
          "metadata": {
            "tags": [],
            "needs_background": "light"
          }
        }
      ]
    },
    {
      "cell_type": "markdown",
      "metadata": {
        "id": "AnYUk03JZHNW"
      },
      "source": [
        "---"
      ]
    },
    {
      "cell_type": "markdown",
      "metadata": {
        "id": "hV_89Nj7134T"
      },
      "source": [
        "#### 3. Feature encoding\n",
        "\n",
        "using `map()` function and one-hot encoding"
      ]
    },
    {
      "cell_type": "code",
      "metadata": {
        "id": "KtUqbj3nrpsw"
      },
      "source": [
        "# Replace yes with 1 and no with 0 for all the values in features 'mainroad', 'guestroom', 'basement', 'hotwaterheating', 'airconditioning', 'prefarea' using map() function.\n",
        "\n",
        "varlist =  ['mainroad', 'guestroom', 'basement', 'hotwaterheating', 'airconditioning', 'prefarea']\n",
        "\n",
        "# Defining the map function\n",
        "def binary_map(x):\n",
        "    return x.map({'yes': 1, \"no\": 0})\n",
        "\n",
        "# Applying the function to the housing list\n",
        "df[varlist] = df[varlist].apply(binary_map)"
      ],
      "execution_count": null,
      "outputs": []
    },
    {
      "cell_type": "code",
      "metadata": {
        "colab": {
          "base_uri": "https://localhost:8080/",
          "height": 204
        },
        "id": "NyBVyE1mrwg1",
        "outputId": "16e5e7b3-4eca-4d26-9f92-af5c2a3472af"
      },
      "source": [
        "# Print dataframe using df.head()\n",
        "df.head()"
      ],
      "execution_count": null,
      "outputs": [
        {
          "output_type": "execute_result",
          "data": {
            "text/html": [
              "<div>\n",
              "<style scoped>\n",
              "    .dataframe tbody tr th:only-of-type {\n",
              "        vertical-align: middle;\n",
              "    }\n",
              "\n",
              "    .dataframe tbody tr th {\n",
              "        vertical-align: top;\n",
              "    }\n",
              "\n",
              "    .dataframe thead th {\n",
              "        text-align: right;\n",
              "    }\n",
              "</style>\n",
              "<table border=\"1\" class=\"dataframe\">\n",
              "  <thead>\n",
              "    <tr style=\"text-align: right;\">\n",
              "      <th></th>\n",
              "      <th>price</th>\n",
              "      <th>area</th>\n",
              "      <th>bedrooms</th>\n",
              "      <th>bathrooms</th>\n",
              "      <th>stories</th>\n",
              "      <th>mainroad</th>\n",
              "      <th>guestroom</th>\n",
              "      <th>basement</th>\n",
              "      <th>hotwaterheating</th>\n",
              "      <th>airconditioning</th>\n",
              "      <th>parking</th>\n",
              "      <th>prefarea</th>\n",
              "      <th>furnishingstatus</th>\n",
              "    </tr>\n",
              "  </thead>\n",
              "  <tbody>\n",
              "    <tr>\n",
              "      <th>0</th>\n",
              "      <td>13300000</td>\n",
              "      <td>7420</td>\n",
              "      <td>4</td>\n",
              "      <td>2</td>\n",
              "      <td>3</td>\n",
              "      <td>1</td>\n",
              "      <td>0</td>\n",
              "      <td>0</td>\n",
              "      <td>0</td>\n",
              "      <td>1</td>\n",
              "      <td>2</td>\n",
              "      <td>1</td>\n",
              "      <td>furnished</td>\n",
              "    </tr>\n",
              "    <tr>\n",
              "      <th>1</th>\n",
              "      <td>12250000</td>\n",
              "      <td>8960</td>\n",
              "      <td>4</td>\n",
              "      <td>4</td>\n",
              "      <td>4</td>\n",
              "      <td>1</td>\n",
              "      <td>0</td>\n",
              "      <td>0</td>\n",
              "      <td>0</td>\n",
              "      <td>1</td>\n",
              "      <td>3</td>\n",
              "      <td>0</td>\n",
              "      <td>furnished</td>\n",
              "    </tr>\n",
              "    <tr>\n",
              "      <th>2</th>\n",
              "      <td>12250000</td>\n",
              "      <td>9960</td>\n",
              "      <td>3</td>\n",
              "      <td>2</td>\n",
              "      <td>2</td>\n",
              "      <td>1</td>\n",
              "      <td>0</td>\n",
              "      <td>1</td>\n",
              "      <td>0</td>\n",
              "      <td>0</td>\n",
              "      <td>2</td>\n",
              "      <td>1</td>\n",
              "      <td>semi-furnished</td>\n",
              "    </tr>\n",
              "    <tr>\n",
              "      <th>3</th>\n",
              "      <td>12215000</td>\n",
              "      <td>7500</td>\n",
              "      <td>4</td>\n",
              "      <td>2</td>\n",
              "      <td>2</td>\n",
              "      <td>1</td>\n",
              "      <td>0</td>\n",
              "      <td>1</td>\n",
              "      <td>0</td>\n",
              "      <td>1</td>\n",
              "      <td>3</td>\n",
              "      <td>1</td>\n",
              "      <td>furnished</td>\n",
              "    </tr>\n",
              "    <tr>\n",
              "      <th>4</th>\n",
              "      <td>11410000</td>\n",
              "      <td>7420</td>\n",
              "      <td>4</td>\n",
              "      <td>1</td>\n",
              "      <td>2</td>\n",
              "      <td>1</td>\n",
              "      <td>1</td>\n",
              "      <td>1</td>\n",
              "      <td>0</td>\n",
              "      <td>1</td>\n",
              "      <td>2</td>\n",
              "      <td>0</td>\n",
              "      <td>furnished</td>\n",
              "    </tr>\n",
              "  </tbody>\n",
              "</table>\n",
              "</div>"
            ],
            "text/plain": [
              "      price  area  bedrooms  ...  parking  prefarea  furnishingstatus\n",
              "0  13300000  7420         4  ...        2         1         furnished\n",
              "1  12250000  8960         4  ...        3         0         furnished\n",
              "2  12250000  9960         3  ...        2         1    semi-furnished\n",
              "3  12215000  7500         4  ...        3         1         furnished\n",
              "4  11410000  7420         4  ...        2         0         furnished\n",
              "\n",
              "[5 rows x 13 columns]"
            ]
          },
          "metadata": {
            "tags": []
          },
          "execution_count": 419
        }
      ]
    },
    {
      "cell_type": "code",
      "metadata": {
        "colab": {
          "base_uri": "https://localhost:8080/",
          "height": 241
        },
        "id": "uZQ5753MkgUn",
        "outputId": "bf9837fd-1919-4ea0-ed92-0f9d3c64d9b1"
      },
      "source": [
        "# Perform one hot encoding for furnishingstatus feature.\n",
        "\n",
        "df_dummies_furnishingstatus = pd.get_dummies(df['furnishingstatus'], drop_first = False)\n",
        "df = pd.concat([df, df_dummies_furnishingstatus], axis = 1)\n",
        "df.head()"
      ],
      "execution_count": null,
      "outputs": [
        {
          "output_type": "execute_result",
          "data": {
            "text/html": [
              "<div>\n",
              "<style scoped>\n",
              "    .dataframe tbody tr th:only-of-type {\n",
              "        vertical-align: middle;\n",
              "    }\n",
              "\n",
              "    .dataframe tbody tr th {\n",
              "        vertical-align: top;\n",
              "    }\n",
              "\n",
              "    .dataframe thead th {\n",
              "        text-align: right;\n",
              "    }\n",
              "</style>\n",
              "<table border=\"1\" class=\"dataframe\">\n",
              "  <thead>\n",
              "    <tr style=\"text-align: right;\">\n",
              "      <th></th>\n",
              "      <th>price</th>\n",
              "      <th>area</th>\n",
              "      <th>bedrooms</th>\n",
              "      <th>bathrooms</th>\n",
              "      <th>stories</th>\n",
              "      <th>mainroad</th>\n",
              "      <th>guestroom</th>\n",
              "      <th>basement</th>\n",
              "      <th>hotwaterheating</th>\n",
              "      <th>airconditioning</th>\n",
              "      <th>parking</th>\n",
              "      <th>prefarea</th>\n",
              "      <th>furnishingstatus</th>\n",
              "      <th>furnished</th>\n",
              "      <th>semi-furnished</th>\n",
              "      <th>unfurnished</th>\n",
              "    </tr>\n",
              "  </thead>\n",
              "  <tbody>\n",
              "    <tr>\n",
              "      <th>0</th>\n",
              "      <td>13300000</td>\n",
              "      <td>7420</td>\n",
              "      <td>4</td>\n",
              "      <td>2</td>\n",
              "      <td>3</td>\n",
              "      <td>1</td>\n",
              "      <td>0</td>\n",
              "      <td>0</td>\n",
              "      <td>0</td>\n",
              "      <td>1</td>\n",
              "      <td>2</td>\n",
              "      <td>1</td>\n",
              "      <td>furnished</td>\n",
              "      <td>1</td>\n",
              "      <td>0</td>\n",
              "      <td>0</td>\n",
              "    </tr>\n",
              "    <tr>\n",
              "      <th>1</th>\n",
              "      <td>12250000</td>\n",
              "      <td>8960</td>\n",
              "      <td>4</td>\n",
              "      <td>4</td>\n",
              "      <td>4</td>\n",
              "      <td>1</td>\n",
              "      <td>0</td>\n",
              "      <td>0</td>\n",
              "      <td>0</td>\n",
              "      <td>1</td>\n",
              "      <td>3</td>\n",
              "      <td>0</td>\n",
              "      <td>furnished</td>\n",
              "      <td>1</td>\n",
              "      <td>0</td>\n",
              "      <td>0</td>\n",
              "    </tr>\n",
              "    <tr>\n",
              "      <th>2</th>\n",
              "      <td>12250000</td>\n",
              "      <td>9960</td>\n",
              "      <td>3</td>\n",
              "      <td>2</td>\n",
              "      <td>2</td>\n",
              "      <td>1</td>\n",
              "      <td>0</td>\n",
              "      <td>1</td>\n",
              "      <td>0</td>\n",
              "      <td>0</td>\n",
              "      <td>2</td>\n",
              "      <td>1</td>\n",
              "      <td>semi-furnished</td>\n",
              "      <td>0</td>\n",
              "      <td>1</td>\n",
              "      <td>0</td>\n",
              "    </tr>\n",
              "    <tr>\n",
              "      <th>3</th>\n",
              "      <td>12215000</td>\n",
              "      <td>7500</td>\n",
              "      <td>4</td>\n",
              "      <td>2</td>\n",
              "      <td>2</td>\n",
              "      <td>1</td>\n",
              "      <td>0</td>\n",
              "      <td>1</td>\n",
              "      <td>0</td>\n",
              "      <td>1</td>\n",
              "      <td>3</td>\n",
              "      <td>1</td>\n",
              "      <td>furnished</td>\n",
              "      <td>1</td>\n",
              "      <td>0</td>\n",
              "      <td>0</td>\n",
              "    </tr>\n",
              "    <tr>\n",
              "      <th>4</th>\n",
              "      <td>11410000</td>\n",
              "      <td>7420</td>\n",
              "      <td>4</td>\n",
              "      <td>1</td>\n",
              "      <td>2</td>\n",
              "      <td>1</td>\n",
              "      <td>1</td>\n",
              "      <td>1</td>\n",
              "      <td>0</td>\n",
              "      <td>1</td>\n",
              "      <td>2</td>\n",
              "      <td>0</td>\n",
              "      <td>furnished</td>\n",
              "      <td>1</td>\n",
              "      <td>0</td>\n",
              "      <td>0</td>\n",
              "    </tr>\n",
              "  </tbody>\n",
              "</table>\n",
              "</div>"
            ],
            "text/plain": [
              "      price  area  bedrooms  ...  furnished  semi-furnished  unfurnished\n",
              "0  13300000  7420         4  ...          1               0            0\n",
              "1  12250000  8960         4  ...          1               0            0\n",
              "2  12250000  9960         3  ...          0               1            0\n",
              "3  12215000  7500         4  ...          1               0            0\n",
              "4  11410000  7420         4  ...          1               0            0\n",
              "\n",
              "[5 rows x 16 columns]"
            ]
          },
          "metadata": {
            "tags": []
          },
          "execution_count": 420
        }
      ]
    },
    {
      "cell_type": "code",
      "metadata": {
        "id": "v7j60gXuxkSo"
      },
      "source": [
        "# Drop 'furnishingstatus' feature\n",
        "\n",
        "df.drop(['furnishingstatus'], axis = 1, inplace=True)"
      ],
      "execution_count": null,
      "outputs": []
    },
    {
      "cell_type": "code",
      "metadata": {
        "colab": {
          "base_uri": "https://localhost:8080/",
          "height": 241
        },
        "id": "98TkE-Uvxu1W",
        "outputId": "0f77af9d-a517-4980-85ff-e4d7843d6100"
      },
      "source": [
        "# Print dataframe using df.head()\n",
        "df.head()"
      ],
      "execution_count": null,
      "outputs": [
        {
          "output_type": "execute_result",
          "data": {
            "text/html": [
              "<div>\n",
              "<style scoped>\n",
              "    .dataframe tbody tr th:only-of-type {\n",
              "        vertical-align: middle;\n",
              "    }\n",
              "\n",
              "    .dataframe tbody tr th {\n",
              "        vertical-align: top;\n",
              "    }\n",
              "\n",
              "    .dataframe thead th {\n",
              "        text-align: right;\n",
              "    }\n",
              "</style>\n",
              "<table border=\"1\" class=\"dataframe\">\n",
              "  <thead>\n",
              "    <tr style=\"text-align: right;\">\n",
              "      <th></th>\n",
              "      <th>price</th>\n",
              "      <th>area</th>\n",
              "      <th>bedrooms</th>\n",
              "      <th>bathrooms</th>\n",
              "      <th>stories</th>\n",
              "      <th>mainroad</th>\n",
              "      <th>guestroom</th>\n",
              "      <th>basement</th>\n",
              "      <th>hotwaterheating</th>\n",
              "      <th>airconditioning</th>\n",
              "      <th>parking</th>\n",
              "      <th>prefarea</th>\n",
              "      <th>furnished</th>\n",
              "      <th>semi-furnished</th>\n",
              "      <th>unfurnished</th>\n",
              "    </tr>\n",
              "  </thead>\n",
              "  <tbody>\n",
              "    <tr>\n",
              "      <th>0</th>\n",
              "      <td>13300000</td>\n",
              "      <td>7420</td>\n",
              "      <td>4</td>\n",
              "      <td>2</td>\n",
              "      <td>3</td>\n",
              "      <td>1</td>\n",
              "      <td>0</td>\n",
              "      <td>0</td>\n",
              "      <td>0</td>\n",
              "      <td>1</td>\n",
              "      <td>2</td>\n",
              "      <td>1</td>\n",
              "      <td>1</td>\n",
              "      <td>0</td>\n",
              "      <td>0</td>\n",
              "    </tr>\n",
              "    <tr>\n",
              "      <th>1</th>\n",
              "      <td>12250000</td>\n",
              "      <td>8960</td>\n",
              "      <td>4</td>\n",
              "      <td>4</td>\n",
              "      <td>4</td>\n",
              "      <td>1</td>\n",
              "      <td>0</td>\n",
              "      <td>0</td>\n",
              "      <td>0</td>\n",
              "      <td>1</td>\n",
              "      <td>3</td>\n",
              "      <td>0</td>\n",
              "      <td>1</td>\n",
              "      <td>0</td>\n",
              "      <td>0</td>\n",
              "    </tr>\n",
              "    <tr>\n",
              "      <th>2</th>\n",
              "      <td>12250000</td>\n",
              "      <td>9960</td>\n",
              "      <td>3</td>\n",
              "      <td>2</td>\n",
              "      <td>2</td>\n",
              "      <td>1</td>\n",
              "      <td>0</td>\n",
              "      <td>1</td>\n",
              "      <td>0</td>\n",
              "      <td>0</td>\n",
              "      <td>2</td>\n",
              "      <td>1</td>\n",
              "      <td>0</td>\n",
              "      <td>1</td>\n",
              "      <td>0</td>\n",
              "    </tr>\n",
              "    <tr>\n",
              "      <th>3</th>\n",
              "      <td>12215000</td>\n",
              "      <td>7500</td>\n",
              "      <td>4</td>\n",
              "      <td>2</td>\n",
              "      <td>2</td>\n",
              "      <td>1</td>\n",
              "      <td>0</td>\n",
              "      <td>1</td>\n",
              "      <td>0</td>\n",
              "      <td>1</td>\n",
              "      <td>3</td>\n",
              "      <td>1</td>\n",
              "      <td>1</td>\n",
              "      <td>0</td>\n",
              "      <td>0</td>\n",
              "    </tr>\n",
              "    <tr>\n",
              "      <th>4</th>\n",
              "      <td>11410000</td>\n",
              "      <td>7420</td>\n",
              "      <td>4</td>\n",
              "      <td>1</td>\n",
              "      <td>2</td>\n",
              "      <td>1</td>\n",
              "      <td>1</td>\n",
              "      <td>1</td>\n",
              "      <td>0</td>\n",
              "      <td>1</td>\n",
              "      <td>2</td>\n",
              "      <td>0</td>\n",
              "      <td>1</td>\n",
              "      <td>0</td>\n",
              "      <td>0</td>\n",
              "    </tr>\n",
              "  </tbody>\n",
              "</table>\n",
              "</div>"
            ],
            "text/plain": [
              "      price  area  bedrooms  ...  furnished  semi-furnished  unfurnished\n",
              "0  13300000  7420         4  ...          1               0            0\n",
              "1  12250000  8960         4  ...          1               0            0\n",
              "2  12250000  9960         3  ...          0               1            0\n",
              "3  12215000  7500         4  ...          1               0            0\n",
              "4  11410000  7420         4  ...          1               0            0\n",
              "\n",
              "[5 rows x 15 columns]"
            ]
          },
          "metadata": {
            "tags": []
          },
          "execution_count": 422
        }
      ]
    },
    {
      "cell_type": "markdown",
      "metadata": {
        "id": "zOCUEcX8uRqy"
      },
      "source": [
        "---"
      ]
    },
    {
      "cell_type": "markdown",
      "metadata": {
        "id": "DPA5gDelbIhQ"
      },
      "source": [
        "#### 4. Model Building and Evaluation\n",
        "\n",
        "Build a multiple linear regression model using the `statsmodels.api` module."
      ]
    },
    {
      "cell_type": "code",
      "metadata": {
        "id": "wQzZoKiQMsLe"
      },
      "source": [
        "# Split the 'df' Dataframe into the train and test sets.\n",
        "\n",
        "from sklearn.model_selection import train_test_split\n",
        "train_df, test_df = train_test_split(df, test_size = 0.4, random_state = 42)"
      ],
      "execution_count": null,
      "outputs": []
    },
    {
      "cell_type": "code",
      "metadata": {
        "id": "QaMtadzBMx1b",
        "colab": {
          "base_uri": "https://localhost:8080/"
        },
        "outputId": "72d9d8f4-c41e-47cf-b654-f88514d4deef"
      },
      "source": [
        "# Create separate data-frames for the feature and target variables for both the train and test sets.\n",
        "\n",
        "features = list(df.columns)\n",
        "features.remove('price')\n",
        "\n",
        "X_train = train_df[features]\n",
        "y_train = train_df['price']\n",
        "X_test = test_df[features]\n",
        "y_test = test_df['price']\n",
        "\n",
        "X_train.shape"
      ],
      "execution_count": null,
      "outputs": [
        {
          "output_type": "execute_result",
          "data": {
            "text/plain": [
              "(327, 14)"
            ]
          },
          "metadata": {
            "tags": []
          },
          "execution_count": 424
        }
      ]
    },
    {
      "cell_type": "code",
      "metadata": {
        "id": "NmVNQIXoM_e7",
        "colab": {
          "base_uri": "https://localhost:8080/"
        },
        "outputId": "624374dd-f108-4e6d-9907-6faa8ce30eb0"
      },
      "source": [
        "# Build a linear regression model using all the features to predict prices.\n",
        "\n",
        "import statsmodels.api as sm\n",
        "\n",
        "X_train_sm = sm.add_constant(X_train)\n",
        "lin_reg = sm.OLS(y_train, X_train_sm).fit()\n",
        "lin_reg.params"
      ],
      "execution_count": null,
      "outputs": [
        {
          "output_type": "execute_result",
          "data": {
            "text/plain": [
              "const              176949.758861\n",
              "area                  250.417281\n",
              "bedrooms           102581.211492\n",
              "bathrooms          899354.834345\n",
              "stories            384354.682068\n",
              "mainroad           383444.453667\n",
              "guestroom          346059.536764\n",
              "basement           419534.833346\n",
              "hotwaterheating    737594.611729\n",
              "airconditioning    653976.113075\n",
              "parking            254916.721961\n",
              "prefarea           454983.454541\n",
              "furnished          270904.493983\n",
              "semi-furnished     116684.364007\n",
              "unfurnished       -210639.099130\n",
              "dtype: float64"
            ]
          },
          "metadata": {
            "tags": []
          },
          "execution_count": 425
        }
      ]
    },
    {
      "cell_type": "code",
      "metadata": {
        "id": "bTRC2EzPNES8",
        "colab": {
          "base_uri": "https://localhost:8080/"
        },
        "outputId": "eddec182-50f1-4a90-a1d6-29934c9c2429"
      },
      "source": [
        "# Print the summary of the linear regression report.\n",
        "\n",
        "print(lin_reg.summary())"
      ],
      "execution_count": null,
      "outputs": [
        {
          "output_type": "stream",
          "text": [
            "                            OLS Regression Results                            \n",
            "==============================================================================\n",
            "Dep. Variable:                  price   R-squared:                       0.659\n",
            "Model:                            OLS   Adj. R-squared:                  0.645\n",
            "Method:                 Least Squares   F-statistic:                     46.60\n",
            "Date:                Thu, 03 Dec 2020   Prob (F-statistic):           3.00e-65\n",
            "Time:                        09:35:01   Log-Likelihood:                -4965.2\n",
            "No. Observations:                 327   AIC:                             9958.\n",
            "Df Residuals:                     313   BIC:                         1.001e+04\n",
            "Df Model:                          13                                         \n",
            "Covariance Type:            nonrobust                                         \n",
            "===================================================================================\n",
            "                      coef    std err          t      P>|t|      [0.025      0.975]\n",
            "-----------------------------------------------------------------------------------\n",
            "const            1.769e+05   2.17e+05      0.817      0.415   -2.49e+05    6.03e+05\n",
            "area              250.4173     30.653      8.169      0.000     190.105     310.729\n",
            "bedrooms         1.026e+05   8.42e+04      1.218      0.224   -6.32e+04    2.68e+05\n",
            "bathrooms        8.994e+05   1.34e+05      6.717      0.000    6.36e+05    1.16e+06\n",
            "stories          3.844e+05   8.07e+04      4.761      0.000    2.26e+05    5.43e+05\n",
            "mainroad         3.834e+05   1.65e+05      2.329      0.020    5.96e+04    7.07e+05\n",
            "guestroom        3.461e+05   1.63e+05      2.126      0.034    2.57e+04    6.66e+05\n",
            "basement         4.195e+05   1.35e+05      3.106      0.002    1.54e+05    6.85e+05\n",
            "hotwaterheating  7.376e+05   2.51e+05      2.935      0.004    2.43e+05    1.23e+06\n",
            "airconditioning   6.54e+05   1.32e+05      4.954      0.000    3.94e+05    9.14e+05\n",
            "parking          2.549e+05   7.09e+04      3.598      0.000    1.16e+05    3.94e+05\n",
            "prefarea          4.55e+05   1.39e+05      3.284      0.001    1.82e+05    7.28e+05\n",
            "furnished        2.709e+05   1.22e+05      2.226      0.027    3.15e+04     5.1e+05\n",
            "semi-furnished   1.167e+05   1.04e+05      1.123      0.262   -8.77e+04    3.21e+05\n",
            "unfurnished     -2.106e+05   9.59e+04     -2.196      0.029   -3.99e+05   -2.19e+04\n",
            "==============================================================================\n",
            "Omnibus:                       64.150   Durbin-Watson:                   1.880\n",
            "Prob(Omnibus):                  0.000   Jarque-Bera (JB):              173.428\n",
            "Skew:                           0.907   Prob(JB):                     2.19e-38\n",
            "Kurtosis:                       6.072   Cond. No.                     1.27e+19\n",
            "==============================================================================\n",
            "\n",
            "Warnings:\n",
            "[1] Standard Errors assume that the covariance matrix of the errors is correctly specified.\n",
            "[2] The smallest eigenvalue is 5.86e-29. This might indicate that there are\n",
            "strong multicollinearity problems or that the design matrix is singular.\n"
          ],
          "name": "stdout"
        }
      ]
    },
    {
      "cell_type": "code",
      "metadata": {
        "id": "J7Yt4qRL1nEE",
        "colab": {
          "base_uri": "https://localhost:8080/"
        },
        "outputId": "3a006262-ee46-438b-dae1-93714b4d81fd"
      },
      "source": [
        "# Calculate N and p values\n",
        "\n",
        "num_rows = X_train.shape[0] # Number of rows or instances\n",
        "num_predictors = X_train.shape[1] # Number of columns or feature (or independent) variables\n",
        "print(\"Number of rows (N):\", num_rows)\n",
        "print(\"Number of predictors (p):\", num_predictors)"
      ],
      "execution_count": null,
      "outputs": [
        {
          "output_type": "stream",
          "text": [
            "Number of rows (N): 327\n",
            "Number of predictors (p): 14\n"
          ],
          "name": "stdout"
        }
      ]
    },
    {
      "cell_type": "code",
      "metadata": {
        "id": "Y5oVTSm2NI0N",
        "colab": {
          "base_uri": "https://localhost:8080/"
        },
        "outputId": "045d6096-f716-4536-b7f7-aa8476dec210"
      },
      "source": [
        "# Calculate the adjusted R-square value.\n",
        "\n",
        "num_rows = X_train.shape[0] # Number of rows or instances\n",
        "num_predictors = X_train.shape[1] # Number of columns or feature (or independent) variables\n",
        "r2_score = lin_reg.rsquared # R-squared (or coefficient of determination) value\n",
        "adj_r2_score = 1 - ((1 - r2_score) * (num_rows - 1))/(num_rows - num_predictors - 1) # Adjusted R-squared calculation\n",
        "adj_r2_score"
      ],
      "execution_count": null,
      "outputs": [
        {
          "output_type": "execute_result",
          "data": {
            "text/plain": [
              "0.6440745823412127"
            ]
          },
          "metadata": {
            "tags": []
          },
          "execution_count": 428
        }
      ]
    },
    {
      "cell_type": "markdown",
      "metadata": {
        "id": "0g5bWR7KevKp"
      },
      "source": [
        "**Q:** What is the Adjusted $R^2$ value?\n",
        "\n",
        "**A:**\n",
        "0.641."
      ]
    },
    {
      "cell_type": "markdown",
      "metadata": {
        "id": "MGiJbicSY0cB"
      },
      "source": [
        "---"
      ]
    },
    {
      "cell_type": "markdown",
      "metadata": {
        "id": "jdISoNS3dXv7"
      },
      "source": [
        "#### 5. Model Evaluation\n",
        "\n",
        "Build a multiple linear regression model  using `sklearn` module. Also, evaluate the model by calculating $R^2$, MSE, RMSE, and MAE values."
      ]
    },
    {
      "cell_type": "code",
      "metadata": {
        "id": "UasyrqoReltr",
        "colab": {
          "base_uri": "https://localhost:8080/"
        },
        "outputId": "361ff512-f8e6-4385-f93e-93068e740171"
      },
      "source": [
        "# Build multiple linear regression model using all the features\n",
        "\n",
        "from sklearn.model_selection import train_test_split\n",
        "from sklearn.linear_model import LinearRegression\n",
        "\n",
        "# Build linear regression model using the 'sklearn.linear_model' module.\n",
        "sklearn_lin_reg = LinearRegression()\n",
        "sklearn_lin_reg.fit(X_train, y_train)\n",
        "\n",
        "# Print the value of the intercept\n",
        "print(\"\\nConstant\".ljust(15, \" \"), f\"{sklearn_lin_reg.intercept_:.6f}\")\n",
        "\n",
        "# Print the names of the features along with the values of their corresponding coefficients.\n",
        "for item in list(zip(X.columns.values, sklearn_lin_reg.coef_)):\n",
        "  print(f\"{item[0]}\".ljust(15, \" \"), f\"{item[1]:.6f}\")"
      ],
      "execution_count": null,
      "outputs": [
        {
          "output_type": "stream",
          "text": [
            "\n",
            "Constant       235933.011814\n",
            "bathrooms       250.417281\n",
            "mainroad        102581.211492\n",
            "guestroom       899354.834345\n",
            "airconditioning 384354.682068\n",
            "parking         383444.453667\n",
            "prefarea        346059.536764\n",
            "unfurnished     419534.833346\n"
          ],
          "name": "stdout"
        }
      ]
    },
    {
      "cell_type": "code",
      "metadata": {
        "id": "O_Jn8jYZe0AJ",
        "colab": {
          "base_uri": "https://localhost:8080/"
        },
        "outputId": "d1ee739c-5ca2-49a3-9216-c2994feaacfa"
      },
      "source": [
        "# Evaluate the linear regression model using the 'r2_score', 'mean_squared_error' & 'mean_absolute_error' functions of the 'sklearn' module.\n",
        "from sklearn.metrics import r2_score, mean_squared_error, mean_absolute_error\n",
        "\n",
        "y_train_pred = sklearn_lin_reg.predict(X_train)\n",
        "y_test_pred = sklearn_lin_reg.predict(X_test)\n",
        "\n",
        "print(f\"Train Set\\n{'-' * 50}\")\n",
        "print(f\"R-squared: {r2_score(y_train, y_train_pred):.3f}\")\n",
        "print(f\"Mean Squared Error: {mean_squared_error(y_train, y_train_pred):.3f}\")\n",
        "print(f\"Root Mean Squared Error: {np.sqrt(mean_squared_error(y_train, y_train_pred)):.3f}\")\n",
        "print(f\"Mean Absolute Error: {mean_absolute_error(y_train, y_train_pred):.3f}\")\n",
        "\n",
        "print(f\"\\n\\nTest Set\\n{'-' * 50}\")\n",
        "print(f\"R-squared: {r2_score(y_test, y_test_pred):.3f}\")\n",
        "print(f\"Mean Squared Error: {mean_squared_error(y_test, y_test_pred):.3f}\")\n",
        "print(f\"Root Mean Squared Error: {np.sqrt(mean_squared_error(y_test, y_test_pred)):.3f}\")\n",
        "print(f\"Mean Absolute Error: {mean_absolute_error(y_test, y_test_pred):.3f}\")"
      ],
      "execution_count": null,
      "outputs": [
        {
          "output_type": "stream",
          "text": [
            "Train Set\n",
            "--------------------------------------------------\n",
            "R-squared: 0.659\n",
            "Mean Squared Error: 904270696211.558\n",
            "Root Mean Squared Error: 950931.489\n",
            "Mean Absolute Error: 685396.509\n",
            "\n",
            "\n",
            "Test Set\n",
            "--------------------------------------------------\n",
            "R-squared: 0.675\n",
            "Mean Squared Error: 1506230725917.455\n",
            "Root Mean Squared Error: 1227285.919\n",
            "Mean Absolute Error: 902975.642\n"
          ],
          "name": "stdout"
        }
      ]
    },
    {
      "cell_type": "markdown",
      "metadata": {
        "id": "nzGwobReGzyj"
      },
      "source": [
        "**Q:** What is the $R^2$ value for train set and test set?\n",
        "\n",
        "**A:** 0.659 for train set and 0.675 for test set."
      ]
    },
    {
      "cell_type": "markdown",
      "metadata": {
        "id": "JQjDiF7TY3NN"
      },
      "source": [
        "---"
      ]
    },
    {
      "cell_type": "markdown",
      "metadata": {
        "id": "LYr8UQBp6AlS"
      },
      "source": [
        "#### 6. Recursive Feature Elimination\n",
        "\n",
        "Find out the best features out of all features using RFE and evaluate the model again."
      ]
    },
    {
      "cell_type": "code",
      "metadata": {
        "colab": {
          "base_uri": "https://localhost:8080/"
        },
        "id": "7I4LSmb0oew9",
        "outputId": "e2d04571-8ffd-4ffd-8d95-f047cf2f5d9c"
      },
      "source": [
        "# Create a Python dictionary storing the moderately to highly correlated features with price and the corresponding correlation values.\n",
        "# Keep correlation threshold to be 0.2\n",
        "major_features = {}\n",
        "for f in features:\n",
        "  corr_coef = np.corrcoef(df['price'], df[f])[0, 1]\n",
        "  if (corr_coef >= 0.2) or (corr_coef <= -0.2):\n",
        "    major_features[f] = corr_coef\n",
        "\n",
        "print(\"Number of features moderately to highly correlated with price =\", len(major_features), \"\\n\")\n",
        "major_features"
      ],
      "execution_count": null,
      "outputs": [
        {
          "output_type": "stream",
          "text": [
            "Number of features moderately to highly correlated with price = 11 \n",
            "\n"
          ],
          "name": "stdout"
        },
        {
          "output_type": "execute_result",
          "data": {
            "text/plain": [
              "{'airconditioning': 0.4529540842560478,\n",
              " 'area': 0.5359973457780796,\n",
              " 'bathrooms': 0.517545339455011,\n",
              " 'bedrooms': 0.3664940257738689,\n",
              " 'furnished': 0.22935031248433113,\n",
              " 'guestroom': 0.2555172899349996,\n",
              " 'mainroad': 0.2968984892639764,\n",
              " 'parking': 0.3843936486357259,\n",
              " 'prefarea': 0.32977704986810735,\n",
              " 'stories': 0.4207123661886163,\n",
              " 'unfurnished': -0.2805873573251204}"
            ]
          },
          "metadata": {
            "tags": []
          },
          "execution_count": 431
        }
      ]
    },
    {
      "cell_type": "code",
      "metadata": {
        "colab": {
          "base_uri": "https://localhost:8080/"
        },
        "id": "VdSD1Jca7OuN",
        "outputId": "cfc3664a-cbb7-4ddd-edab-79f12560fe6b"
      },
      "source": [
        "# Perform RFE and select best 7 features\n",
        "\n",
        "from sklearn.feature_selection import RFE\n",
        "from sklearn.linear_model import LinearRegression\n",
        "\n",
        "# RFE with 7 features.\n",
        "skl_lin_reg = LinearRegression()\n",
        "rfe1 = RFE(skl_lin_reg, 7)\n",
        "\n",
        "# Fit with 2 features.\n",
        "rfe1.fit(X_train[major_features.keys()], y_train)\n",
        "\n",
        "# Print the attributes.\n",
        "print(major_features.keys(), \"\\n\")\n",
        "print(rfe1.support_, \"\\n\")\n",
        "print(rfe1.ranking_, \"\\n\")"
      ],
      "execution_count": null,
      "outputs": [
        {
          "output_type": "stream",
          "text": [
            "dict_keys(['area', 'bedrooms', 'bathrooms', 'stories', 'mainroad', 'guestroom', 'airconditioning', 'parking', 'prefarea', 'furnished', 'unfurnished']) \n",
            "\n",
            "[False False  True False  True  True  True  True  True False  True] \n",
            "\n",
            "[5 3 1 2 1 1 1 1 1 4 1] \n",
            "\n"
          ],
          "name": "stdout"
        }
      ]
    },
    {
      "cell_type": "code",
      "metadata": {
        "colab": {
          "base_uri": "https://localhost:8080/"
        },
        "id": "vJLkGtFjxREU",
        "outputId": "21836b80-7812-4424-8d1c-705d23afb2b1"
      },
      "source": [
        "# Print the 7 features selected by RFE in the previous step.\n",
        "rfe_features = X_train[major_features.keys()].columns[rfe1.support_]\n",
        "rfe_features"
      ],
      "execution_count": null,
      "outputs": [
        {
          "output_type": "execute_result",
          "data": {
            "text/plain": [
              "Index(['bathrooms', 'mainroad', 'guestroom', 'airconditioning', 'parking',\n",
              "       'prefarea', 'unfurnished'],\n",
              "      dtype='object')"
            ]
          },
          "metadata": {
            "tags": []
          },
          "execution_count": 433
        }
      ]
    },
    {
      "cell_type": "code",
      "metadata": {
        "colab": {
          "base_uri": "https://localhost:8080/"
        },
        "id": "D8SxpFJh7lFq",
        "outputId": "3f27efaa-3aec-41b5-8658-26933c80291d"
      },
      "source": [
        "# Build multiple linear regression model using all the features selected after RFE\n",
        "\n",
        "from sklearn.model_selection import train_test_split\n",
        "from sklearn.linear_model import LinearRegression\n",
        "\n",
        "X = df[rfe_features]\n",
        "y = df['price']\n",
        "\n",
        "# Split the DataFrame into the train and test sets such that test set has 33% of the values.\n",
        "X_train, X_test, y_train, y_test = train_test_split(X, y, test_size = 0.33, random_state = 42)\n",
        "\n",
        "\n",
        "# Build linear regression model using the 'sklearn.linear_model' module.\n",
        "sklearn_lin_reg = LinearRegression()\n",
        "sklearn_lin_reg.fit(X_train, y_train)\n",
        "\n",
        "# Print the value of the intercept\n",
        "print(\"\\nConstant\".ljust(15, \" \"), f\"{sklearn_lin_reg.intercept_:.6f}\")\n",
        "\n",
        "# Print the names of the features along with the values of their corresponding coefficients.\n",
        "for item in list(zip(X.columns.values, sklearn_lin_reg.coef_)):\n",
        "  print(f\"{item[0]}\".ljust(15, \" \"), f\"{item[1]:.6f}\")\n"
      ],
      "execution_count": null,
      "outputs": [
        {
          "output_type": "stream",
          "text": [
            "\n",
            "Constant       1345359.661101\n",
            "bathrooms       1556331.097031\n",
            "mainroad        770395.800865\n",
            "guestroom       661976.529100\n",
            "airconditioning 1025562.077152\n",
            "parking         428129.113320\n",
            "prefarea        698073.892657\n",
            "unfurnished     -424295.923177\n"
          ],
          "name": "stdout"
        }
      ]
    },
    {
      "cell_type": "code",
      "metadata": {
        "colab": {
          "base_uri": "https://localhost:8080/"
        },
        "id": "2TL6w_uf7lDH",
        "outputId": "a7fbda66-bf6b-4db2-ab68-7d151542c0c3"
      },
      "source": [
        "# Evaluate the linear regression model using the 'r2_score', 'mean_squared_error' & 'mean_absolute_error' functions of the 'sklearn' module.\n",
        "from sklearn.metrics import r2_score, mean_squared_error, mean_absolute_error\n",
        "\n",
        "y_train_pred = sklearn_lin_reg.predict(X_train)\n",
        "y_test_pred = sklearn_lin_reg.predict(X_test)\n",
        "\n",
        "print(f\"Train Set\\n{'-' * 50}\")\n",
        "print(f\"R-squared: {r2_score(y_train, y_train_pred):.3f}\")\n",
        "print(f\"Mean Squared Error: {mean_squared_error(y_train, y_train_pred):.3f}\")\n",
        "print(f\"Root Mean Squared Error: {np.sqrt(mean_squared_error(y_train, y_train_pred)):.3f}\")\n",
        "print(f\"Mean Absolute Error: {mean_absolute_error(y_train, y_train_pred):.3f}\")\n",
        "\n",
        "print(f\"\\n\\nTest Set\\n{'-' * 50}\")\n",
        "print(f\"R-squared: {r2_score(y_test, y_test_pred):.3f}\")\n",
        "print(f\"Mean Squared Error: {mean_squared_error(y_test, y_test_pred):.3f}\")\n",
        "print(f\"Root Mean Squared Error: {np.sqrt(mean_squared_error(y_test, y_test_pred)):.3f}\")\n",
        "print(f\"Mean Absolute Error: {mean_absolute_error(y_test, y_test_pred):.3f}\")"
      ],
      "execution_count": null,
      "outputs": [
        {
          "output_type": "stream",
          "text": [
            "Train Set\n",
            "--------------------------------------------------\n",
            "R-squared: 0.582\n",
            "Mean Squared Error: 1293627387054.370\n",
            "Root Mean Squared Error: 1137377.416\n",
            "Mean Absolute Error: 832458.404\n",
            "\n",
            "\n",
            "Test Set\n",
            "--------------------------------------------------\n",
            "R-squared: 0.546\n",
            "Mean Squared Error: 1945845160950.812\n",
            "Root Mean Squared Error: 1394935.540\n",
            "Mean Absolute Error: 1028596.997\n"
          ],
          "name": "stdout"
        }
      ]
    },
    {
      "cell_type": "markdown",
      "metadata": {
        "id": "7ctl1HKaY6Uy"
      },
      "source": [
        "---"
      ]
    },
    {
      "cell_type": "markdown",
      "metadata": {
        "id": "O8Y3O5R88IrL"
      },
      "source": [
        "#### 7. Residual (Error) Analysis\n",
        "\n",
        "Perform residual analysis to check if the residuals (errors) are normally distributed or not. For this, plot the  histogram of the residuals."
      ]
    },
    {
      "cell_type": "code",
      "metadata": {
        "colab": {
          "base_uri": "https://localhost:8080/",
          "height": 386
        },
        "id": "mYF-WdWn8QmU",
        "outputId": "c5cec7ee-ea2c-4cc8-a650-9b3d0342c4d3"
      },
      "source": [
        "# Create a histogram for the errors obtained in the predicted values for the train set.\n",
        "errors_train = y_train - y_train_pred\n",
        "\n",
        "plt.figure(figsize = (12, 4), dpi = 96)\n",
        "plt.hist(errors_train, bins = 'sturges', edgecolor = 'm')\n",
        "plt.title(\"Histogram for Errors in the Prediction on Train Set\")\n",
        "plt.axvline(x = errors_train.mean(), label = f\"Mean of errors = {errors_train.mean():.3f}\", color = 'r')\n",
        "plt.xlabel(\"Train Set Errors\")\n",
        "plt.legend()\n",
        "plt.show()"
      ],
      "execution_count": null,
      "outputs": [
        {
          "output_type": "display_data",
          "data": {
            "image/png": "[encoded data removed]",
            "text/plain": [
              "<Figure size 1152x384 with 1 Axes>"
            ]
          },
          "metadata": {
            "tags": [],
            "needs_background": "light"
          }
        }
      ]
    },
    {
      "cell_type": "code",
      "metadata": {
        "colab": {
          "base_uri": "https://localhost:8080/",
          "height": 386
        },
        "id": "RJv_gr1N8T5U",
        "outputId": "adcbb4b0-5a22-41d5-ee31-9d2be032f58f"
      },
      "source": [
        "# Create a histogram for the errors obtained in the predicted values for the test set.\n",
        "errors_test = y_test - y_test_pred\n",
        "\n",
        "plt.figure(figsize = (12, 4), dpi = 96)\n",
        "plt.hist(errors_test, bins = 'sturges', edgecolor = 'm')\n",
        "plt.title(\"Histogram for Errors in the Prediction on Test Set\")\n",
        "plt.axvline(x = errors_test.mean(), label = f\"Mean of errors = {errors_test.mean():.3f}\", color = 'r')\n",
        "plt.xlabel(\"Test Set Errors\")\n",
        "plt.legend()\n",
        "plt.show()"
      ],
      "execution_count": null,
      "outputs": [
        {
          "output_type": "display_data",
          "data": {
            "image/png": "[encoded data removed]",
            "text/plain": [
              "<Figure size 1152x384 with 1 Axes>"
            ]
          },
          "metadata": {
            "tags": [],
            "needs_background": "light"
          }
        }
      ]
    },
    {
      "cell_type": "markdown",
      "metadata": {
        "id": "_-uMjpUMY932"
      },
      "source": [
        "---"
      ]
    },
    {
      "cell_type": "markdown",
      "metadata": {
        "id": "LMZN8NeX8rde"
      },
      "source": [
        "#### 8. Verify Homoscedasticity\n",
        "\n",
        "Check for Homoscedasticity (constant variance) by creating a scatter plot between the errors and the target variable. Determine whether there is some kind of relationship between the error and the target variable."
      ]
    },
    {
      "cell_type": "code",
      "metadata": {
        "colab": {
          "base_uri": "https://localhost:8080/",
          "height": 379
        },
        "id": "uptEDE578wjm",
        "outputId": "671d5b01-a599-4c79-eb41-b24de699db40"
      },
      "source": [
        "# Create a scatter plot between the errors and the dependent variable for the train set.\n",
        "plt.figure(figsize = (12, 4), dpi = 96)\n",
        "plt.scatter(y_train, errors_train)\n",
        "plt.axhline(y = errors_train.mean(), color = 'r', label = f'Mean of errors = {errors_train.mean():.3f}')\n",
        "plt.legend()\n",
        "plt.show()"
      ],
      "execution_count": null,
      "outputs": [
        {
          "output_type": "display_data",
          "data": {
            "image/png": "[encoded data removed]",
            "text/plain": [
              "<Figure size 1152x384 with 1 Axes>"
            ]
          },
          "metadata": {
            "tags": [],
            "needs_background": "light"
          }
        }
      ]
    },
    {
      "cell_type": "markdown",
      "metadata": {
        "id": "ydTo7_b5JMpu"
      },
      "source": [
        "---"
      ]
    }
  ]
}