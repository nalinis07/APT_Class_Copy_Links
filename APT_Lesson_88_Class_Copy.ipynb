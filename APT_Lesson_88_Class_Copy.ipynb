{
  "nbformat": 4,
  "nbformat_minor": 0,
  "metadata": {
    "colab": {
      "provenance": [],
      "include_colab_link": true
    },
    "kernelspec": {
      "name": "python3",
      "display_name": "Python 3"
    },
    "language_info": {
      "name": "python"
    }
  },
  "cells": [
    {
      "cell_type": "markdown",
      "metadata": {
        "id": "view-in-github",
        "colab_type": "text"
      },
      "source": [
        "<a href=\"https://colab.research.google.com/github/nalinis07/APT_Class_Copy_Links/blob/MASTER/APT_Lesson_88_Class_Copy.ipynb\" target=\"_parent\"><img src=\"https://colab.research.google.com/assets/colab-badge.svg\" alt=\"Open In Colab\"/></a>"
      ]
    },
    {
      "cell_type": "markdown",
      "metadata": {
        "id": "q3pyBW5-NjiW"
      },
      "source": [
        "# Lesson 88: Internet Advertisement Classification"
      ]
    },
    {
      "cell_type": "markdown",
      "metadata": {
        "id": "nMyG6o7bOtXX"
      },
      "source": [
        "### Teacher-Student Activities\n",
        "\n",
        "In the previous classes, you learnt to classify images by building a support vector machine model. In this class, you will solve another problem statement based on binary classification using SVM.\n",
        "\n",
        "Some company or companies created their advertisements to launch on social media platforms in the past. Internet users see several images on different social media platforms: advertisement images or something else.\n",
        "\n",
        "So from the survey of images, a dataset is created wherein advertisements images and other images are identified. We need to build a classification model that can detect advertisement and non-advertisement images.\n",
        "\n",
        "Let's go through the dataset description for this problem statement.\n",
        "\n",
        "**Data Description**\n",
        "\n",
        "There are 1559 columns in the data. Each row in the data represents one image that is tagged as `ad.` or `nonad.` in the last column. Here's the description of each column:\n",
        "\n",
        "- **`Unnamed: 0`**: Unique ID of each image\n",
        "- **`0`**: Height of an image\n",
        "- **`1`**: Width of an image\n",
        "- **`2`**: Aspect ratio (ratio of width to the height) of an image\n",
        "- Columns **`3`** to **`1557`**: Pixel values of an image\n",
        "- **`1558`**: Whether the image belongs to an advertisement or not\n",
        "\n",
        "**Dataset credits:** *https://archive.ics.uci.edu/ml/datasets/Internet+Advertisements*\n",
        "\n",
        "**Citation:**\n",
        "\n",
        "Dua, D., & Graff, C.. (2017). UCI Machine Learning Repository.\n",
        "\n",
        "\n",
        "\n",
        "\n"
      ]
    },
    {
      "cell_type": "markdown",
      "metadata": {
        "id": "iJDraPLEOscc"
      },
      "source": [
        "---"
      ]
    },
    {
      "cell_type": "markdown",
      "metadata": {
        "id": "7r_orH8cQgRL"
      },
      "source": [
        "#### Activity 1: Loading Dataset^\n",
        "\n",
        "Let's import all the required Python modules and load the dataset. Here's the link to the dataset:\n",
        "\n",
        "https://s3-student-datasets-bucket.whjr.online/whitehat-ds-datasets/ad-or-nonad.csv"
      ]
    },
    {
      "cell_type": "code",
      "metadata": {
        "id": "QukLlDZ7trlw"
      },
      "source": [
        "# S1.1: Import all the required Python modules and load the dataset.\n"
      ],
      "execution_count": 1,
      "outputs": []
    },
    {
      "cell_type": "markdown",
      "metadata": {
        "id": "pIzAKt6vg3V7"
      },
      "source": [
        "Before going ahead, let's drop the `Unnamed: 0` column from the data frame because we would never need it to build a classification model using support vector machines."
      ]
    },
    {
      "cell_type": "code",
      "metadata": {
        "id": "lYL6DynZHZh0"
      },
      "source": [
        "# S1.2: Drop the 'Unnamed: 0' column from the data frame.\n"
      ],
      "execution_count": 2,
      "outputs": []
    },
    {
      "cell_type": "markdown",
      "metadata": {
        "id": "rTRhCxVgggt8"
      },
      "source": [
        "Now, let's get some information about the dataset such as the number of rows and columns, any missing values and the type of values in each column."
      ]
    },
    {
      "cell_type": "code",
      "metadata": {
        "id": "k1NFEIlQ0ObS"
      },
      "source": [
        "# S1.3: Get information about the dataset.\n"
      ],
      "execution_count": 3,
      "outputs": []
    },
    {
      "cell_type": "markdown",
      "metadata": {
        "id": "6pP3rOUuha-n"
      },
      "source": [
        "As you can see, there are 3279 rows and 1569 columns in the dataset. Almost all the columns have numeric type values and the remaining five columns have non-numeric values.\n",
        "\n",
        "Now, let's rename the columns\n",
        "- `0` as `height`\n",
        "- `1` as `width`\n",
        "- `2` as `aspect ratio` and\n",
        "- `1558` as `target`\n",
        "\n",
        "because that is what these columns represent.\n",
        "\n",
        "To rename the columns of Pandas DataFrame, call the `rename()` function of the `Pandas` module on a `DataFrame` object. Inside the function, pass a Python dictionary containing the old column names and new column names as the key-value pairs.\n",
        "\n",
        "**Syntax:** `data_frame.rename({old_col_name1 : new_col_name1, old_col_name2 : new_col_name2, ... old_col_nameN : new_col_nameN})`\n",
        "\n",
        "where\n",
        "\n",
        "- `data_frame` is a Pandas `DataFrame` object and\n",
        "\n",
        "- `old_col_name1 : new_col_name1, old_col_name2 : new_col_name2, ... old_col_nameN : new_col_nameN` are key-value pairs in a Python dictionary."
      ]
    },
    {
      "cell_type": "code",
      "metadata": {
        "id": "3jt9JQtQx5ik"
      },
      "source": [
        "# S1.4: Rename the columns '0, 1, 2' and '1558' of the data frame with their correct names as stated above.\n"
      ],
      "execution_count": 4,
      "outputs": []
    },
    {
      "cell_type": "markdown",
      "metadata": {
        "id": "bCDs525wks8b"
      },
      "source": [
        "As you can see, the column names are changed as we required. Now let's check for the missing values in each column in the data frame."
      ]
    },
    {
      "cell_type": "code",
      "metadata": {
        "id": "wLVvlXC50Vqf"
      },
      "source": [
        "# S1.5: Check for the missing values in each column in the data frame.\n"
      ],
      "execution_count": 5,
      "outputs": []
    },
    {
      "cell_type": "markdown",
      "metadata": {
        "id": "_l7y4-GKlPVD"
      },
      "source": [
        "Since there are 1559 columns to check, let's again call the `sum()` function on the Pandas series generated by the current `sum()` function to check the total sum of the missing values in all the columns. If there are no missing values, then the total sum should be 0 else it should be greater than 0."
      ]
    },
    {
      "cell_type": "code",
      "metadata": {
        "id": "bzSj333h0iE-"
      },
      "source": [
        "# S1.6: Calculatet the total sum of the missing (or null) values in all the columns in the data frame.\n"
      ],
      "execution_count": 6,
      "outputs": []
    },
    {
      "cell_type": "markdown",
      "metadata": {
        "id": "W73WlS89nh50"
      },
      "source": [
        "So there are no missing values in the data frame."
      ]
    },
    {
      "cell_type": "markdown",
      "metadata": {
        "id": "tbMoeYpzouKv"
      },
      "source": [
        "---"
      ]
    },
    {
      "cell_type": "markdown",
      "metadata": {
        "id": "WGvNjAo1oux_"
      },
      "source": [
        "#### Activity 2: The `pandas.to_numeric` Function^^\n",
        "\n",
        "Now, let's convert the numeric values reported as non-numeric values to numeric values in the data frame in all the columns except in the `target` column.\n",
        "\n",
        "For this, you can use the `to_numeric` function of the Pandas module. To use this function, you need to\n",
        "\n",
        "1. Call the `apply()` function on the `DataFrame` object.\n",
        "\n",
        "2. Inside the `apply()` function, pass `pandas.to_numeric` as an input.\n",
        "\n",
        "**Note:** This exercise will throw `ValueError` because a few columns contain some unwanted values."
      ]
    },
    {
      "cell_type": "code",
      "metadata": {
        "id": "2ghSFrBuHIko"
      },
      "source": [
        "# S2.1: Convert the numeric values reported as non-numeric values to numeric values.\n",
        "new_df = df[df.columns[:-1]].apply(pd.to_numeric)\n",
        "new_df.info()"
      ],
      "execution_count": null,
      "outputs": []
    },
    {
      "cell_type": "markdown",
      "metadata": {
        "id": "ZliCEi3XqWsI"
      },
      "source": [
        "When we tried to change the data type of a certain value in a column we got `ValueError`. This is because at the 10th position or (10th row), as shown by the error message, there is some unwanted value. We need to remove this unwanted value wherever it is present in the data frame. To do this:\n",
        "\n",
        "1. First, we need to create a function that can list out all the columns containing the unwanted value (here, `\"   ?\"`).\n",
        "\n",
        "2. Then, we will remove/replace the unwanted values from each column separately.\n",
        "\n"
      ]
    },
    {
      "cell_type": "code",
      "metadata": {
        "id": "mphJBvcR9NWI"
      },
      "source": [
        "# S2.2: Create a function that can list out all the columns containing the unwanted value.\n",
        "def unwanted_values_finder(string):\n",
        "  unwanted_value_col = []\n",
        "  for col in df.columns:\n",
        "    if np.sum(df[col]==string) > 0:\n",
        "      unwanted_value_col.append(col)\n",
        "  return unwanted_value_col\n",
        "# Now, use the function created above to find the columns containing the \"   ?\" value.\n",
        "unwanted_values_finder(\"   ?\")"
      ],
      "execution_count": null,
      "outputs": []
    },
    {
      "cell_type": "markdown",
      "metadata": {
        "id": "RKP_27OUr2wV"
      },
      "source": [
        "So the columns `'height'` and `'width'` contain the `\"   ?\"` values.\n",
        "\n",
        "Let's create a data frame wherein the values in the `height` column are `\"   ?\"` only."
      ]
    },
    {
      "cell_type": "code",
      "metadata": {
        "id": "5cy68y8K-FAn"
      },
      "source": [
        "# S2.3: Create a data frame wherein the values in the height columns are \"   ?\" only.\n"
      ],
      "execution_count": null,
      "outputs": []
    },
    {
      "cell_type": "markdown",
      "metadata": {
        "id": "_sa9GyZltBoT"
      },
      "source": [
        "There are `903` rows in the above data frame.\n",
        "\n",
        "Here we can see that the columns `height, width` and\t`aspect ratio` seem to have the question mark as the unwanted values. However, when we tried to find the question mark in all the columns, the function that we created to find unwanted values returned only the `height` and `width` columns but not the `aspect ratio` column. **Can you think of a reason why this would happen?** Think about this question for a couple of minutes and try to find the reason.\n",
        "\n",
        "Let's try to apply the `pandas.to_numeric()` function only on the `aspect ratio` column and find out if we again get the `ValuerError` message. If we do, then what is the unwanted value returned by it."
      ]
    },
    {
      "cell_type": "code",
      "metadata": {
        "id": "K0cwP81jBq1a"
      },
      "source": [
        "# S2.4: Apply the 'pandas.to_numeric()' function only on the 'aspect ratio' column\n"
      ],
      "execution_count": null,
      "outputs": []
    },
    {
      "cell_type": "markdown",
      "metadata": {
        "id": "JGr4pRmVuoDM"
      },
      "source": [
        "This time again we got the `ValueError` message. However, the unwanted value returned also has the question mark but followed by more spaces again use the unwanted values finder function to list out the columns containing the question mark with more spaces."
      ]
    },
    {
      "cell_type": "code",
      "metadata": {
        "id": "EyygjP42BwW4"
      },
      "source": [
        "# S2.5: Use the unwanted values finder function to list out the columns containing the question mark with more spaces i.e., \"     ?\"\n"
      ],
      "execution_count": null,
      "outputs": []
    },
    {
      "cell_type": "markdown",
      "metadata": {
        "id": "A2IQdylmvSw8"
      },
      "source": [
        "So only the `aspect ratio` column contain the question mark with more spaces.\n",
        "\n",
        "Let's create a data frame wherein the values in the `width` column are `\" ?\"` only."
      ]
    },
    {
      "cell_type": "code",
      "metadata": {
        "id": "ChV-i8Tt-Px3"
      },
      "source": [
        "# S2.6: Create a data frame wherein the values in the 'width' column are \" ?\" only.\n"
      ],
      "execution_count": null,
      "outputs": []
    },
    {
      "cell_type": "markdown",
      "metadata": {
        "id": "dsutElr2wjts"
      },
      "source": [
        "The above data frame contains 901 rows.\n",
        "\n",
        "Here too the columns `height, width` and `aspect ratio` seem to have the question mark as the unwanted values.\n",
        "\n",
        "Let's create a data frame wherein both the `height` and `width` columns have the question mark as unwanted values."
      ]
    },
    {
      "cell_type": "code",
      "metadata": {
        "id": "37d1qA5F-j11"
      },
      "source": [
        "# S2.7: Create a new data frame wherein both the 'height' and 'width' columns have the question mark as unwanted values.\n"
      ],
      "execution_count": null,
      "outputs": []
    },
    {
      "cell_type": "markdown",
      "metadata": {
        "id": "1ejQ87p_xmK5"
      },
      "source": [
        "This data frame contains 894 rows wherein both the `height` and `width` columns have the question mark as unwanted values.\n",
        "\n",
        "Let's find out the number of the images classified as `ad.` and `nonad.` in the above data frame."
      ]
    },
    {
      "cell_type": "code",
      "metadata": {
        "id": "xhd2h0_I-wbI"
      },
      "source": [
        "# S2.8: Calculate the number of the images classified as 'ad.' and 'nonad.' in the above data frame.\n"
      ],
      "execution_count": null,
      "outputs": []
    },
    {
      "cell_type": "markdown",
      "metadata": {
        "id": "58WdsA7ByDt7"
      },
      "source": [
        "Most of the images having unwanted values or non-advertisement images and very few advertisement images compared to the total number of images in the data frame.\n",
        "\n",
        "Let's calculate the percentage of such values."
      ]
    },
    {
      "cell_type": "code",
      "metadata": {
        "id": "Je_JidW---ZW"
      },
      "source": [
        "# S2.9: Calculate the percentage of the unwanted values in non-advertisement and advertisement image"
      ],
      "execution_count": null,
      "outputs": []
    },
    {
      "cell_type": "markdown",
      "metadata": {
        "id": "vYspocAbznXM"
      },
      "source": [
        "So if we remove all the rows from the primary data frame wherein both the `'height'` and `'width'` columns have the question mark as unwanted values, we will lose the 29% of the images marked as `nonad.` and about 16% of the images marked as `ad.` Unfortunately, we have to remove all these rows because there is no way to retrieve the dimensions of the images."
      ]
    },
    {
      "cell_type": "markdown",
      "metadata": {
        "id": "Erivo7-mF5Pp"
      },
      "source": [
        "---"
      ]
    },
    {
      "cell_type": "markdown",
      "metadata": {
        "id": "9JKz7YqJF6g3"
      },
      "source": [
        "#### Activity 3: Removing Rows from Pandas DataFrame^^^\n",
        "\n",
        "To **remove** all the rows containing question marks in both `height` and `width` columns:\n",
        "\n",
        "1. Retrieve all the rows containing question marks in both `height` and `width` columns\n",
        "\n",
        "2. Use the tilde (`~`) symbol to reverse (or conjugate or negate) the conditional statement used to retrieve all the rows containing question marks in both `height` and `width` columns."
      ]
    },
    {
      "cell_type": "code",
      "metadata": {
        "id": "v73gxtdnAdjk"
      },
      "source": [
        "# S3.1: Remove all the rows containing question marks in both height and width columns\n",
        "df = df[~((df[\"height\"]==\"   ?\")&(df[\"width\"]==\"   ?\"))]\n",
        "df"
      ],
      "execution_count": null,
      "outputs": []
    },
    {
      "cell_type": "markdown",
      "metadata": {
        "id": "4EL8rmK7I2Ir"
      },
      "source": [
        "After removing the required rows, the data frame now has 2385 rows.\n",
        "\n",
        "Now let's check whether there are still more rows containing the question mark in the `height` column."
      ]
    },
    {
      "cell_type": "code",
      "metadata": {
        "id": "EjP1ZtWIAaUJ"
      },
      "source": [
        "# S3.2: Check whether there are still more rows containing the question mark in the height column.\n"
      ],
      "execution_count": null,
      "outputs": []
    },
    {
      "cell_type": "markdown",
      "metadata": {
        "id": "Sb9wUmPfJYyU"
      },
      "source": [
        "There are 9 rows containing question marks in the `height` column. In the same rows, the `aspect ratio` column as well contains unwanted values.\n",
        "\n",
        "Let's calculate the count of the non-advertisement and advertisement images in the above 9 rows."
      ]
    },
    {
      "cell_type": "code",
      "metadata": {
        "id": "YeUdhgMCC0-5"
      },
      "source": [
        "# S3.3: Calculate the count of the non-advertisement and advertisement images in the above 9 rows.\n"
      ],
      "execution_count": null,
      "outputs": []
    },
    {
      "cell_type": "markdown",
      "metadata": {
        "id": "wIaPkrDvKH_E"
      },
      "source": [
        "All the above 9 rows belong to the non-advertisement images. Let's remove these 9 rows as well because two (`height, aspect ratio`) out of three (`height, width, aspect ratio`) values are not available. If any two out of three values are available, then we can calculate the third because\n",
        "\n",
        "\\begin{aligned}\n",
        "\\text{Aspect ratio} = \\frac{\\text{width}}{\\text{height}}\n",
        "\\end{aligned}\n",
        "\n",
        "Now remove all the above 9 rows. You don't have to use the tilde (`~`) symbol this time."
      ]
    },
    {
      "cell_type": "code",
      "metadata": {
        "id": "6NVPxIjNCP7P"
      },
      "source": [
        "# S3.4: Remove the above 9 rows containing unwanted values in both 'height' and 'aspect ratio' columns.\n"
      ],
      "execution_count": null,
      "outputs": []
    },
    {
      "cell_type": "markdown",
      "metadata": {
        "id": "GB05le-cLnLl"
      },
      "source": [
        "**Note:** The $!=$ symbol in a programming language is the same as the $\\neq$ symbol in mathematics.\n",
        "\n",
        "Now we are left with 2376 rows in the data frame.\n",
        "\n",
        "Let's check whether there are still more rows containing the question mark in the `width` column."
      ]
    },
    {
      "cell_type": "code",
      "metadata": {
        "id": "WscS9__FCqLb"
      },
      "source": [
        "# S3.5: Check whether there are still more rows containing the question mark in the width column.\n"
      ],
      "execution_count": null,
      "outputs": []
    },
    {
      "cell_type": "markdown",
      "metadata": {
        "id": "B3TlGiO-M0wV"
      },
      "source": [
        "There are 7 rows containing question marks in the `width` column. In the same rows, the `aspect ratio` column as well contains unwanted values.\n",
        "\n",
        "Let's calculate the count of the non-advertisement and advertisement images in the above 7 rows."
      ]
    },
    {
      "cell_type": "code",
      "metadata": {
        "id": "nhy9lEEiC6yo"
      },
      "source": [
        "# S3.6: Calculate the count of the non-advertisement and advertisement images in the above 7 rows.\n"
      ],
      "execution_count": null,
      "outputs": []
    },
    {
      "cell_type": "markdown",
      "metadata": {
        "id": "08T8u4BcM9gs"
      },
      "source": [
        "All the above 7 rows belong to the non-advertisement images. Let's remove these 7 rows as well because two (`width, aspect ratio`) out of three (`height, width, aspect ratio`) values are not available. If any two out of three values are available, then we can calculate the third because\n",
        "\n",
        "\\begin{aligned}\n",
        "\\text{Aspect ratio} = \\frac{\\text{width}}{\\text{height}}\n",
        "\\end{aligned}\n",
        "\n",
        "Now remove all the above 7 rows. Again, you won't have to use the tilde (`~`) symbol."
      ]
    },
    {
      "cell_type": "code",
      "metadata": {
        "id": "ZkumiHUNDGGz"
      },
      "source": [
        "# S3.7: Remove the above 7 rows containing unwanted values in both 'height' and 'aspect ratio' columns.\n"
      ],
      "execution_count": null,
      "outputs": []
    },
    {
      "cell_type": "markdown",
      "metadata": {
        "id": "S09FvhLYQkQX"
      },
      "source": [
        "We are left with 2369 rows in the data frame.\n",
        "\n",
        "Now let's check whether there are still more rows containing the question mark in the `aspect ratio` column.\n",
        "\n",
        "**Note:** There are more spaces before the question mark in the `aspect ratio` column."
      ]
    },
    {
      "cell_type": "code",
      "metadata": {
        "id": "9HjDOYPBDKug"
      },
      "source": [
        "# S3.8: Check whether there are still more rows containing the question mark in the aspect ratio column.\n"
      ],
      "execution_count": null,
      "outputs": []
    },
    {
      "cell_type": "markdown",
      "metadata": {
        "id": "xJU7TAcORURa"
      },
      "source": [
        "All the rows containing the unwanted values are removed.\n",
        "\n",
        "Now let's try to convert the numeric values reported as the non-numeric values to numeric values in all the columns except in the `target` column."
      ]
    },
    {
      "cell_type": "code",
      "metadata": {
        "id": "3LIt3aAIDftL"
      },
      "source": [
        "# S3.9: Convert the numeric values reported as the non-numeric values to numeric values in all the columns except in the target column.\n"
      ],
      "execution_count": null,
      "outputs": []
    },
    {
      "cell_type": "markdown",
      "metadata": {
        "id": "xe5kMWkNR4mV"
      },
      "source": [
        "Once again we have found question mark as an unwanted value. This time, it doesn't follow any spaces.\n",
        "\n",
        "Let's list out the rows containing `\"?\"` values."
      ]
    },
    {
      "cell_type": "code",
      "source": [],
      "metadata": {
        "id": "5xX3OdHohL4U"
      },
      "execution_count": null,
      "outputs": []
    },
    {
      "cell_type": "code",
      "metadata": {
        "id": "spd3lYq2JXYm"
      },
      "source": [
        "# S3.10: List out the rows containing \"?\" values.\n"
      ],
      "execution_count": null,
      "outputs": []
    },
    {
      "cell_type": "markdown",
      "metadata": {
        "id": "9lIBGJjrSi99"
      },
      "source": [
        "So only the column titled `'3'` has unwanted values. Let's create a data frame for the same."
      ]
    },
    {
      "cell_type": "code",
      "metadata": {
        "id": "e0mAyDqPJaGV"
      },
      "source": [
        "# S3.11: Create a data frame containing only \"?\" in the column titled '3'.\n"
      ],
      "execution_count": null,
      "outputs": []
    },
    {
      "cell_type": "markdown",
      "metadata": {
        "id": "_GdmSN_VS43N"
      },
      "source": [
        "10 rows are containing unwanted values in the column titled `'3'`. Let's remove these rows as well."
      ]
    },
    {
      "cell_type": "code",
      "metadata": {
        "id": "G9bQW5LWJh3i"
      },
      "source": [
        "# S3.12: Remove the rows containing unwanted values in the column titled '3'.\n"
      ],
      "execution_count": null,
      "outputs": []
    },
    {
      "cell_type": "markdown",
      "metadata": {
        "id": "Uz93TMAoTdNF"
      },
      "source": [
        "Initially, we had 3279 rows and now we are left with 2359 rows i.e., approximately 72% of the initial data frame. This is all right. We still have a significant chunk of the data frame left with us after removing all the rows containing unwanted values from the initial data frame.\n",
        "\n",
        "Now, let's again try to convert the numeric values reported as the non-numeric values to numeric values in all the columns except in the `target` column."
      ]
    },
    {
      "cell_type": "code",
      "metadata": {
        "id": "Drugz6U7JnZg"
      },
      "source": [
        "# S3.13: Convert the numeric values reported as the non-numeric values to numeric values in all the columns except in the target column.\n"
      ],
      "execution_count": null,
      "outputs": []
    },
    {
      "cell_type": "markdown",
      "metadata": {
        "id": "H28L50LwUwoq"
      },
      "source": [
        "\n",
        "\n",
        "Finally, we have converted all the required values to numeric types. You can verify this by calling the `describe()` function on the newly obtained data frame."
      ]
    },
    {
      "cell_type": "code",
      "metadata": {
        "id": "vPIeHNTAE_Mk"
      },
      "source": [
        "# S3.14: Call the 'describe()' function on the numeric-type columns on the data frame obtained above.\n"
      ],
      "execution_count": null,
      "outputs": []
    },
    {
      "cell_type": "markdown",
      "metadata": {
        "id": "oSqTlS3tVR3G"
      },
      "source": [
        "Let's stop here. In the next class, we will build an SVC model to classify the images as non-advertisement and advertisement images."
      ]
    },
    {
      "cell_type": "markdown",
      "metadata": {
        "id": "SlVlsifjVkKw"
      },
      "source": [
        "---"
      ]
    },
    {
      "cell_type": "markdown",
      "metadata": {
        "id": "5MlpyUa6YmFW"
      },
      "source": [
        "### **Project**\n",
        "You can now attempt the **Applied Tech. Project 88 - Internet Advertisement Classification** on your own.\n",
        "\n",
        "**Applied Tech. Project 88 - Internet Advertisement Classification**: https://colab.research.google.com/drive/1mHAUxfohlSzh7RxoDgrnlbM9oNiMQCer"
      ]
    },
    {
      "cell_type": "markdown",
      "metadata": {
        "id": "uDyuf7grYuUN"
      },
      "source": [
        "---"
      ]
    }
  ]
}