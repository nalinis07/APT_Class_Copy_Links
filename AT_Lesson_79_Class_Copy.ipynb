{
  "nbformat": 4,
  "nbformat_minor": 0,
  "metadata": {
    "colab": {
      "provenance": [],
      "include_colab_link": true
    },
    "kernelspec": {
      "name": "python3",
      "display_name": "Python 3"
    }
  },
  "cells": [
    {
      "cell_type": "markdown",
      "metadata": {
        "id": "view-in-github",
        "colab_type": "text"
      },
      "source": [
        "<a href=\"https://colab.research.google.com/github/nalinis07/APT_Class_Copy_Links/blob/MASTER/AT_Lesson_79_Class_Copy.ipynb\" target=\"_parent\"><img src=\"https://colab.research.google.com/assets/colab-badge.svg\" alt=\"Open In Colab\"/></a>"
      ]
    },
    {
      "cell_type": "markdown",
      "metadata": {
        "id": "ZPBYmVldndM4"
      },
      "source": [
        "# Lesson 79: Logistic Regression - Heart Disease Prediction"
      ]
    },
    {
      "cell_type": "markdown",
      "metadata": {
        "id": "AEvF-_h0Ildw"
      },
      "source": [
        "---"
      ]
    },
    {
      "cell_type": "markdown",
      "metadata": {
        "id": "OoDdcwUtJ07u"
      },
      "source": [
        "### Teacher-Student Activities\n",
        "\n",
        "In the previous few classes, you learnt how a logistic regression model classifies labels behind the scenes.\n",
        "\n",
        "In this class, we will continue to build a multivariate logistic regression model to predict whether a patient has heart disease. Let's quickly go through the activities covered in the previous classes and begin this class from **Activity 1: Multivariate Logistic Regression** section."
      ]
    },
    {
      "cell_type": "markdown",
      "metadata": {
        "id": "OAQyK7yfO14I"
      },
      "source": [
        "---"
      ]
    },
    {
      "cell_type": "markdown",
      "metadata": {
        "id": "wrTUGKPJO61D"
      },
      "source": [
        "#### Recap\n",
        "\n",
        "Run the code below"
      ]
    },
    {
      "cell_type": "code",
      "metadata": {
        "id": "tmRB05lddS--",
        "colab": {
          "base_uri": "https://localhost:8080/"
        },
        "outputId": "db83caa0-4cbf-4797-fda5-23a91dac7448"
      },
      "source": [
        "# Import the required modules and load the heart disease dataset. Also, display the first five rows.\n",
        "import numpy as np\n",
        "import pandas as pd\n",
        "import matplotlib.pyplot as plt\n",
        "import seaborn as sns\n",
        "from sklearn.model_selection import train_test_split\n",
        "\n",
        "csv_file = 'https://s3-student-datasets-bucket.whjr.online/whitehat-ds-datasets/uci-heart-disease/heart.csv'\n",
        "df = pd.read_csv(csv_file)\n",
        "print(\"\\n\", df.head(), \"\\n\", df.info(), \"\\n\")\n",
        "\n",
        "# Print the number of records with and without heart disease\n",
        "print(\"Number of records in each label are\")\n",
        "print(df['target'].value_counts())\n",
        "\n",
        "# Print the percentage of each label\n",
        "print(\"\\nPercentage of records in each label are\")\n",
        "print(df['target'].value_counts() * 100 / df.shape[0])\n",
        "\n",
        "# Split the training and testing data\n",
        "X = df.drop(columns = 'target')\n",
        "y = df['target']\n",
        "X_train, X_test, y_train, y_test = train_test_split(X, y, test_size = 0.3, random_state = 42)"
      ],
      "execution_count": null,
      "outputs": [
        {
          "output_type": "stream",
          "text": [
            "<class 'pandas.core.frame.DataFrame'>\n",
            "RangeIndex: 303 entries, 0 to 302\n",
            "Data columns (total 14 columns):\n",
            " #   Column    Non-Null Count  Dtype  \n",
            "---  ------    --------------  -----  \n",
            " 0   age       303 non-null    int64  \n",
            " 1   sex       303 non-null    int64  \n",
            " 2   cp        303 non-null    int64  \n",
            " 3   trestbps  303 non-null    int64  \n",
            " 4   chol      303 non-null    int64  \n",
            " 5   fbs       303 non-null    int64  \n",
            " 6   restecg   303 non-null    int64  \n",
            " 7   thalach   303 non-null    int64  \n",
            " 8   exang     303 non-null    int64  \n",
            " 9   oldpeak   303 non-null    float64\n",
            " 10  slope     303 non-null    int64  \n",
            " 11  ca        303 non-null    int64  \n",
            " 12  thal      303 non-null    int64  \n",
            " 13  target    303 non-null    int64  \n",
            "dtypes: float64(1), int64(13)\n",
            "memory usage: 33.3 KB\n",
            "\n",
            "    age  sex  cp  trestbps  chol  fbs  ...  exang  oldpeak  slope  ca  thal  target\n",
            "0   63    1   3       145   233    1  ...      0      2.3      0   0     1       1\n",
            "1   37    1   2       130   250    0  ...      0      3.5      0   0     2       1\n",
            "2   41    0   1       130   204    0  ...      0      1.4      2   0     2       1\n",
            "3   56    1   1       120   236    0  ...      0      0.8      2   0     2       1\n",
            "4   57    0   0       120   354    0  ...      1      0.6      2   0     2       1\n",
            "\n",
            "[5 rows x 14 columns] \n",
            " None \n",
            "\n",
            "Number of records in each label are\n",
            "1    165\n",
            "0    138\n",
            "Name: target, dtype: int64\n",
            "\n",
            "Percentage of records in each label are\n",
            "1    54.455446\n",
            "0    45.544554\n",
            "Name: target, dtype: float64\n"
          ],
          "name": "stdout"
        }
      ]
    },
    {
      "cell_type": "markdown",
      "metadata": {
        "id": "vUuB2VRPPuzf"
      },
      "source": [
        "---"
      ]
    },
    {
      "cell_type": "markdown",
      "metadata": {
        "id": "tyTyA2t3PpvR"
      },
      "source": [
        "####Activity 1: Multivariate Logistic Regression^\n",
        "\n",
        "Let's include all the features present in the heart disease dataset to build a multivariate logistic regression model using the `sklearn` module."
      ]
    },
    {
      "cell_type": "code",
      "metadata": {
        "id": "IebsK3oUQQWv"
      },
      "source": [
        "# S1.1: Create a multivariate logistic regression model. Also, predict the target values for the train set.\n",
        "\n"
      ],
      "execution_count": null,
      "outputs": []
    },
    {
      "cell_type": "code",
      "metadata": {
        "id": "8KQW3TOWox4_"
      },
      "source": [
        "# S1.2: Predict the target values for the test set.\n"
      ],
      "execution_count": null,
      "outputs": []
    },
    {
      "cell_type": "markdown",
      "metadata": {
        "id": "EaFmty9RSSJN"
      },
      "source": [
        "As you can see,\n",
        "- The FP and FN values in the confusion matrix are low\n",
        "- The precision and recall values are also good\n",
        "- The f1-score is also greater than **0.7**\n",
        "\n",
        "This clearly shows that the decision boundary accurately separates the labels (or classes) with good accuracy.\n",
        "\n",
        "But this logistic regression model (refer to the object stored in the `lg_clf_1` variable) is created using all the features (or independent variables). It is quite possible that not all features are of imporatance for the classification of the labels in the `target` column. Therefore, we still can improve the model by reducing the number of features to obtain higher f1-scores."
      ]
    },
    {
      "cell_type": "markdown",
      "metadata": {
        "id": "2_JXv6P_V_vN"
      },
      "source": [
        "---"
      ]
    },
    {
      "cell_type": "markdown",
      "metadata": {
        "id": "vppY0xJcg_ld"
      },
      "source": [
        "#### Activity 2: Data Standardisation^^\n",
        "\n",
        "As you must have observed, when the logistic regression is applied we got the following warning message shown below quite a few times:\n",
        "```\n",
        "/usr/local/lib/python3.6/dist-packages/sklearn/linear_model/_logistic.py:940: ConvergenceWarning: lbfgs failed to converge (status=1):\n",
        "STOP: TOTAL NO. of ITERATIONS REACHED LIMIT.\n",
        "\n",
        "Increase the number of iterations (max_iter) or scale the data as shown in:\n",
        "    https://scikit-learn.org/stable/modules/preprocessing.html\n",
        "Please also refer to the documentation for alternative solver options:\n",
        "    https://scikit-learn.org/stable/modules/linear_model.html#logistic-regression\n",
        "  extra_warning_msg=_LOGISTIC_SOLVER_CONVERGENCE_MSG)\n",
        "```\n",
        "\n",
        "The message is displayed because the **Limited-memory Broyden–Fletcher–Goldfarb–Shanno** (or L-BFGS) algorithm used by the `LogisticRegression` class of the `sklearn.linear_model` module to calculate the optimum value of coefficients (betas) for a regularised cost function ran out of memory to store the results of iterations. The L-BFGS algorithm, unlike gradient descent algorithm, is a second-order (uses second derivatives i.e. $\\frac{\\partial^2 J}{\\partial \\beta^2}$ instead of first-order derivatives i.e. $\\frac{\\partial J}{\\partial \\beta}$ ) optimiser stores data of the last few iterations only to save memory.\n",
        "\n",
        "Another reason for the popping-up of the warning message is poorly scaled data. Here are a couple of ways to avoid `ConvergenceWarning` message:\n",
        "\n",
        "1. Increase the number of iterations i.e. set the value of `max_iter` parameter to 100 i.e. `max_iter = 100` in the `LogisticRegression` constructor.\n",
        "\n",
        "2. Scale the data using one of the normalisation methods, say standard normalisation.\n",
        "\n",
        "Therefore, let's create a function `standard_scalar()` to normalise the `X_train` and `X_test` data-frames using standard normalisation method i.e.\n",
        "\n",
        "$$x_{\\text{std}} = \\frac{(x_i - \\mu)}{\\sigma} $$\n",
        "\n"
      ]
    },
    {
      "cell_type": "code",
      "metadata": {
        "id": "XwYdDr3oiE4U"
      },
      "source": [
        "# S2.1: Normalise the train and test data-frames using the standard normalisation method.\n"
      ],
      "execution_count": null,
      "outputs": []
    },
    {
      "cell_type": "code",
      "metadata": {
        "id": "mKkQFKBki7KL"
      },
      "source": [
        "# S2.2: Display descriptive statistics for the normalised values of the features for the test data-frames.\n"
      ],
      "execution_count": null,
      "outputs": []
    },
    {
      "cell_type": "markdown",
      "metadata": {
        "id": "f6Fw8ItUlKQy"
      },
      "source": [
        "As we can observe in the output, the data is normalised because the mean and standard deviation values for each column are 0 and 1 respectively."
      ]
    },
    {
      "cell_type": "markdown",
      "metadata": {
        "id": "q8t9xTqji7Fv"
      },
      "source": [
        "---"
      ]
    },
    {
      "cell_type": "markdown",
      "metadata": {
        "id": "lcnUnBLDWBUm"
      },
      "source": [
        "####Activity 3: Features Selection Using RFE^^^\n",
        "\n",
        "Our next task is to select the relevant features from all the features that contribute to a person having a heart disease. The irrelevant features do not help in increasing the accuracy of a prediction model. Secondly, they also increase the training time of a model. You don't want to have either a very few features or too many of them in your prediction model.\n",
        "\n",
        "So, the question is **how to select features?**\n",
        "\n",
        "One simpler way is trial and error. You can pick **any one feature** at a time, build a prediction model and evaluate it.\n",
        "\n",
        "Similarly, you pick **any two features** at a time, a prediction model and evaluate it. For example\n",
        "- 1, 2\n",
        "- 1, 3\n",
        "- 1, 4\n",
        "etc.\n",
        "\n",
        "Similarly, you pick **any three features** at a time, a prediction model and evaluate it. For example\n",
        "- 1, 2, 3\n",
        "- 1, 2, 4\n",
        "- 2, 3, 4\n",
        "etc.\n",
        "\n",
        "And so on. However, all this is a very time-consuming process to do manually. Instead, you can use the `RFE` (Recursive Feature Elimination) class of the `sklearn.feature_selection` module.It is a  backward feature selection technique and is based on **feature importance**. You have already learnt how to use RFE in the linear regression lesson(s).\n",
        "\n",
        "So let's try to find the optimal number of features required using RFE to build a logistic regression model to predict whether a person has heart disease. Here is the list of steps below that we will follow for this purpose:\n",
        "\n",
        "1. Import the following modules\n",
        "```\n",
        "from sklearn.feature_selection import RFE\n",
        "from sklearn.metrics import f1_score\n",
        "from sklearn.linear_model import LogisticRegression\n",
        "```\n",
        "\n",
        "2. Create an empty dictionary and store it in a variable called `dict_rfe`.\n",
        "\n",
        "3. Create a `for` loop that iterates through all the columns in normalised training data-frame. Inside the loop:\n",
        "   \n",
        "   - Create an object of `LogisticRegression` class and store it in a variable called `lg_clf_2`.\n",
        "   \n",
        "   - Create an object of `RFE` class and store it in a variable called `rfe`. Inside the `RFE()` constructor, pass the object of logistic regression and the number of features to be selected by RFE as inputs.\n",
        "   \n",
        "   - Call the `fit()` function of the `RFE` class to train a logistic regression model on the train set with `i` number of features where `i` goes from `1` to `len(X_train.columns)`.\n",
        "   \n",
        "   - The `support_` attribute holds rank value(s) of the selected feature(s) where rank `1` denotes the most important feature.\n",
        "   \n",
        "   - Create a list to store the important features in a variable called `rfe_features`.\n",
        "   \n",
        "   - Create a new data-frame having the features selected by RFE store it in a variable called `rfe_X_train`.\n",
        "   \n",
        "   - Create another `LogisticRegression` object, store it in a variable called `lg_clf_3` and build a logistic regression model using the `rfe_X_train` data-frame and `y_train` series.\n",
        "   \n",
        "   - Predict the target values for the normalised test set (containing the feature(s) selected by RFE) by calling the `predict()` function on `lg_clf_3` object.\n",
        "   \n",
        "   - Calculate f1-scores using the function `f1_score()` function of `sklearn.metrics` module that returns a NumPy array containing f1-scores for both the classes. Store the array in a variable called `f1_scores_array`. The **syntax** for the `f1_score()` function is `f1_score(y_true, y_pred, average = None)`\n",
        "     where `y_true` and `y_pred` are the actual and predicted labels respectively, and `average = None` parameter returns the scores for each class.\n",
        "\n",
        "   - Add the number of selected features and corresponding features & f1-scores as key-value pairs in the `dict_rfe` dictionary."
      ]
    },
    {
      "cell_type": "code",
      "metadata": {
        "id": "bTJAe6qdSxTu"
      },
      "source": [
        "# S3.1: Create a dictionary containing the different combination of features selected by RFE and their corresponding f1-scores.\n",
        "# Import the libraries\n",
        "\n",
        "\n",
        "# Create the empty dictionary.\n",
        "\n",
        "# Create a loop\n",
        "\n",
        "\n",
        "  # Build a logistic regression model using the features selected by RFE.\n",
        "\n",
        "\n",
        "  # Predicting 'y' values only for the test set as generally, they are predicted quite accurately for the train set.\n",
        "\n"
      ],
      "execution_count": null,
      "outputs": []
    },
    {
      "cell_type": "markdown",
      "metadata": {
        "id": "Y7Usuq9UBZwV"
      },
      "source": [
        "In the above code:\n",
        "\n",
        "1. ```\n",
        "   lg_clf_2 = LogisticRegression()\n",
        "   rfe = RFE(lg_clf_2, i)\n",
        "   rfe.fit(norm_X_train, y_train)\n",
        "   ```\n",
        "   part gets the most important features using RFE.\n",
        "\n",
        "2. ```\n",
        "   rfe_features = list(norm_X_train.columns[rfe.support_])\n",
        "   rfe_X_train = norm_X_train[rfe_features]\n",
        "   ```\n",
        "   part creates a new data-frame containing the values of the most important feature(s) selected by RFE.\n",
        "\n",
        "3. ```\n",
        "   lg_clf_3 = LogisticRegression()\n",
        "   lg_clf_3.fit(rfe_X_train, y_train)\n",
        "   ```\n",
        "   part builds a logistic regression model using the most important feature(s) selected by RFE.\n",
        "\n",
        "4. ```\n",
        "   y_test_pred = lg_clf_3.predict(norm_X_test[rfe_features])\n",
        "   ```\n",
        "   part predicts the target values on the test set only as generally a machine learning model performs well on the training set.\n",
        "\n",
        "5. ```\n",
        "   f1_scores_array = f1_score(y_test, y_test_pred, average = None)\n",
        "   ```\n",
        "   part calculates f1-scores\n",
        "\n",
        "6. ```\n",
        "   dict_rfe[i] = {\"features\": list(rfe_features), \"f1_score\": f1_scores_array}\n",
        "   ```\n",
        "   part adds the number of features, features and their corresponding f1-scores as key-value pairs to the dictionary stored in the `dict_rfe` variable.\n",
        "\n",
        "Let's print the dictionary created."
      ]
    },
    {
      "cell_type": "code",
      "metadata": {
        "id": "mx87KQFxSxTx"
      },
      "source": [
        "# S3.2: Print the dictionary created in the previous exercise."
      ],
      "execution_count": null,
      "outputs": []
    },
    {
      "cell_type": "markdown",
      "metadata": {
        "id": "CV8-ktoQAXTo"
      },
      "source": [
        "Let's convert the `dict_rfe` dictionary to a Pandas DataFrame using the `from_dict()` function of `pandas` module. Pass `orient = index` parameter to the function to orient the DataFrame index-wise. Otherwise, the keys of the dictionary i.e. (1 through 12) will become columns.\n",
        "\n",
        "Moreover, we need columns having larger width in the data-frame as the columns will contain lists and arrays as their values. To do this you can use the `max_colwidth` attribute.\n",
        "\n",
        "**Syntax:** `pd.options.display.max_colwidth = W`\n",
        "\n",
        "where `W` is the required column width.\n",
        "\n",
        "Let's set the column widths to 100.\n"
      ]
    },
    {
      "cell_type": "code",
      "metadata": {
        "id": "dGKNSmKZaTck"
      },
      "source": [
        "# S3.3: Convert the dictionary to the dataframe\n"
      ],
      "execution_count": null,
      "outputs": []
    },
    {
      "cell_type": "markdown",
      "metadata": {
        "id": "gAxf5qBWwt4j"
      },
      "source": [
        "From the above data-frame, we can see that we get the best f1-scores for both the classes when we have 3 features which are `cp, oldpeak` and `ca`. Beyond this point, the number of features increase but the f1-scores increase only marginally. Hence, it is best to have these many features to build a prediction model to predict whether a patient has heart disease.\n",
        "\n",
        "Let's now rebuild a logistic regression model with the ideal number of features to predict whether a person has a heart disease."
      ]
    },
    {
      "cell_type": "code",
      "metadata": {
        "id": "xEftTX0v6DLF"
      },
      "source": [
        "# S3.4: Logistic Regression with the ideal number of features.\n"
      ],
      "execution_count": null,
      "outputs": []
    },
    {
      "cell_type": "markdown",
      "metadata": {
        "id": "U5FNaiGFwjfC"
      },
      "source": [
        "Let's stop here. In the next class, we will learn more metrics to evaluate a classification-based machine learning model."
      ]
    },
    {
      "cell_type": "markdown",
      "metadata": {
        "id": "DzywToBswi0j"
      },
      "source": [
        "----"
      ]
    }
  ]
}