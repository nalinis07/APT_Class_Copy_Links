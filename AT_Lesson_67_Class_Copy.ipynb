{
  "nbformat": 4,
  "nbformat_minor": 0,
  "metadata": {
    "colab": {
      "provenance": [],
      "include_colab_link": true
    },
    "kernelspec": {
      "name": "python3",
      "display_name": "Python 3"
    }
  },
  "cells": [
    {
      "cell_type": "markdown",
      "metadata": {
        "id": "view-in-github",
        "colab_type": "text"
      },
      "source": [
        "<a href=\"https://colab.research.google.com/github/nalinis07/APT_Class_Copy_Links/blob/MASTER/AT_Lesson_67_Class_Copy.ipynb\" target=\"_parent\"><img src=\"https://colab.research.google.com/assets/colab-badge.svg\" alt=\"Open In Colab\"/></a>"
      ]
    },
    {
      "cell_type": "markdown",
      "metadata": {
        "id": "cN_oEsXfM_LV"
      },
      "source": [
        "# Lesson 67: Car Price Prediction - Data Exploration"
      ]
    },
    {
      "cell_type": "markdown",
      "metadata": {
        "id": "gFjOAv8nAhzQ"
      },
      "source": [
        "### Teacher-Student Activities\n",
        "\n",
        "In the last class, you learn to calculate variance inflation factor to detect multicollinearity in a linear regression model. You also learnt that it is one of the ways to select features or eliminate features. Also, in the previous class, you concluded that the linear regression algorithm could not accurately predict the relative humdity values from the temperature and ozone values.\n",
        "\n",
        "In this class, we will solve another problem statement which is to predict prices of cars based on their technical specifications such as engine capacity, brand etc. To solve this problem, we will use linear regression and find out how well it predicts prices of cars_df.\n",
        "\n",
        "Let's look at the problem statement in detail."
      ]
    },
    {
      "cell_type": "markdown",
      "metadata": {
        "id": "7rqO31eQB5O-"
      },
      "source": [
        "---"
      ]
    },
    {
      "cell_type": "markdown",
      "metadata": {
        "id": "f-uhY3ryaj4N"
      },
      "source": [
        "### Problem Statement\n",
        "\n",
        "You need to build a linear regression model to predict prices of cars based on its technical specifications such as car manufacturer, its engine capacity, fuel efficiency, body-type etc.\n",
        "\n",
        "**Dataset Description:**\n",
        "\n",
        "The dataset contains 205 rows and 26 columns. Each column represents an attribute of a car as described in the table below.\n",
        "\n",
        "|Sr No.|Attribute|Attribute Information|\n",
        "|-|-|-|\n",
        "|1|Car_ID|Unique id of each car (Interger)|\n",
        "|2|Symboling|Assigned insurance risk rating; a value of +3 indicates that the car is risky; -3 suggests that it is probably a safe car (Categorical)|\n",
        "|3|carCompany|Name of car company (Categorical)|\n",
        "|4|fueltype| fuel-type i.e. petrol or diesel (Categorical)|\n",
        "|5|aspiration|Aspiration used in a car (Categorical)|\n",
        "|6|doornumber|Number of doors in a car (Categorical)|\n",
        "|7|carbody|Body-type of a car (Categorical)|\n",
        "|8|drivewheel|Type of drive wheel (Categorical)|\n",
        "|9|enginelocation|Location of car engine (Categorical)|\n",
        "|10|wheelbase|Weelbase of car (Numeric)|\n",
        "|11|carlength|Length of car (Numeric)|\n",
        "|12|carwidth|Width of car (Numeric)|\n",
        "|13|carheight|Height of car (Numeric)|\n",
        "|14|curbweight|The weight of a car without occupants or baggage (Numeric)|\n",
        "|15|enginetype|Type of engine (Categorical)|\n",
        "|16|cylindernumber|Number of cylinders placed in the car engine (Categorical)||17|enginesize|Capacity of an engine (Numeric)|\n",
        "|18|fuelsystem|Fuel system of a car (Categorical)|\n",
        "|19|boreratio|Bore ratio of car (Numeric)|\n",
        "|20|stroke|Stroke or volume inside the engine (Numeric)|\n",
        "|21|compressionratio|Compression ratio of an engine (Numeric)|\n",
        "|22|horsepower|Power output of an engine (Numeric)|\n",
        "|23|peakrpm|Peak revolutions per minute (Numeric)|\n",
        "|24|citympg|Mileage in city (Numeric)|\n",
        "|25|highwaympg|Mileage on highway (Numeric)|\n",
        "|26|price(Dependent variable)|Price of a car (Numeric)|\n",
        "\n",
        "This data set consists of three types of entities:\n",
        "\n",
        "- the specification of an auto in terms of various characteristics,\n",
        "\n",
        "- its assigned insurance risk rating,\n",
        "\n",
        "- its normalised losses in use as compared to other cars.\n",
        "\n",
        "The second rating corresponds to the degree to which the auto is more risky than its price indicates. Cars are initially assigned a risk factor symbol associated with its price. Then, if it is more risky (or less), this symbol is adjusted by moving it up (or down) the scale. Actuarians call this process **symboling**. A value of $+3$ indicates that the auto is risky, $-3$ that it is probably pretty safe.\n",
        "\n",
        "The third factor is the relative average loss payment per insured vehicle year. This value is normalized for all autos within a particular size classification (two-door small, station wagons, sports/speciality etc.), and represents the average loss per car per year.\n",
        "\n",
        "**Note:** Several of the attributes in the database could be used as a \"class\" attribute.\n",
        "\n",
        "**Dataset source:** https://archive.ics.uci.edu/ml/datasets/Automobile\n",
        "\n",
        "\n",
        "The above dataset consists of data taken from 1985 Ward's Automotive Yearbook. Here's the list of original sources of the data:\n",
        "\n",
        "1. 1985 Model Import Car and Truck Specifications, 1985 Ward's Automotive Yearbook.\n",
        "\n",
        "2. Personal Auto Manuals, Insurance Services Office, 160 Water Street, New York, NY 10038\n",
        "\n",
        "3. Insurance Collision Report, Insurance Institute for Highway Safety, Watergate 600, Washington, DC 20037\n",
        "\n",
        "\n",
        "\n",
        "\n"
      ]
    },
    {
      "cell_type": "markdown",
      "metadata": {
        "id": "SZEA9P6hDG28"
      },
      "source": [
        "---"
      ]
    },
    {
      "cell_type": "markdown",
      "metadata": {
        "id": "keVeYBHNDHh8"
      },
      "source": [
        "#### Activity 1: Importing Modules & Reading Data\n",
        "\n",
        "Let's import the modules, read the data froma `csv` file to create a data frame and go through the necessary data-cleaning process (if required). Here's the link to the dataset:\n",
        "\n",
        "https://s3-student-datasets-bucket.whjr.online/whitehat-ds-datasets/car-prices.csv"
      ]
    },
    {
      "cell_type": "code",
      "metadata": {
        "id": "5f2emlnJM56A"
      },
      "source": [
        "# S1.1: Import the modules, read the dataset and create a Pandas DataFrame.\n"
      ],
      "execution_count": null,
      "outputs": []
    },
    {
      "cell_type": "code",
      "metadata": {
        "id": "7SebX417NgFv"
      },
      "source": [
        "# S1.2: Get the information on the dataset.\n"
      ],
      "execution_count": null,
      "outputs": []
    },
    {
      "cell_type": "markdown",
      "metadata": {
        "id": "tVyfHrZaS0Zw"
      },
      "source": [
        "There are 0 missing or null values in the dataset. Also, a lot of features have non-numeric values. You need to utilise all of them to predict the prices of cars."
      ]
    },
    {
      "cell_type": "markdown",
      "metadata": {
        "id": "fZGfnN-mV6_a"
      },
      "source": [
        "---"
      ]
    },
    {
      "cell_type": "markdown",
      "metadata": {
        "id": "Hy853LbgOVhi"
      },
      "source": [
        "#### Activitiy 2: Data Cleaning^\n",
        "\n",
        "Let's clean the data. You need to extract the name of the manufacturer of a from the column `CarName`. Let's look at the first few rows of the `'CarName'` column to understand how the name of a car is reported in the dataset."
      ]
    },
    {
      "cell_type": "code",
      "metadata": {
        "id": "L0DQGjY_Objl"
      },
      "source": [
        "# S2.1: Display the first 25 rows of the 'CarName' column.\n"
      ],
      "execution_count": null,
      "outputs": []
    },
    {
      "cell_type": "markdown",
      "metadata": {
        "id": "iVKoLpUCOdya"
      },
      "source": [
        "Notice that the name of a car follows the name of its manufacturer as illustrated below:\n",
        "\n",
        "- `alfa-romero` is the manufacturer of `giulia, stelvio` etc cars,\n",
        "\n",
        "- `audi` is the manufacturer of `100 ls, fox` etc cars,\n",
        "\n",
        "- `bmw` is the manufacturer of `x1, x3` etc cars\n",
        "\n",
        "and so on.\n",
        "\n",
        "Thus, you need to extract the string before a space."
      ]
    },
    {
      "cell_type": "code",
      "metadata": {
        "id": "92qIjB90Yk7S"
      },
      "source": [
        "# S2.2: Extract the name of the manufactures from the car names and display the first 25 cars to verify whether names are extracted successfully.\n"
      ],
      "execution_count": null,
      "outputs": []
    },
    {
      "cell_type": "markdown",
      "metadata": {
        "id": "Wb8NNJ_-Ohq7"
      },
      "source": [
        "Let's add a new column to the `cars_df` DataFrame that stores the company names."
      ]
    },
    {
      "cell_type": "code",
      "metadata": {
        "id": "UDnJ-hXmOmwk"
      },
      "source": [
        "# S2.3: Create a new column named 'car_company'. It should store the company names of a the cars.\n"
      ],
      "execution_count": null,
      "outputs": []
    },
    {
      "cell_type": "markdown",
      "metadata": {
        "id": "Axr__MNIbxk7"
      },
      "source": [
        "You may get the count of number of the cars sold by each manufacturer in the dataset."
      ]
    },
    {
      "cell_type": "code",
      "metadata": {
        "id": "ngKfiuUHaFRU"
      },
      "source": [
        "# S2.4: Get the count of number of the cars sold by each manufacturer in the dataset.\n"
      ],
      "execution_count": null,
      "outputs": []
    },
    {
      "cell_type": "markdown",
      "metadata": {
        "id": "g86xk0ALOrtd"
      },
      "source": [
        "As you can see, Toyota has sold the highest number of cars in this dataset.\n",
        "\n",
        "Notice that the following manufacturer names are misspelled or not regularised (follows the same case i.e. uppper case or lower case or title case):\n",
        "\n",
        "- `vw` and `vokswagen` should be `volkswagen`,\n",
        "\n",
        "- `porcshce` should be `porsche`,\n",
        "\n",
        "- `toyouta` should be `toyota`,\n",
        "\n",
        "- `Nissan` should be `nissan`,\n",
        "\n",
        "- `maxda` should be `mazda`\n",
        "\n",
        "To maintain the quality of data, let's resolve the above issues."
      ]
    },
    {
      "cell_type": "code",
      "metadata": {
        "id": "LQ1RrXpFOt7e"
      },
      "source": [
        "# S2.5: Replace the misspelled 'car_company' names with their correct names.\n",
        "\n",
        "# volkswagen\n",
        "\n",
        "# porsche\n",
        "\n",
        "# toyota\n",
        "\n",
        "# nissan\n",
        "\n",
        "# mazda\n"
      ],
      "execution_count": null,
      "outputs": []
    },
    {
      "cell_type": "markdown",
      "metadata": {
        "id": "7ldJklvGcYys"
      },
      "source": [
        "Now get the count of number of the cars sold by each manufacturer in the dataset again to verify whether the names are corrected successfully or not."
      ]
    },
    {
      "cell_type": "code",
      "metadata": {
        "id": "keDlpEGcOvop"
      },
      "source": [
        "# S2.6: Get the count of number of the cars sold by each manufacturer in the dataset again\n"
      ],
      "execution_count": null,
      "outputs": []
    },
    {
      "cell_type": "markdown",
      "metadata": {
        "id": "mxLBYYlqOxwB"
      },
      "source": [
        "Finally the manufacturer names are successfully corrected. Let's now drop the `'CarName'` column as it is of no use to us."
      ]
    },
    {
      "cell_type": "code",
      "metadata": {
        "id": "vh3djZ0jO1Td"
      },
      "source": [
        "# S2.7: Drop 'CarName' column from the 'cars_df' DataFrame.\n"
      ],
      "execution_count": null,
      "outputs": []
    },
    {
      "cell_type": "code",
      "metadata": {
        "id": "kZ_TLd5BO24p"
      },
      "source": [
        "# S2.8: Print the names of the columns to verify whether the 'CarName' column is dropped or not.\n"
      ],
      "execution_count": null,
      "outputs": []
    },
    {
      "cell_type": "markdown",
      "metadata": {
        "id": "pnvF-2yUfjSM"
      },
      "source": [
        "---"
      ]
    },
    {
      "cell_type": "markdown",
      "metadata": {
        "id": "a2XCTJnXN6ZV"
      },
      "source": [
        "#### Activity 3: Data Preparation^^\n",
        "\n",
        "To build linear regression, all the features need to have numeric values.\n",
        "\n",
        "So, let's first extract all the numeric features from the `cars_df` DataFrame. For this, you need to use the `select_dtypes()` function. It takes a list of data-types (in the form of strings) as inputs that need to be extracted.\n",
        "\n",
        "**Syntax:** `data_frame.select_dtypes(include = ['data_type1', 'data_type2', ..., data_typeN])`\n",
        "\n",
        "where `'data_type1', 'data_type2', ..., data_typeN` are $N$ different types of data-types that you wish to extract.\n",
        "\n",
        "\n"
      ]
    },
    {
      "cell_type": "code",
      "metadata": {
        "id": "c93lTh9bgSDu"
      },
      "source": [
        "# S3.1: Use the 'info()' function to get the data-types of each column.\n"
      ],
      "execution_count": null,
      "outputs": []
    },
    {
      "cell_type": "markdown",
      "metadata": {
        "id": "n7l9_-1KgfJf"
      },
      "source": [
        "The numeric objects are of `int64` and `float64` data-types. You need to extract the features having these data-types."
      ]
    },
    {
      "cell_type": "code",
      "metadata": {
        "id": "oTDuc7NCN8IC"
      },
      "source": [
        "# S3.2: Extract all the numeric (float and int type) columns from the dataset.\n"
      ],
      "execution_count": null,
      "outputs": []
    },
    {
      "cell_type": "markdown",
      "metadata": {
        "id": "5DibxHMRN_Zo"
      },
      "source": [
        "The `car_ID` column is of no use to build a linear regression model. So, let's drop it."
      ]
    },
    {
      "cell_type": "code",
      "metadata": {
        "id": "cnsASyO1N_mm"
      },
      "source": [
        "# S3.3: Drop the 'car_ID' column from the 'cars_numeric_df' DataFrame.\n"
      ],
      "execution_count": null,
      "outputs": []
    },
    {
      "cell_type": "markdown",
      "metadata": {
        "id": "Kt-ihOCBOM4i"
      },
      "source": [
        "Let's find out the features that strongly and moderately are correlated to the price of a car."
      ]
    },
    {
      "cell_type": "code",
      "metadata": {
        "id": "4qmyNiuSOMRW"
      },
      "source": [
        "# S3.4: Draw a correlation heatmap between the numeric features.\n"
      ],
      "execution_count": null,
      "outputs": []
    },
    {
      "cell_type": "markdown",
      "metadata": {
        "id": "NJ6gIZaBOS0z"
      },
      "source": [
        "The heatmap shows some useful insights:\n",
        "\n",
        "**Correlation of `price` with independent variables**\n",
        "\n",
        "- `price` is highly and positively correlated with `wheelbase, carlength, carwidth, curbweight, enginesize` and `horsepower`\n",
        "\n",
        "- `price` is negatively correlated to `citympg` and `highwaympg` (`-0.70` approximately). This suggest that cars having high mileage may fall in the 'economy' cars category, and are priced lower. These cars are designed to be affordable by the budget buyers who value more fuel efficiency mileage over powerful engine\n",
        "\n",
        "**Correlation among independent variables**\n",
        "\n",
        "- Many independent variables are highly correlated (top-left part of the heatmap) such as `wheelbase, carlength, curbweight, enginesize` etc. They are all measures of size and weight and are positively correlated\n",
        "\n",
        "So you need to be wary of multicollinearity in the linear regression model that you build.\n",
        "\n",
        "Now let's look at the first five rows of the `doornumber` and `cylindernumber` columns."
      ]
    },
    {
      "cell_type": "code",
      "metadata": {
        "id": "SkUDiftUO_LT"
      },
      "source": [
        "# S3.5: Get the first five rows of the 'doornumber' and 'cylindernumber' columns.\n"
      ],
      "execution_count": null,
      "outputs": []
    },
    {
      "cell_type": "markdown",
      "metadata": {
        "id": "UtvfJwt3PCWO"
      },
      "source": [
        "Notice that the `doornumber` and `cylindernumber` columns are supposed to have numeric type values. But the numbers are reported in the word of words. So, you need to replace these words with the corresponding numbers. For this you can use the `map()` function. But first let's get the counts of all the values in the above two columns so that we can verify with these counts whether the the conversion to numeric values was successful or not.\n",
        "\n"
      ]
    },
    {
      "cell_type": "code",
      "metadata": {
        "id": "6q3rg6STPEH_"
      },
      "source": [
        "# S3.6: Count the occurrence of each value in the 'cylindernumber' column.\n"
      ],
      "execution_count": null,
      "outputs": []
    },
    {
      "cell_type": "markdown",
      "metadata": {
        "id": "8eQJwzs2oJXr"
      },
      "source": [
        "So, you need to represent the above numbers (written in words) into their numeric forms."
      ]
    },
    {
      "cell_type": "code",
      "metadata": {
        "id": "cQXUlk6zPF3N"
      },
      "source": [
        "# S3.7: Count the occurrence of each value in the 'doornumber' column.\n"
      ],
      "execution_count": null,
      "outputs": []
    },
    {
      "cell_type": "markdown",
      "metadata": {
        "id": "eptGzLc3opI4"
      },
      "source": [
        "Here, you need to represent `two` and `four` to their numeric forms.Now, let's learn the `map()` function."
      ]
    },
    {
      "cell_type": "markdown",
      "metadata": {
        "id": "ou4MdnaonloW"
      },
      "source": [
        "---"
      ]
    },
    {
      "cell_type": "markdown",
      "metadata": {
        "id": "_MU9QdOBnmoD"
      },
      "source": [
        "#### Activity 4: The `map()` Function^^^\n",
        "\n",
        "A map function is similar to a match the coloum exercise. You have a match one set of values with the other set of values.\n",
        "\n",
        "Here you need to map:\n",
        "\n",
        "- `two` to `2`\n",
        "\n",
        "- `three` to `3`\n",
        "\n",
        "- `four` to `4`\n",
        "\n",
        "- `five` to `5`\n",
        "\n",
        "- `six` to `6`\n",
        "\n",
        "- `eight` to `8`\n",
        "\n",
        "- `twelve` to `12`\n",
        "\n",
        "To do the above replacement,\n",
        "\n",
        "1. First, you need to create a dictionary in which the words are keys and their corresponding numeric representations are the values.\n",
        "\n",
        "2. Apply the `map()` function. It takes the dictionary created in step one as an input.\n",
        "\n",
        "Let's understand this concept with the help of an example. Let's first create a Pandas series containing the above 7 numbers in the word form. Then let's create a dictionary as discussed in the first point. And then apply the `map()` function.\n",
        "\n"
      ]
    },
    {
      "cell_type": "code",
      "metadata": {
        "id": "JnT3lbPMpueY"
      },
      "source": [
        "# T4.1: Use the 'map()' function to replace a words in a Pandas series to their corresponding numeric values.\n"
      ],
      "execution_count": null,
      "outputs": []
    },
    {
      "cell_type": "markdown",
      "metadata": {
        "id": "D7_l-rdytCvA"
      },
      "source": [
        "**How does the `map()` function works?**\n",
        "\n",
        "It iterates through each element in a series (or array), and then look for that item as a key in the dictionary (the input to the `map()` function). If the key is found, then it replaces the key with its corresponding value in the dictionary.\n"
      ]
    },
    {
      "cell_type": "code",
      "metadata": {
        "id": "p3kO9pkpPHkX"
      },
      "source": [
        "# S4.1: Map the values of the 'doornumber' and 'cylindernumber' columns to their corresponding numeric values.\n"
      ],
      "execution_count": null,
      "outputs": []
    },
    {
      "cell_type": "markdown",
      "metadata": {
        "id": "WCl-iNztujQM"
      },
      "source": [
        "Now let's display the first five rows of the `'cylindernumber'` and `'doornumber'` columns to verify whether the replacement was successful or not. Let's also check whether the data-types are integer or not."
      ]
    },
    {
      "cell_type": "code",
      "metadata": {
        "id": "wpFuqr0DuIXN"
      },
      "source": [
        "# S4.2: Display the first five rows of the 'cylindernumber' and 'doornumber' columns. Also, check whether the data-types are integer or not.\n"
      ],
      "execution_count": null,
      "outputs": []
    },
    {
      "cell_type": "markdown",
      "metadata": {
        "id": "Y1Vivhfmvct1"
      },
      "source": [
        "Let's stop here now. We are very close to building the linear regression model to predict the car prices that we shall continue from the next class."
      ]
    },
    {
      "cell_type": "markdown",
      "metadata": {
        "id": "iSWyMq-gv9vM"
      },
      "source": [
        "---"
      ]
    },
    {
      "cell_type": "markdown",
      "metadata": {
        "id": "HqB16w5orIS9"
      },
      "source": [
        "### **Project**\n",
        "You can now attempt the **Applied Tech. Project 67 - Car Prices Prediction - Data Exploration** on your own.\n",
        "\n",
        "**Applied Tech. Project 67 - Car Prices Prediction - Data\n",
        "Exploration**: https://colab.research.google.com/drive/1veWqbTIAiODYA8xMrXIT782MOU56ZXLx"
      ]
    }
  ]
}